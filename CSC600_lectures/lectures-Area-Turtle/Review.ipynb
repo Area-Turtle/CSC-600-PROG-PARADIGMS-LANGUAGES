{
 "cells": [
  {
   "cell_type": "code",
   "execution_count": 1,
   "id": "3f1a634c",
   "metadata": {},
   "outputs": [],
   "source": [
    "import ts from \"typescript\";\n",
    "import { requireCytoscape, requireCarbon, linePlot, draw, drawMemTrace, memLayout } from \"./lib/draw\";"
   ]
  },
  {
   "cell_type": "markdown",
   "id": "9faa96c5",
   "metadata": {},
   "source": [
    "# Review"
   ]
  },
  {
   "cell_type": "markdown",
   "id": "a5cc2486",
   "metadata": {},
   "source": [
    "## Algebraic data-types\n",
    "\n",
    "```\n",
    "type tree<T> = \n",
    "    { tag: \"LEAF\" }\n",
    "  | { tag: \"NODE\", contents: T, left: tree<T>, right: tree<T> };\n",
    "```"
   ]
  },
  {
   "cell_type": "markdown",
   "id": "8c908d1b",
   "metadata": {},
   "source": [
    "## Recursion\n",
    "\n",
    "```\n",
    "function f(x) {\n",
    "   ... f(smaller x);\n",
    "}\n",
    "```\n",
    "\n",
    "```\n",
    "max([1, 2, 3, 4, 5, 6])\n",
    "  max(1, max([2, 3, 4, 5, 6]))\n",
    "\n",
    "  max(max([1, 2, 3]), max([4, 5, 6]))\n",
    "```\n",
    "\n",
    "```\n",
    "sort([1, 2, 3, 4, 5, 6])\n",
    "merge(sort([1, 2, 3]), sort([4, 5, 6]))\n",
    "merge([3,2,1], [6,5,4])\n",
    "\n",
    "sort([1, 2, 3])\n",
    "   merge(sort([1, 2]), sort([3]))\n",
    "```\n",
    "\n"
   ]
  },
  {
   "cell_type": "markdown",
   "id": "900146f8",
   "metadata": {},
   "source": [
    "## First-class functions\n",
    "\n",
    "```\n",
    "(x: number) => (y: (z: number) => number) => y(x)\n",
    "\n",
    "function map<T, U>(f: (x: T) => U): U[] {\n",
    "   ...\n",
    "}\n",
    "\n",
    "function filter<T>(f: (x: T) => boolean): T[] {\n",
    "   ...\n",
    "}\n",
    "\n",
    "function reduce<T, U>(f: (acc: U, x:T) => U): U {\n",
    "   ...\n",
    "}\n",
    "\n",
    "```"
   ]
  },
  {
   "cell_type": "markdown",
   "id": "bba90023",
   "metadata": {},
   "source": [
    "## Pure vs. impure functions\n",
    "\n",
    "```\n",
    "pure(1) = 2\n",
    "pure(1) = 2\n",
    "pure(1) = 2\n",
    "pure(1) = 2\n",
    "pure(1) = 2\n",
    "pure(1) = 2\n",
    "\n",
    "question: what does pure(1) give?\n",
    "\n",
    "impure(1) = 2\n",
    "impure(1) = 3\n",
    "impure(1) = 3\n",
    "impure(1) = 3\n",
    "impure(1) = 2\n",
    "impure(1) = 1\n",
    "impure(1) = 5\n",
    "\n",
    "question: what does impure(1) give?\n",
    "```"
   ]
  },
  {
   "cell_type": "markdown",
   "id": "c8b87a15",
   "metadata": {},
   "source": [
    "## Closures\n",
    "\n",
    "```\n",
    "onClick(callback);\n",
    "\n",
    "let counter = 0;\n",
    "function callback(x) {\n",
    "  .. use x and counter\n",
    "}\n",
    "```"
   ]
  },
  {
   "cell_type": "markdown",
   "id": "1bc3185b",
   "metadata": {},
   "source": [
    "## LeetCode Problem 30: Substring with Concatenation of All Words\n",
    "\n",
    "27.1% Hard\n",
    "\n",
    "You are given a string s and an array of strings words of the same length.\n",
    "Return all starting indices of substring(s) in s that is a concatenation of each word\n",
    "in words exactly once, in any order, and without any intervening characters.\n",
    "\n",
    "You can return the answer in any order."
   ]
  },
  {
   "cell_type": "markdown",
   "id": "25ad2c65",
   "metadata": {},
   "source": [
    "### Example 1:\n",
    "\n",
    "```\n",
    "Input: s = \"barfoothefoobarman\", words = [\"foo\",\"bar\"]\n",
    "Output: [0,9]\n",
    "Explanation: Substrings starting at index 0 and 9 are \"barfoo\" and \"foobar\" respectively.\n",
    "The output order does not matter, returning [9,0] is fine too.\n",
    "```"
   ]
  },
  {
   "cell_type": "markdown",
   "id": "27a6f7dc",
   "metadata": {},
   "source": [
    "### Example 2:\n",
    "\n",
    "```\n",
    "Input: s = \"wordgoodgoodgoodbestword\", words = [\"word\",\"good\",\"best\",\"word\"]\n",
    "Output: []\n",
    "```"
   ]
  },
  {
   "cell_type": "markdown",
   "id": "f52a6776",
   "metadata": {},
   "source": [
    "### Example 3:\n",
    "\n",
    "```\n",
    "Input: s = \"barfoofoobarthefoobarman\", words = [\"bar\",\"foo\",\"the\"]\n",
    "Output: [6,9,12]\n",
    "```"
   ]
  },
  {
   "cell_type": "markdown",
   "id": "7b5c7cb4",
   "metadata": {},
   "source": [
    "### Example 4:\n",
    "\n",
    "```\n",
    "Input: s = \"anttan\", words = [\"ant\", \"tan\"]\n",
    "Output: [0]\n",
    "```"
   ]
  },
  {
   "cell_type": "code",
   "execution_count": 2,
   "id": "1e000083",
   "metadata": {},
   "outputs": [],
   "source": [
    "const s = \"barfoothefoobarman\";\n",
    "const words = [\"foo\",\"bar\"];\n",
    "const s2 = \"wordgoodgoodgoodbestword\";\n",
    "const words2 = [\"word\",\"good\",\"best\",\"word\"];\n",
    "const s3 = \"barfoofoobarthefoobarman\";\n",
    "const words3 = [\"bar\",\"foo\",\"the\"];\n",
    "const s4 = \"lingmindraboofooowingdingbarrwingmonkeypoundcake\";\n",
    "const words4 = [\"fooo\",\"barr\",\"wing\",\"ding\",\"wing\"];"
   ]
  },
  {
   "cell_type": "markdown",
   "id": "fc1ad955",
   "metadata": {},
   "source": [
    "```\n",
    "findSubstring(\"barfoothefoobarman\", [\"foo\",\"bar\"]);\n",
    "  findSubstring(\"foothefoobarman\", [\"foo\"]);\n",
    "    findSubstring(\"thefoobarman\", []);\n",
    "      - in my base case, []\n",
    "```"
   ]
  },
  {
   "cell_type": "markdown",
   "id": "bdb47218",
   "metadata": {},
   "source": [
    "```\n",
    "findSubstring([\"bar\", \"foo\", \"the\", \"foo\", \"bar\", \"man\"], [\"foo\",\"bar\"]);\n",
    "  findSubstring([\"foo\", \"the\", \"foo\", \"bar\", \"man\"], [\"foo\"]);\n",
    "    findSubstring([\"the\", \"foo\", \"bar\", \"man\"], []);\n",
    "      - in my base case, []\n",
    "```\n",
    "      "
   ]
  },
  {
   "cell_type": "code",
   "execution_count": 3,
   "id": "969be321",
   "metadata": {},
   "outputs": [],
   "source": [
    "type lcstr = \n",
    "    { tag: \"LEAF\" } // \"\"\n",
    "  | { tag: \"WORD\", word: string, idx: number, rest: lcstr };\n",
    "\n",
    "function Leaf(): lcstr {\n",
    "    return { tag: \"LEAF\" };\n",
    "}\n",
    "\n",
    "function Word(word: string, idx: number, rest: lcstr): lcstr {\n",
    "    return { tag: \"WORD\", word: word, idx: idx, rest: rest };\n",
    "}\n",
    "\n",
    "function lcstrToString(s: lcstr) {\n",
    "    switch (s.tag) {\n",
    "        case \"LEAF\": {\n",
    "            return \"\";\n",
    "        }\n",
    "        case \"WORD\": {\n",
    "            return s.word + s.idx + lcstrToString(s.rest);\n",
    "        }\n",
    "    }\n",
    "}"
   ]
  },
  {
   "cell_type": "code",
   "execution_count": 4,
   "id": "a7759fad",
   "metadata": {},
   "outputs": [
    {
     "name": "stdout",
     "output_type": "stream",
     "text": [
      "bar0foo3the6foo9bar12man15\n"
     ]
    }
   ],
   "source": [
    "function stringToLcstr(s: string, len: number): lcstr {\n",
    "    function go(s: string, idx: number) {\n",
    "        if (s.length === 0) {\n",
    "            return Leaf();\n",
    "        } else {\n",
    "            return Word(s.substring(0, len), idx, go(s.substring(len), idx + len));\n",
    "        }\n",
    "    }\n",
    "    return go(s, 0);\n",
    "}\n",
    "\n",
    "// const s = \"barfoothefoobarman\";\n",
    "// const words = [\"foo\",\"bar\"];\n",
    "\n",
    "lcstrToString(stringToLcstr(s, 3))\n",
    "// stringToLcstr(s, 3)"
   ]
  },
  {
   "cell_type": "code",
   "execution_count": 5,
   "id": "e49a559d",
   "metadata": {},
   "outputs": [],
   "source": [
    "// findSubstring([\"bar\", \"foo\", \"the\", \"foo\", \"bar\", \"man\"], [\"foo\",\"bar\"]);\n",
    "//   findSubstring([\"foo\", \"the\", \"foo\", \"bar\", \"man\"], [\"foo\"]);\n",
    "//     findSubstring([\"the\", \"foo\", \"bar\", \"man\"], []);\n",
    "//       - in my base case, []\n",
    "\n",
    "function search(start: number, s: lcstr, words: string[]) {\n",
    "    switch (s.tag) {\n",
    "        case \"LEAF\": {\n",
    "            return words.length === 0 ? start : undefined;\n",
    "        }\n",
    "        case \"WORD\": {\n",
    "            if (words.length === 0){\n",
    "                return start;\n",
    "            } else {\n",
    "                for (let i = 0; i < words.length; i++) {\n",
    "                    if (words[i] === s.word) {\n",
    "                        start = start === undefined ? s.idx : start;\n",
    "                        const smallerWords = words.slice(0, i).concat(words.slice(i + 1));\n",
    "                        return search(start, s.rest, smallerWords);\n",
    "                    }\n",
    "                }\n",
    "                return undefined;\n",
    "            }\n",
    "        }\n",
    "    }\n",
    "}"
   ]
  },
  {
   "cell_type": "code",
   "execution_count": 6,
   "id": "cdea7b01",
   "metadata": {},
   "outputs": [
    {
     "name": "stdout",
     "output_type": "stream",
     "text": [
      "[ \u001b[33m1\u001b[39m, \u001b[33m2\u001b[39m ]\n",
      "[ \u001b[33m4\u001b[39m ]\n",
      "[ \u001b[33m1\u001b[39m, \u001b[33m2\u001b[39m, \u001b[33m4\u001b[39m ]\n"
     ]
    }
   ],
   "source": [
    "const arr = [1, 2, 3, 4];\n",
    "const i = 2;\n",
    "const left = arr.slice(0, i) // [1, 2]\n",
    "const right = arr.slice(i + 1) // [4]\n",
    "console.log(left)\n",
    "console.log(right)\n",
    "left.concat(right)"
   ]
  },
  {
   "cell_type": "code",
   "execution_count": 7,
   "id": "17bb3216",
   "metadata": {},
   "outputs": [
    {
     "name": "stdout",
     "output_type": "stream",
     "text": [
      "\u001b[33m0\u001b[39m\n"
     ]
    }
   ],
   "source": [
    "const s = \"barfoothefoobarman\";\n",
    "const words = [\"foo\",\"bar\"];\n",
    "search(0, stringToLcstr(s, 3), words)"
   ]
  },
  {
   "cell_type": "code",
   "execution_count": 8,
   "id": "e678437c",
   "metadata": {},
   "outputs": [],
   "source": [
    "function go(acc: number[], lc: lcstr) {\n",
    "    switch (lc.tag) {\n",
    "        case \"LEAF\": {\n",
    "            return acc;\n",
    "        }\n",
    "        case \"WORD\": {\n",
    "            const res = search(undefined, lc, words);\n",
    "            if (res !== undefined) {\n",
    "                acc.push(res);\n",
    "                return go(acc, lc.rest);\n",
    "            } else {\n",
    "                return go(acc, lc.rest);\n",
    "            }\n",
    "        }\n",
    "    }\n",
    "}\n"
   ]
  },
  {
   "cell_type": "code",
   "execution_count": 9,
   "id": "1cd3baf0",
   "metadata": {},
   "outputs": [],
   "source": [
    "function findSubstring(s: string, words: string[]): number[] {\n",
    "    if (words.length === 0) {\n",
    "        return [];\n",
    "    }\n",
    "\n",
    "    // 1. Create a model\n",
    "    type lcstr = \n",
    "        { tag: \"LEAF\" }\n",
    "      | { tag: \"WORD\", word: string, idx: number, rest: lcstr };\n",
    "\n",
    "    function Leaf(): lcstr {\n",
    "        return { tag: \"LEAF\" };\n",
    "    }\n",
    "\n",
    "    function Word(word: string, idx: number, rest: lcstr): lcstr {\n",
    "        return { tag: \"WORD\", word: word, idx: idx, rest: rest };\n",
    "    }\n",
    "    \n",
    "    // 2. Solved a reduced problem\n",
    "    function search(start: number, s: lcstr, words: string[]) {\n",
    "        switch (s.tag) {\n",
    "            case \"LEAF\": {\n",
    "                return words.length === 0 ? start : undefined;\n",
    "            }\n",
    "            case \"WORD\": {\n",
    "                if (words.length === 0){\n",
    "                    return start;\n",
    "                } else {\n",
    "                    for (let i = 0; i < words.length; i++) {\n",
    "                        if (words[i] === s.word) {\n",
    "                            start = start === undefined ? s.idx : start;\n",
    "                            return search(start, s.rest, words.slice(0, i).concat(words.slice(i + 1)));\n",
    "                        }\n",
    "                    }\n",
    "                    return undefined;\n",
    "                }\n",
    "            }\n",
    "        }\n",
    "    }\n",
    "    \n",
    "    // 3. Used the reduced problem to solve the actual problem\n",
    "    function go(acc: number[], lc: lcstr) {\n",
    "        switch (lc.tag) {\n",
    "            case \"LEAF\": {\n",
    "                return acc;\n",
    "            }\n",
    "            case \"WORD\": {\n",
    "                const res = search(undefined, lc, words);\n",
    "                if (res !== undefined) {\n",
    "                    acc.push(res);\n",
    "                    return go(acc, lc.rest);\n",
    "                } else {\n",
    "                    return go(acc, lc.rest);\n",
    "                }\n",
    "            }\n",
    "        }\n",
    "    }\n",
    "    \n",
    "//     const s3 = \"bar foo foo bar the foo bar man\";\n",
    "//     const words3 = [\"bar\",\"foo\",\"the\"];\n",
    "    let acc: number[][] = [];\n",
    "    for (let i = 0; i < words[0].length; i++) {\n",
    "        // i = 0 \"go(barfoofoobarthefoobarman, [\"bar\",\"foo\",\"the\"])\";\n",
    "        // i = 1 \"go(arfoofoobarthefoobarman, [\"bar\",\"foo\",\"the\"])\";\n",
    "        // i = 2 \"go(rfoofoobarthefoobarman)\";\n",
    "        acc.push(go([], stringToLcstr(s.substring(i), words[0].length)).map((x: number) => x + i))\n",
    "    }\n",
    "    \n",
    "    return acc.reduce((acc, x) => acc.concat(x));\n",
    "}\n",
    "\n"
   ]
  },
  {
   "cell_type": "code",
   "execution_count": 10,
   "id": "1cdde223",
   "metadata": {},
   "outputs": [],
   "source": [
    "function timeFunction(name, f) {\n",
    "    console.log(`--------------------------`);\n",
    "    console.log(`${name} started..`);\n",
    "    const t0 = process.hrtime()\n",
    "    f();\n",
    "    const t1 = process.hrtime(t0);\n",
    "    console.log(`${f.name} completed..`);\n",
    "    console.info('Execution time (hr): %ds %dms', t1[0], t1[1] / 1000000);\n",
    "    return t1[0] + t1[1] / 1000000 / 1000;\n",
    "}\n"
   ]
  },
  {
   "cell_type": "code",
   "execution_count": 11,
   "id": "0568a58a",
   "metadata": {},
   "outputs": [
    {
     "name": "stdout",
     "output_type": "stream",
     "text": [
      "--------------------------\n",
      "findSubstring started..\n",
      " completed..\n",
      "Execution time (hr): 0s 2.569417ms\n",
      "--------------------------\n",
      "findSubstring started..\n",
      " completed..\n",
      "Execution time (hr): 0s 3.736458ms\n",
      "--------------------------\n",
      "findSubstring started..\n",
      " completed..\n",
      "Execution time (hr): 0s 2.53375ms\n",
      "--------------------------\n",
      "findSubstring started..\n",
      " completed..\n",
      "Execution time (hr): 0s 4.118458ms\n",
      "--------------------------\n",
      "findSubstring started..\n",
      " completed..\n",
      "Execution time (hr): 0s 8.210708ms\n",
      "--------------------------\n",
      "findSubstring started..\n",
      " completed..\n",
      "Execution time (hr): 0s 9.178417ms\n",
      "--------------------------\n",
      "findSubstring started..\n",
      " completed..\n",
      "Execution time (hr): 0s 17.545875ms\n",
      "--------------------------\n",
      "findSubstring started..\n",
      " completed..\n",
      "Execution time (hr): 0s 17.332708ms\n",
      "--------------------------\n",
      "findSubstring started..\n",
      " completed..\n",
      "Execution time (hr): 0s 21.104792ms\n"
     ]
    },
    {
     "data": {
      "text/html": [
       "\n",
       "  <style>\n",
       "    #mydiv48d7bb6f-677b-4175-aaa9-ff9f4854e077 {\n",
       "        width: 800px;\n",
       "        height: 350px;\n",
       "        top: 0px;\n",
       "        left: 0px;\n",
       "    }\n",
       "  </style>\n",
       "\n",
       "  <div>\n",
       "    <canvas id=\"mydiv48d7bb6f-677b-4175-aaa9-ff9f4854e077\"></canvas>\n",
       "  </div>\n",
       "\n",
       "  <script>\n",
       "    (function(element) {\n",
       "        require(['./node_modules/chart.js/dist/chart.js'], function(Chart) {   \n",
       "          const labels = [\n",
       "            'January',\n",
       "            'February',\n",
       "            'March',\n",
       "            'April',\n",
       "            'May',\n",
       "            'June',\n",
       "          ];\n",
       "          const data = {\n",
       "            labels: [\n",
       "   610, 1220, 1830,\n",
       "  2440, 3050, 3660,\n",
       "  4270, 4880, 5490\n",
       "],\n",
       "            datasets: [{\n",
       "        label: \"0\",\n",
       "        backgroundColor: 'rgb(44, 62, 80)',\n",
       "        borderColor: 'rgb(44, 62, 80)',\n",
       "        data: [\n",
       "  0.002569417, 0.003736458,\n",
       "   0.00253375, 0.004118458,\n",
       "  0.008210708, 0.009178417,\n",
       "  0.017545875, 0.017332708,\n",
       "  0.021104792\n",
       "],\n",
       "      }]\n",
       "          };\n",
       "          const config = {\n",
       "            type: 'line',\n",
       "            data: data,\n",
       "            options: {}\n",
       "          };\n",
       "          var myChart = new Chart(\n",
       "              document.getElementById(\"mydiv48d7bb6f-677b-4175-aaa9-ff9f4854e077\"),\n",
       "              config\n",
       "            );\n",
       "        });\n",
       "    })(this.element);\n",
       "</script>\n",
       " "
      ]
     },
     "metadata": {},
     "output_type": "display_data"
    }
   ],
   "source": [
    "const counts = [];\n",
    "const times = [];\n",
    "for (let i = 1; i < 10; i++) {\n",
    "    let s = \"\";\n",
    "    const words = [];\n",
    "    for (let j = 0; j < i*10; j++) {\n",
    "        s += \"aaaaaaaaaaaaaaaaaaaaaaaaaaaaaaaaaaaaaaaaaaaaaaaaaaaaaaaaaaaaa\";\n",
    "        for (let k = 0; k < s.length; k++) {\n",
    "            words.push(\"a\");\n",
    "        }\n",
    "        \n",
    "    }\n",
    "    counts.push(s.length);\n",
    "    times.push(timeFunction(\"findSubstring\", () => findSubstring(s3, words)));\n",
    "}\n",
    "\n",
    "linePlot(counts, [times])"
   ]
  },
  {
   "cell_type": "code",
   "execution_count": null,
   "id": "e3e20cae",
   "metadata": {},
   "outputs": [],
   "source": []
  }
 ],
 "metadata": {
  "kernelspec": {
   "display_name": "TypeScript",
   "language": "typescript",
   "name": "tslab"
  },
  "language_info": {
   "codemirror_mode": {
    "mode": "typescript",
    "name": "javascript",
    "typescript": true
   },
   "file_extension": ".ts",
   "mimetype": "text/typescript",
   "name": "typescript",
   "version": "3.7.2"
  }
 },
 "nbformat": 4,
 "nbformat_minor": 5
}
