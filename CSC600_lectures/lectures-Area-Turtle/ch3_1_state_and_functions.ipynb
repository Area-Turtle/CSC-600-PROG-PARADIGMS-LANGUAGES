{
 "cells": [
  {
   "cell_type": "markdown",
   "id": "479023fa",
   "metadata": {},
   "source": [
    "# 3.1 State and Functions"
   ]
  },
  {
   "cell_type": "code",
   "execution_count": 2,
   "id": "217c6fbd",
   "metadata": {},
   "outputs": [
    {
     "name": "stderr",
     "output_type": "stream",
     "text": [
      "6:24 - Cannot find module './lib/graph' or its corresponding type declarations.\n"
     ]
    }
   ],
   "source": [
    "import ts from \"typescript\";\n",
    "import { requireCytoscape, requireCarbon, linePlot, draw, drawMemTrace, memLayout } from \"./lib/draw\";\n",
    "import * as introspect from \"./lib/introspect\";\n",
    "import { _List, List, Nil, Cons, arrToList, length } from \"./lib/list\";\n",
    "import * as list from \"./lib/list\";\n",
    "import * as graph from \"./lib/graph\";\n",
    "\n",
    "requireCytoscape();\n",
    "requireCarbon();"
   ]
  },
  {
   "cell_type": "markdown",
   "id": "9a85d675",
   "metadata": {},
   "source": [
    "## Where Were We?\n",
    "\n",
    "Concept Roadmap:\n",
    "\n",
    "1. **Bottom-up, i.e., building blocks of languages.** (TODAY and next 2 weeks)\n",
    "    - Data-Types + Recursion (last week)\n",
    "    - First-Class Functions and **References** + State (this week)\n",
    "2. Top-down, i.e., using building blocks.\n",
    "3. *Meta-theory.*"
   ]
  },
  {
   "cell_type": "markdown",
   "id": "a66b4d24",
   "metadata": {},
   "source": [
    "## Goal\n",
    "\n",
    "1. Previously, we worked with data-types which are **values**. Recall what state and **references** are and the distinction between values and references.\n",
    "2. Understand the interaction between state and functions. Next time, we will see the interaction between state and first-class functions. "
   ]
  },
  {
   "cell_type": "markdown",
   "id": "b9aee97d",
   "metadata": {},
   "source": [
    "## Outline\n",
    "\n",
    "- Why state? \n",
    "- Values vs. references\n",
    "- Why not state?: state and **pure functions**"
   ]
  },
  {
   "cell_type": "markdown",
   "id": "b4cbdfa5",
   "metadata": {},
   "source": [
    "## Why State?\n",
    "\n",
    "- Performance: sometimes writing programs without state is too slow.\n",
    "- Tradeoff: it is harder to reason about what our code is doing. This increases the chance to introduce bugs.\n",
    "- One strategy might be write a program without state first. If it is too slow, then you can write a version that does use state."
   ]
  },
  {
   "cell_type": "markdown",
   "id": "acecbe11",
   "metadata": {},
   "source": [
    "### Example 1\n",
    "\n",
    "- Suppose you want to concatenate some arrays together."
   ]
  },
  {
   "cell_type": "code",
   "execution_count": null,
   "id": "9846209d",
   "metadata": {},
   "outputs": [],
   "source": [
    "const arr1 = [1, 2, 3];\n",
    "const arr2 = [4, 5, 6];\n",
    "const arr3 = arr1.concat(arr2);\n",
    "arr3"
   ]
  },
  {
   "cell_type": "code",
   "execution_count": null,
   "id": "7164f83b",
   "metadata": {},
   "outputs": [],
   "source": [
    "// arr3 is a copy\n",
    "arr1[0] = -1;\n",
    "arr3"
   ]
  },
  {
   "cell_type": "code",
   "execution_count": 3,
   "id": "0911ff22",
   "metadata": {},
   "outputs": [],
   "source": [
    "function mutableConcat<T>(arr1: T[], arr2: T[]): void {\n",
    "    for (const x of arr2) {\n",
    "        arr1.push(x);\n",
    "    }\n",
    "}"
   ]
  },
  {
   "cell_type": "code",
   "execution_count": 4,
   "id": "80633b4d",
   "metadata": {},
   "outputs": [
    {
     "name": "stdout",
     "output_type": "stream",
     "text": [
      "[ 1, 2, 3, 4, 5, 6 ]\n"
     ]
    }
   ],
   "source": [
    "const arr1 = [1, 2, 3];\n",
    "const arr2 = [4, 5, 6];\n",
    "\n",
    "// Mutable concatenation\n",
    "mutableConcat(arr1, arr2);\n",
    "arr1;"
   ]
  },
  {
   "cell_type": "markdown",
   "id": "9b6f4bcb",
   "metadata": {},
   "source": [
    "### Performance"
   ]
  },
  {
   "cell_type": "code",
   "execution_count": null,
   "id": "60f1fb41",
   "metadata": {},
   "outputs": [],
   "source": [
    "function testMutableConcat<T>(arr: T[], count: number): T[] {\n",
    "    // Add arr count times.\n",
    "    const tmp: T[] = []\n",
    "    for (let i = 0; i < count; i++) {\n",
    "        mutableConcat(tmp, arr);\n",
    "    }\n",
    "    return tmp;\n",
    "}"
   ]
  },
  {
   "cell_type": "code",
   "execution_count": null,
   "id": "c4df90ac",
   "metadata": {},
   "outputs": [],
   "source": [
    "function testImmutableConcat<T>(arr: T[], count: number): T[] {\n",
    "    let tmp: T[] = [];\n",
    "    for (let i = 0; i < count; i++) {\n",
    "        tmp = tmp.concat(arr);\n",
    "    }\n",
    "    return tmp;\n",
    "}"
   ]
  },
  {
   "cell_type": "code",
   "execution_count": 14,
   "id": "c87ffc56",
   "metadata": {},
   "outputs": [
    {
     "name": "stderr",
     "output_type": "stream",
     "text": [
      "13:31 - Cannot find name 'testMutableConcat'.\n",
      "14:33 - Cannot find name 'testImmutableConcat'.\n"
     ]
    }
   ],
   "source": [
    "function timeFunction(name, f) {\n",
    "    console.log(`--------------------------`);\n",
    "    console.log(`${name} started..`);\n",
    "    const t0 = process.hrtime()\n",
    "    f();\n",
    "    const t1 = process.hrtime(t0);\n",
    "    console.log(`${f.name} completed..`);\n",
    "    console.info('Execution time (hr): %ds %dms', t1[0], t1[1] / 1000000);\n",
    "    return t1[0] + t1[1] / 1000000 / 1000;\n",
    "}\n",
    "\n",
    "const count = 1000;\n",
    "timeFunction(\"Mutable\", () => testMutableConcat(Array(100).fill((x) => 0), count));\n",
    "timeFunction(\"Immutable\", () => testImmutableConcat(Array(100).fill((x) => 0), count));"
   ]
  },
  {
   "cell_type": "code",
   "execution_count": 15,
   "id": "8a90363e",
   "metadata": {},
   "outputs": [
    {
     "name": "stderr",
     "output_type": "stream",
     "text": [
      "5:23 - Cannot find name 'timeFunction'.\n",
      "5:53 - Cannot find name 'testMutableConcat'.\n",
      "10:25 - Cannot find name 'timeFunction'.\n",
      "10:57 - Cannot find name 'testImmutableConcat'.\n"
     ]
    }
   ],
   "source": [
    "const counts = [500, 1000, 1500];\n",
    "const mutableTimes = [];\n",
    "for (const count of counts) {\n",
    "    let arr = Array(100).fill((x) => 0);\n",
    "    mutableTimes.push(timeFunction(\"Mutable\", () => testMutableConcat(arr1, count)));\n",
    "}\n",
    "const immutableTimes = [];\n",
    "for (const count of counts) {\n",
    "    let arr = Array(100).fill((x) => 0);\n",
    "    immutableTimes.push(timeFunction(\"Immutable\", () => testImmutableConcat(arr1, count)));\n",
    "}\n",
    "\n",
    "console.log(mutableTimes);\n",
    "console.log(immutableTimes);"
   ]
  },
  {
   "cell_type": "code",
   "execution_count": 16,
   "id": "e0c17d39",
   "metadata": {},
   "outputs": [
    {
     "name": "stderr",
     "output_type": "stream",
     "text": [
      "1:1 - Cannot find name 'linePlot'.\n",
      "1:10 - Cannot find name 'counts'.\n",
      "1:19 - Cannot find name 'mutableTimes'.\n",
      "1:33 - Cannot find name 'immutableTimes'.\n"
     ]
    }
   ],
   "source": [
    "linePlot(counts, [mutableTimes, immutableTimes])"
   ]
  },
  {
   "cell_type": "markdown",
   "id": "d0491812",
   "metadata": {},
   "source": [
    "### Computational Complexity Detour\n",
    "\n",
    "O(N) vs. O(N^2)"
   ]
  },
  {
   "cell_type": "markdown",
   "id": "c9bb8695",
   "metadata": {},
   "source": [
    "### Example 2\n",
    "\n",
    "Consider implementing the Fibonacci sequence\n",
    "\\begin{align*}\n",
    "F_0 & = 1 \\\\\n",
    "F_1 & = 1 \\\\\n",
    "F_{n} & = F_{n-1} + F_{n-2} \\quad\\quad \\mbox{when $n \\geq 2$}\n",
    "\\end{align*}"
   ]
  },
  {
   "cell_type": "code",
   "execution_count": 21,
   "id": "824e73f1",
   "metadata": {},
   "outputs": [
    {
     "name": "stdout",
     "output_type": "stream",
     "text": [
      "1\n",
      "1\n",
      "2\n",
      "3\n",
      "5\n",
      "8\n",
      "13\n",
      "21\n",
      "34\n",
      "55\n"
     ]
    }
   ],
   "source": [
    "function fibonacci(n: number): number {\n",
    "    if (n < 0) {\n",
    "        throw Error(\"Positive numbers only\");\n",
    "    }\n",
    "    \n",
    "    if (n == 0) { // F_0 = 1\n",
    "        return 1;\n",
    "    } else if (n == 1) { // F_1 = 1\n",
    "        return 1;\n",
    "    } else { // F_n = F_{n-1} + F_{n-2}\n",
    "        return fibonacci(n-1) + fibonacci(n-2);\n",
    "    }\n",
    "}\n",
    "\n",
    "for (let i=0; i < 10; i++) {\n",
    "    console.log(fibonacci(i));\n",
    "}"
   ]
  },
  {
   "cell_type": "code",
   "execution_count": 13,
   "id": "238c4a18",
   "metadata": {},
   "outputs": [
    {
     "name": "stderr",
     "output_type": "stream",
     "text": [
      "1:1 - Cannot find name 'timeFunction'.\n",
      "2:1 - Cannot find name 'timeFunction'.\n",
      "3:1 - Cannot find name 'timeFunction'.\n"
     ]
    }
   ],
   "source": [
    "timeFunction(\"ficonnaci\", () => fibonacci(20));\n",
    "timeFunction(\"ficonnaci\", () => fibonacci(30));\n",
    "timeFunction(\"ficonnaci\", () => fibonacci(40));"
   ]
  },
  {
   "cell_type": "code",
   "execution_count": null,
   "id": "fe95ce76",
   "metadata": {},
   "outputs": [],
   "source": [
    "function iterFibonacci(n: number): number {\n",
    "    if (n < 0) {\n",
    "        throw Error(\"Positive numbers only\");\n",
    "    }\n",
    "    \n",
    "    let fib0: number = 0;\n",
    "    let fib1: number = 1;\n",
    "    let acc: number = 1;\n",
    "    for (let i=1; i < n; i++) {\n",
    "        fib0 = fib1;\n",
    "        fib1 = acc;\n",
    "        acc = fib1 + fib0;\n",
    "    }\n",
    "    return acc;\n",
    "}\n",
    "\n",
    "for (let i=0; i < 10; i++) {\n",
    "    console.log(iterFibonacci(i));\n",
    "}"
   ]
  },
  {
   "cell_type": "code",
   "execution_count": null,
   "id": "70f88160",
   "metadata": {},
   "outputs": [],
   "source": [
    "timeFunction(\"iterFibonnaci\", () => iterFibonacci(20));\n",
    "timeFunction(\"iterFibonnaci\", () => iterFibonacci(30));\n",
    "timeFunction(\"iterFibonnaci\", () => iterFibonacci(40));"
   ]
  },
  {
   "cell_type": "code",
   "execution_count": null,
   "id": "efa68ccf",
   "metadata": {},
   "outputs": [],
   "source": [
    "const ns = [20, 30, 40];\n",
    "const recTimes = [];\n",
    "for (const n of ns) {\n",
    "    recTimes.push(timeFunction(\"fibonnaci\", () => fibonacci(n)));\n",
    "}\n",
    "const iterTimes = [];\n",
    "for (const n of ns) {\n",
    "    iterTimes.push(timeFunction(\"iterFibonnaci\", () => iterFibonacci(n)));\n",
    "}\n",
    "\n",
    "console.log(recTimes);\n",
    "console.log(iterTimes);"
   ]
  },
  {
   "cell_type": "code",
   "execution_count": null,
   "id": "03b16a48",
   "metadata": {},
   "outputs": [],
   "source": [
    "linePlot(counts, [recTimes, iterTimes])"
   ]
  },
  {
   "cell_type": "markdown",
   "id": "84f5765d",
   "metadata": {},
   "source": [
    "### Computational Complexity Detour\n",
    "\n",
    "O(N) vs. O(e^N)"
   ]
  },
  {
   "cell_type": "code",
   "execution_count": 12,
   "id": "014d3338",
   "metadata": {},
   "outputs": [
    {
     "name": "stdout",
     "output_type": "stream",
     "text": [
      "1\n",
      "1\n",
      "2\n",
      "3\n",
      "5\n",
      "8\n",
      "13\n",
      "21\n",
      "34\n",
      "55\n"
     ]
    }
   ],
   "source": [
    "function cacheFibonacci(n: number): number {\n",
    "    if (n < 0) {\n",
    "        throw Error(\"Positive numbers only\");\n",
    "    }\n",
    "    \n",
    "    let cache: { [id: number]: number } = {};\n",
    "    function go(n: number): number {\n",
    "        if (n in cache) { // If we already computed the result, save it in the cache\n",
    "            return cache[n];\n",
    "        }\n",
    "        \n",
    "        if (n == 0) { // F_0 = 1\n",
    "            cache[n] = 1;\n",
    "            return 1;\n",
    "        } else if (n == 1) { // F_1 = 1\n",
    "            cache[n] = 1;\n",
    "            return 1;\n",
    "        } else { // F_n = F_{n-1} + F_{n-2}\n",
    "            cache[n-1] = go(n-1);\n",
    "            cache[n-2] = go(n-2);\n",
    "            return cache[n-1] + cache[n-2];\n",
    "        }   \n",
    "    }\n",
    "    \n",
    "    return go(n);\n",
    "}\n",
    "\n",
    "for (let i=0; i < 10; i++) {\n",
    "    console.log(cacheFibonacci(i));\n",
    "}"
   ]
  },
  {
   "cell_type": "code",
   "execution_count": null,
   "id": "4c0c594f",
   "metadata": {},
   "outputs": [],
   "source": [
    "const cacheTimes = [];\n",
    "for (const n of ns) {\n",
    "    cacheTimes.push(timeFunction(\"iterFibonnaci\", () => cacheFibonacci(n)));\n",
    "}"
   ]
  },
  {
   "cell_type": "code",
   "execution_count": null,
   "id": "ec7b3727",
   "metadata": {},
   "outputs": [],
   "source": [
    "linePlot(counts, [iterTimes, cacheTimes])"
   ]
  },
  {
   "cell_type": "markdown",
   "id": "ac72e819",
   "metadata": {},
   "source": [
    "### Computational Complexity Detour\n",
    "\n",
    "- O(N) iterative vs. O(N) cached recursive\n",
    "- This technique is called **dynamic programming**"
   ]
  },
  {
   "cell_type": "markdown",
   "id": "15d5960b",
   "metadata": {},
   "source": [
    "### Summary\n",
    "\n",
    "- Another reason to use state is to encode a notion of **time**: this event should happen before that event.\n",
    "- This happens in **concurrent** and **distributed** programming.\n",
    "- We will cover this later."
   ]
  },
  {
   "cell_type": "markdown",
   "id": "563f0a01",
   "metadata": {},
   "source": [
    "## References vs. Values\n",
    "\n",
    "- We just saw that a huge reason for using state is performance.\n",
    "- Now we will look more formally at **references** which is the primary mechanism by which we can store data."
   ]
  },
  {
   "cell_type": "markdown",
   "id": "8239395e",
   "metadata": {},
   "source": [
    "### Some Examples"
   ]
  },
  {
   "cell_type": "code",
   "execution_count": null,
   "id": "fce9814d",
   "metadata": {},
   "outputs": [],
   "source": [
    "const f = (x, y) => {\n",
    "    const ans = x + y;\n",
    "    x = 3;\n",
    "    y = 5;\n",
    "    return ans;\n",
    "};\n",
    "\n",
    "\n",
    "const x = 1;\n",
    "const y = 3;\n",
    "console.log(f(x, y))\n",
    "console.log(x)\n",
    "console.log(y)"
   ]
  },
  {
   "cell_type": "code",
   "execution_count": null,
   "id": "9081f8cc",
   "metadata": {},
   "outputs": [],
   "source": [
    "let x = 1;\n",
    "let y = 3;\n",
    "console.log(f(x, y))\n",
    "console.log(x)\n",
    "console.log(y)"
   ]
  },
  {
   "cell_type": "code",
   "execution_count": null,
   "id": "98399f2b",
   "metadata": {},
   "outputs": [],
   "source": [
    "const g = (pair) => {\n",
    "    const ans = pair[0] + pair[1];\n",
    "    pair[0] = 3;\n",
    "    pair[1] = 5;\n",
    "    return ans;\n",
    "}\n",
    "\n",
    "const pair = [1, 2];\n",
    "console.log(g(pair));\n",
    "console.log(pair[0]);\n",
    "console.log(pair[1]);"
   ]
  },
  {
   "cell_type": "code",
   "execution_count": null,
   "id": "b5f48c87",
   "metadata": {},
   "outputs": [],
   "source": [
    "const arr = []; // The reference to [] is constant\n",
    "for (const x of [1, 2, 3, 4]) {\n",
    "    arr.push(x);\n",
    "}"
   ]
  },
  {
   "cell_type": "markdown",
   "id": "28426b1c",
   "metadata": {},
   "source": [
    "### References vs. Values more formally\n",
    "\n",
    "- Recall a **value** includes things like literal numbers and literal strings, i.e., denoted by expressions in our language that have no computation left to run.\n",
    "- A **reference** is a **location value**. You can think of a location value as a number that indexes an array, and the semantics of a location value is \"dereference the appropriate location of an array\"."
   ]
  },
  {
   "cell_type": "markdown",
   "id": "df8b591a",
   "metadata": {},
   "source": [
    "### null vs. undefined"
   ]
  },
  {
   "cell_type": "code",
   "execution_count": 7,
   "id": "09902be3",
   "metadata": {},
   "outputs": [
    {
     "name": "stdout",
     "output_type": "stream",
     "text": [
      "true\n",
      "false\n",
      "true\n",
      "false\n",
      "false\n",
      "false\n"
     ]
    }
   ],
   "source": [
    "console.log(null === null)\n",
    "console.log(null !== null)\n",
    "console.log(undefined === undefined)\n",
    "console.log(undefined !== undefined)\n",
    "console.log(null === undefined)\n",
    "console.log(null != undefined)"
   ]
  },
  {
   "cell_type": "code",
   "execution_count": 8,
   "id": "6a656de6",
   "metadata": {},
   "outputs": [
    {
     "name": "stdout",
     "output_type": "stream",
     "text": [
      "true\n",
      "false\n",
      "true\n",
      "false\n",
      "true\n",
      "false\n"
     ]
    }
   ],
   "source": [
    "console.log(null == null)\n",
    "console.log(null != null)\n",
    "console.log(undefined == undefined)\n",
    "console.log(undefined != undefined)\n",
    "console.log(null == undefined)       // Wait ...\n",
    "console.log(null != undefined)"
   ]
  },
  {
   "cell_type": "code",
   "execution_count": 9,
   "id": "41240364",
   "metadata": {},
   "outputs": [],
   "source": [
    "let x: string = \"hello\";\n",
    "let y: string = null;\n",
    "let z: string = undefined;"
   ]
  },
  {
   "cell_type": "code",
   "execution_count": 10,
   "id": "be2502cd",
   "metadata": {},
   "outputs": [],
   "source": [
    "let a: number = 1;\n",
    "let b: number = null;\n",
    "let c: number = undefined;"
   ]
  },
  {
   "cell_type": "markdown",
   "id": "2de0451b",
   "metadata": {},
   "source": [
    "### Intuition\n",
    "\n",
    "- `null` is a **location value** whose semantics is \"follow where I point to\"\n",
    "- `undefined` is a **value** whose semantics is \"read me\""
   ]
  },
  {
   "cell_type": "code",
   "execution_count": 11,
   "id": "d91e9639",
   "metadata": {},
   "outputs": [
    {
     "name": "stderr",
     "output_type": "stream",
     "text": [
      "9:12 - Cannot find namespace 'introspect'.\n",
      "9:12 - Exported variable 'res' has or is using private name 'introspect'.\n",
      "9:37 - Cannot find name 'introspect'.\n"
     ]
    }
   ],
   "source": [
    "function nullUndefinedExample() {\n",
    "    let s1 = \"hello\";\n",
    "    let s2 = null;\n",
    "    let s3 = undefined;\n",
    "    let s4 = [s3, null, undefined];\n",
    "    return s1;\n",
    "}\n",
    "\n",
    "const res: introspect.MemoryTrace = introspect.traceMemory(nullUndefinedExample, exports);\n",
    "res.func()"
   ]
  },
  {
   "cell_type": "code",
   "execution_count": null,
   "id": "fb6049f0",
   "metadata": {},
   "outputs": [],
   "source": [
    "/*\n",
    "```\n",
    "function nullUndefinedExample() {\n",
    "    let s1 = \"hello\";  <- HERE\n",
    "    let s2 = null;\n",
    "    let s3 = undefined;\n",
    "    let s4 = [s3, null, undefined];\n",
    "    return s4;\n",
    "}\n",
    "```\n",
    "*/\n",
    "\n",
    "draw(introspect.cytoscapifyMemTrace(res.memory[0], res.refId), 800, 350, memLayout)"
   ]
  },
  {
   "cell_type": "code",
   "execution_count": null,
   "id": "451991df",
   "metadata": {},
   "outputs": [],
   "source": [
    "/*\n",
    "```\n",
    "function nullUndefinedExample() {\n",
    "    let s1 = \"hello\";                  \n",
    "    let s2 = null;                      <- HERE\n",
    "    let s3 = undefined;\n",
    "    let s4 = [s3, null, undefined];\n",
    "    return s4;\n",
    "}\n",
    "```\n",
    "*/\n",
    "\n",
    "draw(introspect.cytoscapifyMemTrace(res.memory[1], res.refId), 800, 350, memLayout)"
   ]
  },
  {
   "cell_type": "code",
   "execution_count": null,
   "id": "bbe1aba1",
   "metadata": {},
   "outputs": [],
   "source": [
    "/*\n",
    "```\n",
    "function nullUndefinedExample() {\n",
    "    let s1 = \"hello\";                  \n",
    "    let s2 = null;                      \n",
    "    let s3 = undefined;                <- HERE\n",
    "    let s4 = [s3, null, undefined];\n",
    "    return s4;\n",
    "}\n",
    "```\n",
    "*/\n",
    "\n",
    "draw(introspect.cytoscapifyMemTrace(res.memory[2], res.refId), 800, 350, memLayout)"
   ]
  },
  {
   "cell_type": "code",
   "execution_count": null,
   "id": "c3b87209",
   "metadata": {},
   "outputs": [],
   "source": [
    "/*\n",
    "```\n",
    "function nullUndefinedExample() {\n",
    "    let s1 = \"hello\";                  \n",
    "    let s2 = null;                      \n",
    "    let s3 = undefined;                \n",
    "    let s4 = [s3, null, undefined];      <- HERE\n",
    "    return s4;\n",
    "}\n",
    "```\n",
    "*/\n",
    "\n",
    "draw(introspect.cytoscapifyMemTrace(res.memory[3], res.refId), 800, 350, memLayout)"
   ]
  },
  {
   "cell_type": "markdown",
   "id": "ab352130",
   "metadata": {},
   "source": [
    "#### Values vs References using Strings and Arrays\n",
    "\n",
    "- Strings are values\n",
    "- Arrays are references"
   ]
  },
  {
   "cell_type": "code",
   "execution_count": null,
   "id": "955f4d0c",
   "metadata": {},
   "outputs": [],
   "source": [
    "function stringArrayExample() {\n",
    "    let s1 = \"hello\";\n",
    "    let arr1 = [s1, \"world\"];\n",
    "    let arr2 = [arr1, s1];\n",
    "    return arr2;\n",
    "}\n",
    "\n",
    "const res: introspect.MemoryTrace = introspect.traceMemory(stringArrayExample, exports);\n",
    "res.func()"
   ]
  },
  {
   "cell_type": "code",
   "execution_count": null,
   "id": "280d4fbb",
   "metadata": {},
   "outputs": [],
   "source": [
    "/*\n",
    "```\n",
    "function stringArrayExample() {\n",
    "    let s1 = \"hello\";            <- HERE\n",
    "    let arr1 = [s1, \"world\"];\n",
    "    let arr2 = [arr1, s1];\n",
    "    return arr2;\n",
    "}\n",
    "```\n",
    "*/\n",
    "\n",
    "draw(introspect.cytoscapifyMemTrace(res.memory[0], res.refId))"
   ]
  },
  {
   "cell_type": "code",
   "execution_count": null,
   "id": "c1badda6",
   "metadata": {},
   "outputs": [],
   "source": [
    "/*\n",
    "```\n",
    "function stringArrayExample() {\n",
    "    let s1 = \"hello\";            \n",
    "    let arr1 = [s1, \"world\"];     <- HERE\n",
    "    let arr2 = [arr1, s1];\n",
    "    return arr2;\n",
    "}\n",
    "```\n",
    "*/\n",
    "\n",
    "draw(introspect.cytoscapifyMemTrace(res.memory[1], res.refId))"
   ]
  },
  {
   "cell_type": "code",
   "execution_count": null,
   "id": "b85eab11",
   "metadata": {},
   "outputs": [],
   "source": [
    "/*\n",
    "```\n",
    "function stringArrayExample() {\n",
    "    let s1 = \"hello\";            \n",
    "    let arr1 = [s1, \"world\"];     \n",
    "    let arr2 = [arr1, s1];           <- HERE\n",
    "    return arr2;\n",
    "}\n",
    "```\n",
    "*/\n",
    "\n",
    "draw(introspect.cytoscapifyMemTrace(res.memory[2], res.refId))"
   ]
  },
  {
   "cell_type": "markdown",
   "id": "8629b4c0",
   "metadata": {},
   "source": [
    "#### Another References vs. Values example using Strings and Arrays"
   ]
  },
  {
   "cell_type": "code",
   "execution_count": null,
   "id": "c16e86b8",
   "metadata": {},
   "outputs": [],
   "source": [
    "function stringArrayExample() {\n",
    "    let s1 = \"hello\";\n",
    "    let s2 = \"world\";\n",
    "    let arr1 = [s1, s2];\n",
    "    for (let i = 0; i < 2; i++) {\n",
    "        s1 = s1 + \"1\";\n",
    "        s2 = s2 + \"2\";\n",
    "    }\n",
    "    return s1 + s2;   \n",
    "}\n",
    "\n",
    "const res: introspect.MemoryTrace = introspect.traceMemory(stringArrayExample, exports);\n",
    "res.func()"
   ]
  },
  {
   "cell_type": "code",
   "execution_count": null,
   "id": "2f209c75",
   "metadata": {},
   "outputs": [],
   "source": [
    "/*\n",
    "```\n",
    "function stringArrayExample() {\n",
    "    let s1 = \"hello\";                <- HERE\n",
    "    let s2 = \"world\";\n",
    "    let arr1 = [s1, s2];\n",
    "    for (let i = 0; i < 2; i++) {\n",
    "        s1 = s1 + \"1\";\n",
    "        s2 = s2 + \"2\";\n",
    "    }\n",
    "    return s1 + s2;   \n",
    "}\n",
    "```\n",
    "*/\n",
    "\n",
    "draw(introspect.cytoscapifyMemTrace(res.memory[0], res.refId))"
   ]
  },
  {
   "cell_type": "code",
   "execution_count": null,
   "id": "986edda9",
   "metadata": {},
   "outputs": [],
   "source": [
    "/*\n",
    "```\n",
    "function stringArrayExample() {\n",
    "    let s1 = \"hello\";\n",
    "    let s2 = \"world\";               <- HERE\n",
    "    let arr1 = [s1, s2, [s2]];\n",
    "    for (let i = 0; i < 2; i++) {\n",
    "        s1 = s1 + \"1\";\n",
    "        s2 = s2 + \"2\";\n",
    "    }\n",
    "    return s1 + s2;   \n",
    "}\n",
    "```\n",
    "*/\n",
    "\n",
    "draw(introspect.cytoscapifyMemTrace(res.memory[1], res.refId))"
   ]
  },
  {
   "cell_type": "code",
   "execution_count": null,
   "id": "abe534eb",
   "metadata": {},
   "outputs": [],
   "source": [
    "/*\n",
    "```\n",
    "function stringArrayExample() {\n",
    "    let s1 = \"hello\"; \n",
    "    let s2 = \"world\"; \n",
    "    let arr1 = [s1, s2];             // <- HERE\n",
    "    for (let i = 0; i < 2; i++) {\n",
    "        s1 = s1 + \"1\";     \n",
    "        s2 = s2 + \"2\";\n",
    "    }\n",
    "    return s1 + s2;   \n",
    "}\n",
    "```\n",
    "*/\n",
    "\n",
    "draw(introspect.cytoscapifyMemTrace(res.memory[2], res.refId))"
   ]
  },
  {
   "cell_type": "code",
   "execution_count": null,
   "id": "35ab1b5b",
   "metadata": {},
   "outputs": [],
   "source": [
    "/*\n",
    "```\n",
    "function stringArrayExample() {\n",
    "    let s1 = \"hello\"; \n",
    "    let s2 = \"world\"; \n",
    "    let arr1 = [s1, s2];   \n",
    "    for (let i = 0; i < 2; i++) {  \n",
    "        s1 = s1 + \"1\";                // <- HERE i = 0\n",
    "        s2 = s2 + \"2\";\n",
    "    }\n",
    "    return s1 + s2;   \n",
    "}\n",
    "```\n",
    "*/\n",
    "\n",
    "draw(introspect.cytoscapifyMemTrace(res.memory[3], res.refId))"
   ]
  },
  {
   "cell_type": "code",
   "execution_count": null,
   "id": "88b3bda0",
   "metadata": {},
   "outputs": [],
   "source": [
    "/*\n",
    "```\n",
    "function stringArrayExample() {\n",
    "    let s1 = \"hello\"; \n",
    "    let s2 = \"world\"; \n",
    "    let arr1 = [s1, s2];   \n",
    "    for (let i = 0; i < 2; i++) {  \n",
    "        s1 = s1 + \"1\";\n",
    "        s2 = s2 + \"2\";              // <- HERE i = 0\n",
    "    }\n",
    "    return s1 + s2;   \n",
    "}\n",
    "```\n",
    "*/\n",
    "\n",
    "draw(introspect.cytoscapifyMemTrace(res.memory[4], res.refId))"
   ]
  },
  {
   "cell_type": "code",
   "execution_count": null,
   "id": "b9bed786",
   "metadata": {},
   "outputs": [],
   "source": [
    "/*\n",
    "```\n",
    "function stringArrayExample() {\n",
    "    let s1 = \"hello\"; \n",
    "    let s2 = \"world\"; \n",
    "    let arr1 = [s1, s2];   \n",
    "    for (let i = 0; i < 2; i++) {  \n",
    "        s1 = s1 + \"1\";                // <- HERE i = 1\n",
    "        s2 = s2 + \"2\";\n",
    "    }\n",
    "    return s1 + s2;   \n",
    "}\n",
    "```\n",
    "*/\n",
    "\n",
    "draw(introspect.cytoscapifyMemTrace(res.memory[5], res.refId))"
   ]
  },
  {
   "cell_type": "code",
   "execution_count": null,
   "id": "394a1fc2",
   "metadata": {},
   "outputs": [],
   "source": [
    "/*\n",
    "```\n",
    "function stringArrayExample() {\n",
    "    let s1 = \"hello\"; \n",
    "    let s2 = \"world\"; \n",
    "    let arr1 = [s1, s2];   \n",
    "    for (let i = 0; i < 2; i++) {  \n",
    "        s1 = s1 + \"1\";                \n",
    "        s2 = s2 + \"2\";                    // <- HERE i = 1\n",
    "    }\n",
    "    return s1 + s2;   \n",
    "}\n",
    "```\n",
    "*/\n",
    "\n",
    "draw(introspect.cytoscapifyMemTrace(res.memory[6], res.refId))"
   ]
  },
  {
   "cell_type": "markdown",
   "id": "fb4c3e6b",
   "metadata": {},
   "source": [
    "### Summary of References vs. Values\n",
    "\n",
    "- Each variable is a reference to either a value (e.g., string) or a reference (e.g., array)\n",
    "- An array `const arr = [1, 2, 3]` can be mutated because the variable `arr` is a constant reference to a reference that can be changed."
   ]
  },
  {
   "cell_type": "markdown",
   "id": "b31e8edb",
   "metadata": {},
   "source": [
    "## State and Pure Functions\n",
    "\n",
    "Summary so far:\n",
    "- One huge motivation for state is performance.\n",
    "- We saw that state could be implemented with the idea of a reference: it is a value that \"references\" another value.\n",
    "- This is a powerful concept: now we'll look at why we don't want to use this concept too much."
   ]
  },
  {
   "cell_type": "markdown",
   "id": "f8d07b5d",
   "metadata": {},
   "source": [
    "### Example: History of Edits?\n",
    "\n",
    "Imagine you're building software that needs undo functionality."
   ]
  },
  {
   "cell_type": "code",
   "execution_count": null,
   "id": "32ecf956",
   "metadata": {},
   "outputs": [],
   "source": [
    "import * as tslab from \"tslab\";\n",
    "\n",
    "function createElement(elem) {\n",
    "    return `<div style=\"padding-top: 3px;padding-right: 3px;padding-bottom: 3px;padding-left: 3px;\">${elem}</div>`\n",
    "}\n",
    "\n",
    "const red = createElement(`<div style=\"background-color:red;width:50px;height:50px\"></div>`);\n",
    "const green = createElement(`<div style=\"background-color:green;width:50px;height:50px\"></div>`);\n",
    "const blue = createElement(`<div style=\"background-color:blue;width:50px;height:50px\"></div>`);"
   ]
  },
  {
   "cell_type": "markdown",
   "id": "59faca46",
   "metadata": {},
   "source": [
    "#### Stateful approach"
   ]
  },
  {
   "cell_type": "code",
   "execution_count": null,
   "id": "6c6d5a40",
   "metadata": {},
   "outputs": [],
   "source": [
    "const acc = []\n",
    "\n",
    "acc.push(red)\n",
    "acc.push(green)\n",
    "acc.push(blue)\n",
    "acc.push(green)\n",
    "acc.push(green)\n",
    "\n",
    "tslab.display.html(acc.join(''))"
   ]
  },
  {
   "cell_type": "code",
   "execution_count": null,
   "id": "7448b3ed",
   "metadata": {},
   "outputs": [],
   "source": [
    "// Question: Display what happened at timestep 2?\n",
    "\n",
    "// \"Reverse computation\"\n",
    "const tmp = [];\n",
    "while (acc.length > 2) {\n",
    "    tmp.push(acc.pop());\n",
    "}\n",
    "\n",
    "// Get answer\n",
    "console.log(\"Timestep 2\");\n",
    "tslab.display.html(acc.join(''))\n",
    "\n",
    "// Restore answer\n",
    "for (x in tmp) {\n",
    "    acc.push(x);\n",
    "}\n",
    "\n",
    "console.log(\"Latest Timestep\");\n",
    "tslab.display.html(acc.join(''))"
   ]
  },
  {
   "cell_type": "markdown",
   "id": "dbcc590b",
   "metadata": {},
   "source": [
    "#### Pure Approach"
   ]
  },
  {
   "cell_type": "code",
   "execution_count": null,
   "id": "e7e90959",
   "metadata": {},
   "outputs": [],
   "source": [
    "function purePush<T>(acc: T[], x: T): T[] {\n",
    "    return acc.concat(x);\n",
    "}\n",
    "\n",
    "\n",
    "const trace = [];\n",
    "const acc = [];\n",
    "const acc1 = purePush(acc, red); trace.push(acc1);\n",
    "const acc2 = purePush(acc1, green); trace.push(acc2); \n",
    "const acc3 = purePush(acc2, blue); trace.push(acc3);\n",
    "const acc4 = purePush(acc3, green); trace.push(acc4);\n",
    "const acc5 = purePush(acc4, green); trace.push(acc5);"
   ]
  },
  {
   "cell_type": "code",
   "execution_count": null,
   "id": "b7953371",
   "metadata": {},
   "outputs": [],
   "source": [
    "// Question: Display what happened at timestep 2?\n",
    "\n",
    "console.log(\"Timestep 2\");\n",
    "tslab.display.html(trace[1].join(''));\n",
    "\n",
    "console.log(\"Latest Timestep\");\n",
    "tslab.display.html(trace[trace.length - 1].join(''))"
   ]
  },
  {
   "cell_type": "markdown",
   "id": "76078918",
   "metadata": {},
   "source": [
    "### Example: Side-Effects?\n",
    "\n",
    "- **Pure function**: a side-effect free function that produces the same outputs given the same inputs.\n",
    "- **Impure function**: the \"function\" can return different outputs for the same input."
   ]
  },
  {
   "cell_type": "code",
   "execution_count": null,
   "id": "f8301ae1",
   "metadata": {},
   "outputs": [],
   "source": [
    "let cnt = 0;\n",
    "\n",
    "function addCnt(x: number): number {\n",
    "    // Impure function because it produces different outputs for the same input\n",
    "    cnt += 1;\n",
    "    return x + cnt;\n",
    "}\n",
    "\n",
    "console.log(addCnt(1)); \n",
    "console.log(addCnt(1));\n",
    "console.log(addCnt(1));"
   ]
  },
  {
   "cell_type": "code",
   "execution_count": null,
   "id": "74e364f6",
   "metadata": {},
   "outputs": [],
   "source": [
    "function strangeFibonacci(n: number): number {\n",
    "    // Impure function because it produces side-effects\n",
    "    if (n < 0) {\n",
    "        throw Error(\"Positive numbers only\");\n",
    "    }\n",
    "    \n",
    "    if (n % 2 === 0) {\n",
    "        console.log(\"How many times am I printed?\");\n",
    "    }\n",
    "    \n",
    "    if (n === 0) {\n",
    "        return 1;\n",
    "    } else if (n === 1) {\n",
    "        return 1;\n",
    "    } else {\n",
    "        return strangeFibonacci(n - 1) + strangeFibonacci(n - 2);\n",
    "    }\n",
    "}\n",
    "\n",
    "strangeFibonacci(5)"
   ]
  },
  {
   "cell_type": "code",
   "execution_count": null,
   "id": "dbde4aa4",
   "metadata": {},
   "outputs": [],
   "source": [
    "function cacheStrangeFibonacci(n: number): number {\n",
    "    // Imoure function that is not equivalent to strangeFibonacci\n",
    "    if (n < 0) {\n",
    "        throw Error(\"Positive numbers only\");\n",
    "    }\n",
    "    \n",
    "    let cache: { [id: number]: number } = {};\n",
    "    function go(n: number): number {\n",
    "        if (n % 2 === 0) {\n",
    "            console.log(\"How many times am I printed?\");\n",
    "        }\n",
    "        \n",
    "        if (n in cache) {\n",
    "            return cache[n];\n",
    "        }\n",
    "        \n",
    "        if (n == 0) { // F_0 = 1\n",
    "            cache[n] = 1;\n",
    "            return 1;\n",
    "        } else if (n == 1) { // F_1 = 1\n",
    "            cache[n] = 1;\n",
    "            return 1;\n",
    "        } else { // F_n = F_{n-1} + F_{n-2}\n",
    "            cache[n-1] = go(n-1);\n",
    "            cache[n-2] = go(n-2);\n",
    "            return cache[n-1] + cache[n-2];\n",
    "        }   \n",
    "    }\n",
    "    \n",
    "    return go(n);\n",
    "}\n",
    "\n",
    "cacheStrangeFibonacci(5)"
   ]
  },
  {
   "cell_type": "markdown",
   "id": "beaeb43e",
   "metadata": {},
   "source": [
    "## Story for Today\n",
    "\n",
    "1. One of the primary reasons to use state is for performance.\n",
    "2. State is implemented in languages with references. A reference is a value that points to a location in memeory.\n",
    "3. The drawback of using state is that it makes your code harder to reason about. For example, it was harder to implement an undo operation."
   ]
  }
 ],
 "metadata": {
  "kernelspec": {
   "display_name": "TypeScript",
   "language": "typescript",
   "name": "tslab"
  },
  "language_info": {
   "codemirror_mode": {
    "mode": "typescript",
    "name": "javascript",
    "typescript": true
   },
   "file_extension": ".ts",
   "mimetype": "text/typescript",
   "name": "typescript",
   "version": "3.7.2"
  }
 },
 "nbformat": 4,
 "nbformat_minor": 5
}
