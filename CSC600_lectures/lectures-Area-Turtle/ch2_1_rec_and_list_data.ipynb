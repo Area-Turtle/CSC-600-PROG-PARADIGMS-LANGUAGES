{
 "cells": [
  {
   "cell_type": "markdown",
   "id": "78695b1a",
   "metadata": {},
   "source": [
    "# 2.1. Recursion and List Data-Types"
   ]
  },
  {
   "cell_type": "code",
   "execution_count": 1,
   "id": "d494902c",
   "metadata": {},
   "outputs": [
    {
     "data": {
      "text/html": [
       "\n",
       "  <link rel=\"stylesheet\" href=\"node_modules/carbon-components/css/carbon-components.css\">\n",
       "  "
      ]
     },
     "metadata": {},
     "output_type": "display_data"
    },
    {
     "data": {
      "text/html": [
       "\n",
       "<script>\n",
       "require.config({\n",
       "     paths: {\n",
       "     cytoscape: 'https://cdnjs.cloudflare.com/ajax/libs/cytoscape/3.19.0/cytoscape.min'\n",
       "}});\n",
       "</script>\n",
       "  "
      ]
     },
     "metadata": {},
     "output_type": "display_data"
    }
   ],
   "source": [
    "// TypeScript Jupyter extension\n",
    "import * as tslab from \"tslab\";\n",
    "\n",
    "// CSC 600 Libraries\n",
    "import { drawList, drawCallStack, requireCytoscape, requireCarbon} from \"./lib/draw\";\n",
    "import * as introspect from \"./lib/introspect\";\n",
    "import * as list from \"./lib/list\";\n",
    "\n",
    "requireCarbon();\n",
    "requireCytoscape();"
   ]
  },
  {
   "cell_type": "markdown",
   "id": "43505730",
   "metadata": {},
   "source": [
    "## Where Were We?\n",
    "\n",
    "Concept Roadmap:\n",
    "\n",
    "1. **Bottom-up, i.e., building blocks of languages.** (TODAY and next 3 weeks)\n",
    "    - **Data-Types + Recursion** (this week)\n",
    "    - First-Class Functions or References + State\n",
    "2. Top-down, i.e., using building blocks.\n",
    "3. *Meta-theory.* (LAST TIME, introduced TypeScript and BNF)"
   ]
  },
  {
   "cell_type": "markdown",
   "id": "5927e853",
   "metadata": {},
   "source": [
    "## Goal\n",
    "\n",
    "1. Introduce the concept of **(algebraic) data-types** (**ADT**) using **lists**.\n",
    "2. Examine how **recursive functions** operate on lists.\n",
    "    \n",
    "Recall language template\n",
    "\n",
    "1. Input/Output:\n",
    "2. **Data: list data-type**\n",
    "3. **Code: recursive function**"
   ]
  },
  {
   "cell_type": "markdown",
   "id": "1f6b7af2",
   "metadata": {},
   "source": [
    "## Outline\n",
    "\n",
    "- Iteration vs. Recursion via example\n",
    "- Lists\n",
    "    * List as data-type\n",
    "    * Recursive functions on lists"
   ]
  },
  {
   "cell_type": "markdown",
   "id": "6665766c",
   "metadata": {},
   "source": [
    "## Iteration vs. Recursion\n",
    "\n",
    "Let's just look at a problem ..."
   ]
  },
  {
   "cell_type": "markdown",
   "id": "09393f94",
   "metadata": {},
   "source": [
    "### Coding Problem\n",
    "\n",
    "Given an array of numbers, find the smallest element in the array."
   ]
  },
  {
   "cell_type": "code",
   "execution_count": 2,
   "id": "20b7161d",
   "metadata": {},
   "outputs": [
    {
     "name": "stdout",
     "output_type": "stream",
     "text": [
      "Smallest 10000000000\n"
     ]
    }
   ],
   "source": [
    "// Example 1\n",
    "const xs = [10000000000];\n",
    "console.log(\"Smallest\", 10000000000);"
   ]
  },
  {
   "cell_type": "code",
   "execution_count": 3,
   "id": "9a1eaa55",
   "metadata": {},
   "outputs": [
    {
     "name": "stdout",
     "output_type": "stream",
     "text": [
      "Smallest 1\n"
     ]
    }
   ],
   "source": [
    "// Example 2\n",
    "const xs = [2, 1];\n",
    "console.log(\"Smallest\", 1);"
   ]
  },
  {
   "cell_type": "code",
   "execution_count": 4,
   "id": "aaf1b4e4",
   "metadata": {},
   "outputs": [
    {
     "name": "stdout",
     "output_type": "stream",
     "text": [
      "Smallest undefined\n"
     ]
    }
   ],
   "source": [
    "// Example 3\n",
    "const xs = [];\n",
    "console.log(\"Smallest\", undefined);"
   ]
  },
  {
   "cell_type": "code",
   "execution_count": 5,
   "id": "29cb573f",
   "metadata": {},
   "outputs": [
    {
     "name": "stdout",
     "output_type": "stream",
     "text": [
      "Smallest 13\n"
     ]
    }
   ],
   "source": [
    "// Example 4\n",
    "const xs = [32, 21, 13, 90];\n",
    "console.log(\"Smallest\", 13);"
   ]
  },
  {
   "cell_type": "markdown",
   "id": "062fba70",
   "metadata": {},
   "source": [
    "### An iterative solution\n",
    "\n",
    "I know most of you can code this in your sleep ..."
   ]
  },
  {
   "cell_type": "code",
   "execution_count": 6,
   "id": "d9c2f3fe",
   "metadata": {},
   "outputs": [
    {
     "name": "stdout",
     "output_type": "stream",
     "text": [
      "13\n"
     ]
    }
   ],
   "source": [
    "function iterFindSmallest(xs: number[]): number | undefined {\n",
    "    if (xs.length === 0) { // Question: == vs. ===?\n",
    "        return undefined;\n",
    "    }\n",
    "    \n",
    "    let smallest = xs[0]; // State\n",
    "    for (let i=1; i < xs.length; i++) {   // Loops\n",
    "        smallest = Math.min(smallest, xs[i]);\n",
    "    }\n",
    "    return smallest;\n",
    "}\n",
    "\n",
    "iterFindSmallest([32, 21, 13, 90]);"
   ]
  },
  {
   "cell_type": "markdown",
   "id": "1e2b94dc",
   "metadata": {},
   "source": [
    "```\n",
    "\n",
    "\n",
    "\n",
    "\n",
    "\n",
    "\n",
    "\n",
    "\n",
    "\n",
    "\n",
    "\n",
    "\n",
    "For the moment, let's pretend we did\n",
    "not have loops and state. What would\n",
    "you do? Please post in chat.\n",
    "\n",
    "\n",
    "\n",
    "\n",
    "\n",
    "\n",
    "\n",
    "\n",
    "\n",
    "\n",
    "\n",
    "\n",
    "\n",
    "```"
   ]
  },
  {
   "cell_type": "markdown",
   "id": "b788cec9",
   "metadata": {},
   "source": [
    "### A general problem solving \"strategy\" in computer science\n",
    "\n",
    "- I can't solve the problem you gave me.\n",
    "- However I can solve a simpler version of the problem you gave me.\n",
    "- Any maybe the solution to the simpler problem will give me a hint for how to solve the \"harder\" problem."
   ]
  },
  {
   "cell_type": "markdown",
   "id": "06c4ec78",
   "metadata": {},
   "source": [
    "### A solution for up to length 1 arrays"
   ]
  },
  {
   "cell_type": "code",
   "execution_count": 7,
   "id": "a6b1d7b3",
   "metadata": {},
   "outputs": [],
   "source": [
    "function findSmallestUpTo1(xs: number[]): number | undefined {\n",
    "    if (xs.length === 0) { // Deal with empty array\n",
    "        return undefined;\n",
    "    } \n",
    "    \n",
    "    // Body\n",
    "    const smallest1 = xs[0];\n",
    "    if (xs.length === 1) {\n",
    "        return smallest1;\n",
    "    } else {\n",
    "        throw Error(\"Sad.\");\n",
    "    }\n",
    "}"
   ]
  },
  {
   "cell_type": "code",
   "execution_count": 8,
   "id": "25ac29d6",
   "metadata": {},
   "outputs": [
    {
     "name": "stdout",
     "output_type": "stream",
     "text": [
      "Smallest undefined\n",
      "Smallest 32\n"
     ]
    },
    {
     "data": {
      "text/html": [
       "<p style=\"color:red;\"> Error: Sad.</p>"
      ]
     },
     "metadata": {},
     "output_type": "display_data"
    }
   ],
   "source": [
    "console.log(\"Smallest\", findSmallestUpTo1([]));\n",
    "console.log(\"Smallest\", findSmallestUpTo1([32]));\n",
    "try {\n",
    "    console.log(\"Smallest\", findSmallestUpTo1([32, 21]));\n",
    "} catch (err) {\n",
    "    tslab.display.html(`<p style=\"color:red;\"> ${err}</p>`);\n",
    "}"
   ]
  },
  {
   "cell_type": "markdown",
   "id": "7d9f0ac6",
   "metadata": {},
   "source": [
    "### A solution for up to length 2 arrays"
   ]
  },
  {
   "cell_type": "code",
   "execution_count": 9,
   "id": "40b3ac9f",
   "metadata": {},
   "outputs": [],
   "source": [
    "function findSmallestUpTo2(xs: number[]): number | undefined {\n",
    "    if (xs.length === 0) { // Deal with empty array\n",
    "        return undefined;\n",
    "    } \n",
    "    \n",
    "    const smallest1 = xs[0];\n",
    "    if (xs.length === 1) {\n",
    "        return smallest1;\n",
    "    } else {\n",
    "        // This used to be \"throw Error(\"Not my problem ...\");\"\n",
    "        // Now we essentially copy-and-pasted the body of findSmallestUpTo1 here and\n",
    "        // 1. changed same variable names\n",
    "        // 2. used Math.min to the work of computing the minimum\n",
    "        const smallest2 = Math.min(smallest1, xs[1]);\n",
    "        if (xs.length === 2) {\n",
    "            return smallest2;\n",
    "        } else { \n",
    "            throw Error(\"Sad.\");\n",
    "        }\n",
    "    }\n",
    "}"
   ]
  },
  {
   "cell_type": "code",
   "execution_count": 10,
   "id": "a0f94571",
   "metadata": {},
   "outputs": [
    {
     "name": "stdout",
     "output_type": "stream",
     "text": [
      "Smallest undefined\n",
      "Smallest 32\n",
      "Smallest 21\n"
     ]
    },
    {
     "data": {
      "text/html": [
       "<p style=\"color:red;\"> Error: Sad.</p>"
      ]
     },
     "metadata": {},
     "output_type": "display_data"
    }
   ],
   "source": [
    "console.log(\"Smallest\", findSmallestUpTo2([]));\n",
    "console.log(\"Smallest\", findSmallestUpTo2([32]));\n",
    "console.log(\"Smallest\", findSmallestUpTo2([32, 21]));\n",
    "try {\n",
    "    console.log(\"Smallest\", findSmallestUpTo2([32, 21, 13]));\n",
    "} catch (err) {\n",
    "    tslab.display.html(`<p style=\"color:red;\"> ${err}</p>`);\n",
    "}"
   ]
  },
  {
   "cell_type": "markdown",
   "id": "5d33baf6",
   "metadata": {},
   "source": [
    "### A solution for up to length 3 arrays ..."
   ]
  },
  {
   "cell_type": "code",
   "execution_count": 11,
   "id": "829663bf",
   "metadata": {},
   "outputs": [],
   "source": [
    "function findSmallestUpTo3(xs: number[]): number | undefined {\n",
    "    if (xs.length === 0) { // Deal with empty array\n",
    "        return undefined;\n",
    "    } \n",
    "    \n",
    "    const smallest1 = xs[0];\n",
    "    if (xs.length === 1) {\n",
    "        return smallest1;\n",
    "    } else {\n",
    "        const smallest2 = Math.min(smallest1, xs[1]);\n",
    "        if (xs.length === 2) {\n",
    "            return smallest2;\n",
    "        } else { \n",
    "            const smallest2 = Math.min(smallest1, xs[1]);\n",
    "            if (xs.length === 3) {\n",
    "                return smallest2;\n",
    "            } else { \n",
    "                // This used to be \"throw Error(\"Sad.\");\"\n",
    "                // Now we essentially copy-and-pasted the body of findSmallestUpTo1 here and\n",
    "                // 1. changed same variable names\n",
    "                // 2. used Math.min to the work of computing the minimum\n",
    "                const smallest3 = Math.min(smallest2, xs[2]);\n",
    "                if (xs.length === 3) {\n",
    "                    return smallest3;\n",
    "                }\n",
    "                else {\n",
    "                    throw Error(\"Sad.\");   \n",
    "                }\n",
    "            }\n",
    "        }\n",
    "    }\n",
    "}"
   ]
  },
  {
   "cell_type": "code",
   "execution_count": 12,
   "id": "798a3343",
   "metadata": {},
   "outputs": [
    {
     "name": "stdout",
     "output_type": "stream",
     "text": [
      "Smallest undefined\n",
      "Smallest 32\n",
      "Smallest 21\n",
      "Smallest 21\n"
     ]
    },
    {
     "data": {
      "text/html": [
       "<p style=\"color:red;\"> Error: Sad.</p>"
      ]
     },
     "metadata": {},
     "output_type": "display_data"
    }
   ],
   "source": [
    "console.log(\"Smallest\", findSmallestUpTo3([]));\n",
    "console.log(\"Smallest\", findSmallestUpTo3([32]));\n",
    "console.log(\"Smallest\", findSmallestUpTo3([32, 21]));\n",
    "console.log(\"Smallest\", findSmallestUpTo3([32, 21, 13]));\n",
    "try {\n",
    "    console.log(\"Smallest\", findSmallestUpTo3([32, 21, 13, 90]));\n",
    "} catch (err) {\n",
    "    tslab.display.html(`<p style=\"color:red;\"> ${err}</p>`);\n",
    "}"
   ]
  },
  {
   "cell_type": "markdown",
   "id": "33d2a2b1",
   "metadata": {},
   "source": [
    "### Summary of solution to simpler problem\n",
    "\n",
    "- We did not solve the problem for arbitrary length arrays.\n",
    "- But we saw that if we had an unfolding mechanism that does \"copy-paste\" we could solve the problem.\n",
    "- A recursive function is a language feature that gives you this unfolding mechanism.\n",
    "    * **Main idea**: a recursive solution gives a solution to a problem by combining solutions to smaller instances of the **same** problem."
   ]
  },
  {
   "cell_type": "code",
   "execution_count": 13,
   "id": "4bf66c86",
   "metadata": {},
   "outputs": [
    {
     "name": "stdout",
     "output_type": "stream",
     "text": [
      "13\n"
     ]
    }
   ],
   "source": [
    "function findSmallest(xs: number[]): number | undefined {\n",
    "    if (xs.length === 0) {\n",
    "        return undefined;\n",
    "    }\n",
    "    \n",
    "    if (xs.length === 1) { // Base case\n",
    "        return xs[0];\n",
    "    } else {               // Recursive (or inductive) case\n",
    "        // xs.slice(1) is the smaller instance\n",
    "        // Math.min combines the solution to the smaller instance\n",
    "        // Intuition: I copy-paste myself whereever I reference myself\n",
    "        return Math.min(xs[0], findSmallest(xs.slice(1)));\n",
    "    }\n",
    "}\n",
    "\n",
    "findSmallest([32, 21, 13, 90])"
   ]
  },
  {
   "cell_type": "markdown",
   "id": "1f0e5a30",
   "metadata": {},
   "source": [
    "### Hold On\n",
    "\n",
    "This is an artificially constructed problem ... I do have loops and state. Do I really need to learn recursion?\n",
    "\n",
    "- Next time we'll look at what I hope to be a more compelling case for recursion.\n",
    "\n",
    "For now, I'd like to introduce the idea of a an algebraic data-type.\n",
    "\n",
    "- Earlier when we introduced the template for \"learning a programming language\", we had the idea that the *data* that your language defines informs the kinds of *code* / language constructs that your language should provide.\n",
    "- **(algebraic) data-types** are the corresponding language construct for recursive functions."
   ]
  },
  {
   "cell_type": "markdown",
   "id": "d0f708b8",
   "metadata": {},
   "source": [
    "## Lists\n",
    "\n",
    "- We'll use the list data-type to give the \"simplest\" example of a data-type.\n",
    "    * A data-type describes different ways of building a data-structure.\n",
    "    * Each way of building up the data-structure has an associated *constructor*\n",
    "- As a programmer, you will need to understand (1) how to read existing data-types and (2) implement your own data-types."
   ]
  },
  {
   "cell_type": "code",
   "execution_count": 14,
   "id": "9a2e30f9",
   "metadata": {},
   "outputs": [
    {
     "name": "stdout",
     "output_type": "stream",
     "text": [
      "[ 3, 2, 1 ]\n"
     ]
    },
    {
     "data": {
      "text/html": [
       "\n",
       "<style>\n",
       "    #mydivd2ebd550-4467-4cb3-8f5f-7d4682fc6ddf {\n",
       "        width: 800px;\n",
       "        height: 350px;\n",
       "        top: 0px;\n",
       "        left: 0px;\n",
       "    }\n",
       "</style>\n",
       "<div id=\"mydivd2ebd550-4467-4cb3-8f5f-7d4682fc6ddf\"></div>\n"
      ]
     },
     "metadata": {},
     "output_type": "display_data"
    },
    {
     "data": {
      "text/html": [
       "\n",
       "<script>\n",
       " (function(element) {\n",
       "     require(['cytoscape'], function(cytoscape) {   \n",
       "        var cy = cytoscape({\n",
       "         container: document.getElementById('mydivd2ebd550-4467-4cb3-8f5f-7d4682fc6ddf'),\n",
       "         style: [\n",
       "{\n",
       "  selector: 'node',\n",
       "  css: {\n",
       "    'class': \".bx--tree\",\n",
       "    'label': 'data(label)',\n",
       "    'height': '10px',\n",
       "    'width': '10px',\n",
       "  }\n",
       "},\n",
       "{\n",
       "  selector: 'edge',\n",
       "  css: {\n",
       "    'width': 3,\n",
       "    // 'line-color': '#ccc123',\n",
       "    'curve-style': 'bezier',\n",
       "    'target-arrow-shape': 'triangle',\n",
       "    'target-arrow-fill': 'filled',\n",
       "    'arrow-scale': 1,\n",
       "  }\n",
       "}\n",
       "],\n",
       "         layout: {},\n",
       "         elements: [\n",
       "  { data: { id: 'cons6', label: 3 } },\n",
       "  { data: { id: 'edge7', source: 'cons6', target: 'cons4' } },\n",
       "  { data: { id: 'cons4', label: 2 } },\n",
       "  { data: { id: 'edge5', source: 'cons4', target: 'cons2' } },\n",
       "  { data: { id: 'cons2', label: 1 } },\n",
       "  { data: { id: 'edge3', source: 'cons2', target: 'nil1' } },\n",
       "  { data: { id: 'nil1' } }\n",
       "]\n",
       "         });\n",
       "     });\n",
       " })(this.element);\n",
       "</script>\n"
      ]
     },
     "metadata": {},
     "output_type": "display_data"
    }
   ],
   "source": [
    "const arr = [3, 2, 1];\n",
    "console.log(arr);\n",
    "\n",
    "// The corresponding array as a list [3, 2, 1]\n",
    "drawList(list.ls3);"
   ]
  },
  {
   "cell_type": "code",
   "execution_count": 15,
   "id": "b37dbf39",
   "metadata": {},
   "outputs": [],
   "source": [
    "// The list data-type\n",
    "enum _List { NIL, CONS };\n",
    "type List<T> =\n",
    "  {tag: _List.NIL}                                // An empty list\n",
    "| {tag: _List.CONS, contents: T, rest: List<T>};  // A contents cell followed by a list"
   ]
  },
  {
   "cell_type": "code",
   "execution_count": 16,
   "id": "13e29fdc",
   "metadata": {},
   "outputs": [],
   "source": [
    "function Nil<T>(): List<T> {\n",
    "    // Helper function for constructing an empty list\n",
    "    return {tag: _List.NIL};\n",
    "}\n",
    "\n",
    "function Cons<T>(x: T, ls: List<T>): List<T> {\n",
    "    // Helper function for adding an element to the front of a list\n",
    "    return {tag: _List.CONS, contents: x, rest: ls};\n",
    "}"
   ]
  },
  {
   "cell_type": "code",
   "execution_count": 17,
   "id": "d57377ca",
   "metadata": {},
   "outputs": [],
   "source": [
    "const ls0 = Nil();\n",
    "const ls1 = Cons(1, Nil());\n",
    "const ls2 = Cons(2, ls1);\n",
    "const ls3 = Cons(3, ls2);\n",
    "const ls4 = Cons(4, ls3);\n",
    "const ls5 = Cons(5, ls4);"
   ]
  },
  {
   "cell_type": "code",
   "execution_count": 18,
   "id": "002fb81f",
   "metadata": {},
   "outputs": [
    {
     "data": {
      "text/html": [
       "\n",
       "<style>\n",
       "    #mydiv8539ca81-8ed1-4dd9-855b-4caa539f1e26 {\n",
       "        width: 800px;\n",
       "        height: 350px;\n",
       "        top: 0px;\n",
       "        left: 0px;\n",
       "    }\n",
       "</style>\n",
       "<div id=\"mydiv8539ca81-8ed1-4dd9-855b-4caa539f1e26\"></div>\n"
      ]
     },
     "metadata": {},
     "output_type": "display_data"
    },
    {
     "data": {
      "text/html": [
       "\n",
       "<script>\n",
       " (function(element) {\n",
       "     require(['cytoscape'], function(cytoscape) {   \n",
       "        var cy = cytoscape({\n",
       "         container: document.getElementById('mydiv8539ca81-8ed1-4dd9-855b-4caa539f1e26'),\n",
       "         style: [\n",
       "{\n",
       "  selector: 'node',\n",
       "  css: {\n",
       "    'class': \".bx--tree\",\n",
       "    'label': 'data(label)',\n",
       "    'height': '10px',\n",
       "    'width': '10px',\n",
       "  }\n",
       "},\n",
       "{\n",
       "  selector: 'edge',\n",
       "  css: {\n",
       "    'width': 3,\n",
       "    // 'line-color': '#ccc123',\n",
       "    'curve-style': 'bezier',\n",
       "    'target-arrow-shape': 'triangle',\n",
       "    'target-arrow-fill': 'filled',\n",
       "    'arrow-scale': 1,\n",
       "  }\n",
       "}\n",
       "],\n",
       "         layout: {},\n",
       "         elements: [ { data: { id: 'nil1' } } ]\n",
       "         });\n",
       "     });\n",
       " })(this.element);\n",
       "</script>\n"
      ]
     },
     "metadata": {},
     "output_type": "display_data"
    }
   ],
   "source": [
    "drawList(ls0);"
   ]
  },
  {
   "cell_type": "code",
   "execution_count": 19,
   "id": "a21ea142",
   "metadata": {},
   "outputs": [
    {
     "name": "stdout",
     "output_type": "stream",
     "text": [
      "{ tag: 0 }\n"
     ]
    }
   ],
   "source": [
    "ls0"
   ]
  },
  {
   "cell_type": "code",
   "execution_count": 20,
   "id": "2b2a1105",
   "metadata": {},
   "outputs": [
    {
     "data": {
      "text/html": [
       "\n",
       "<style>\n",
       "    #mydivf89e3f39-cfca-43c7-b345-1491b8dba754 {\n",
       "        width: 800px;\n",
       "        height: 350px;\n",
       "        top: 0px;\n",
       "        left: 0px;\n",
       "    }\n",
       "</style>\n",
       "<div id=\"mydivf89e3f39-cfca-43c7-b345-1491b8dba754\"></div>\n"
      ]
     },
     "metadata": {},
     "output_type": "display_data"
    },
    {
     "data": {
      "text/html": [
       "\n",
       "<script>\n",
       " (function(element) {\n",
       "     require(['cytoscape'], function(cytoscape) {   \n",
       "        var cy = cytoscape({\n",
       "         container: document.getElementById('mydivf89e3f39-cfca-43c7-b345-1491b8dba754'),\n",
       "         style: [\n",
       "{\n",
       "  selector: 'node',\n",
       "  css: {\n",
       "    'class': \".bx--tree\",\n",
       "    'label': 'data(label)',\n",
       "    'height': '10px',\n",
       "    'width': '10px',\n",
       "  }\n",
       "},\n",
       "{\n",
       "  selector: 'edge',\n",
       "  css: {\n",
       "    'width': 3,\n",
       "    // 'line-color': '#ccc123',\n",
       "    'curve-style': 'bezier',\n",
       "    'target-arrow-shape': 'triangle',\n",
       "    'target-arrow-fill': 'filled',\n",
       "    'arrow-scale': 1,\n",
       "  }\n",
       "}\n",
       "],\n",
       "         layout: {},\n",
       "         elements: [\n",
       "  { data: { id: 'cons2', label: 1 } },\n",
       "  { data: { id: 'edge3', source: 'cons2', target: 'nil1' } },\n",
       "  { data: { id: 'nil1' } }\n",
       "]\n",
       "         });\n",
       "     });\n",
       " })(this.element);\n",
       "</script>\n"
      ]
     },
     "metadata": {},
     "output_type": "display_data"
    }
   ],
   "source": [
    "drawList(ls1)"
   ]
  },
  {
   "cell_type": "code",
   "execution_count": 21,
   "id": "777492c6",
   "metadata": {},
   "outputs": [
    {
     "name": "stdout",
     "output_type": "stream",
     "text": [
      "{ tag: 1, contents: 1, rest: { tag: 0 } }\n"
     ]
    }
   ],
   "source": [
    "ls1 // Notice how the entirety of ls0 is \"nested\" inside ls1"
   ]
  },
  {
   "cell_type": "code",
   "execution_count": 22,
   "id": "eb947255",
   "metadata": {},
   "outputs": [
    {
     "data": {
      "text/html": [
       "\n",
       "<style>\n",
       "    #mydiv082c9117-f50c-4dd6-9721-d601f9e76690 {\n",
       "        width: 800px;\n",
       "        height: 350px;\n",
       "        top: 0px;\n",
       "        left: 0px;\n",
       "    }\n",
       "</style>\n",
       "<div id=\"mydiv082c9117-f50c-4dd6-9721-d601f9e76690\"></div>\n"
      ]
     },
     "metadata": {},
     "output_type": "display_data"
    },
    {
     "data": {
      "text/html": [
       "\n",
       "<script>\n",
       " (function(element) {\n",
       "     require(['cytoscape'], function(cytoscape) {   \n",
       "        var cy = cytoscape({\n",
       "         container: document.getElementById('mydiv082c9117-f50c-4dd6-9721-d601f9e76690'),\n",
       "         style: [\n",
       "{\n",
       "  selector: 'node',\n",
       "  css: {\n",
       "    'class': \".bx--tree\",\n",
       "    'label': 'data(label)',\n",
       "    'height': '10px',\n",
       "    'width': '10px',\n",
       "  }\n",
       "},\n",
       "{\n",
       "  selector: 'edge',\n",
       "  css: {\n",
       "    'width': 3,\n",
       "    // 'line-color': '#ccc123',\n",
       "    'curve-style': 'bezier',\n",
       "    'target-arrow-shape': 'triangle',\n",
       "    'target-arrow-fill': 'filled',\n",
       "    'arrow-scale': 1,\n",
       "  }\n",
       "}\n",
       "],\n",
       "         layout: {},\n",
       "         elements: [\n",
       "  { data: { id: 'cons4', label: 2 } },\n",
       "  { data: { id: 'edge5', source: 'cons4', target: 'cons2' } },\n",
       "  { data: { id: 'cons2', label: 1 } },\n",
       "  { data: { id: 'edge3', source: 'cons2', target: 'nil1' } },\n",
       "  { data: { id: 'nil1' } }\n",
       "]\n",
       "         });\n",
       "     });\n",
       " })(this.element);\n",
       "</script>\n"
      ]
     },
     "metadata": {},
     "output_type": "display_data"
    }
   ],
   "source": [
    "drawList(ls2)"
   ]
  },
  {
   "cell_type": "code",
   "execution_count": 23,
   "id": "795bfa2c",
   "metadata": {},
   "outputs": [
    {
     "name": "stdout",
     "output_type": "stream",
     "text": [
      "{\n",
      "  tag: 1,\n",
      "  contents: 2,\n",
      "  rest: { tag: 1, contents: 1, rest: { tag: 0 } }\n",
      "}\n"
     ]
    }
   ],
   "source": [
    "ls2 // Notice how the entirety of ls1 is \"nested\" inside ls2"
   ]
  },
  {
   "cell_type": "code",
   "execution_count": 24,
   "id": "bad9a33c",
   "metadata": {
    "scrolled": true
   },
   "outputs": [
    {
     "data": {
      "text/html": [
       "\n",
       "<style>\n",
       "    #mydiv5bd1dcb4-b81d-4ce9-b0a9-705a151cfdd8 {\n",
       "        width: 800px;\n",
       "        height: 350px;\n",
       "        top: 0px;\n",
       "        left: 0px;\n",
       "    }\n",
       "</style>\n",
       "<div id=\"mydiv5bd1dcb4-b81d-4ce9-b0a9-705a151cfdd8\"></div>\n"
      ]
     },
     "metadata": {},
     "output_type": "display_data"
    },
    {
     "data": {
      "text/html": [
       "\n",
       "<script>\n",
       " (function(element) {\n",
       "     require(['cytoscape'], function(cytoscape) {   \n",
       "        var cy = cytoscape({\n",
       "         container: document.getElementById('mydiv5bd1dcb4-b81d-4ce9-b0a9-705a151cfdd8'),\n",
       "         style: [\n",
       "{\n",
       "  selector: 'node',\n",
       "  css: {\n",
       "    'class': \".bx--tree\",\n",
       "    'label': 'data(label)',\n",
       "    'height': '10px',\n",
       "    'width': '10px',\n",
       "  }\n",
       "},\n",
       "{\n",
       "  selector: 'edge',\n",
       "  css: {\n",
       "    'width': 3,\n",
       "    // 'line-color': '#ccc123',\n",
       "    'curve-style': 'bezier',\n",
       "    'target-arrow-shape': 'triangle',\n",
       "    'target-arrow-fill': 'filled',\n",
       "    'arrow-scale': 1,\n",
       "  }\n",
       "}\n",
       "],\n",
       "         layout: {},\n",
       "         elements: [\n",
       "  { data: { id: 'cons6', label: 3 } },\n",
       "  { data: { id: 'edge7', source: 'cons6', target: 'cons4' } },\n",
       "  { data: { id: 'cons4', label: 2 } },\n",
       "  { data: { id: 'edge5', source: 'cons4', target: 'cons2' } },\n",
       "  { data: { id: 'cons2', label: 1 } },\n",
       "  { data: { id: 'edge3', source: 'cons2', target: 'nil1' } },\n",
       "  { data: { id: 'nil1' } }\n",
       "]\n",
       "         });\n",
       "     });\n",
       " })(this.element);\n",
       "</script>\n"
      ]
     },
     "metadata": {},
     "output_type": "display_data"
    }
   ],
   "source": [
    "drawList(ls3)"
   ]
  },
  {
   "cell_type": "code",
   "execution_count": 25,
   "id": "01711133",
   "metadata": {},
   "outputs": [
    {
     "name": "stdout",
     "output_type": "stream",
     "text": [
      "{\n",
      "  tag: 1,\n",
      "  contents: 3,\n",
      "  rest: {\n",
      "    tag: 1,\n",
      "    contents: 2,\n",
      "    rest: { tag: 1, contents: 1, rest: [Object] }\n",
      "  }\n",
      "}\n"
     ]
    }
   ],
   "source": [
    "ls3"
   ]
  },
  {
   "cell_type": "markdown",
   "id": "6d1e474a",
   "metadata": {},
   "source": [
    "### Simple Functions on Lists\n",
    "\n",
    "- Some examples of simple (i.e., not-recursive) functions on lists"
   ]
  },
  {
   "cell_type": "code",
   "execution_count": 26,
   "id": "f91251e5",
   "metadata": {},
   "outputs": [],
   "source": [
    "function head<T>(ls: List<T>): T {\n",
    "    // A desctructor for a list\n",
    "    switch (ls.tag) {\n",
    "        case _List.NIL: {\n",
    "            throw Error(\"Empty list ...\");\n",
    "        }\n",
    "        case _List.CONS: {\n",
    "            return ls.contents;\n",
    "        }\n",
    "    }\n",
    "}"
   ]
  },
  {
   "cell_type": "code",
   "execution_count": 27,
   "id": "f86af5ee",
   "metadata": {},
   "outputs": [
    {
     "data": {
      "text/html": [
       "\n",
       "<style>\n",
       "    #mydiv3b9570d0-9318-4ba3-9ba2-3507dcf326c2 {\n",
       "        width: 800px;\n",
       "        height: 350px;\n",
       "        top: 0px;\n",
       "        left: 0px;\n",
       "    }\n",
       "</style>\n",
       "<div id=\"mydiv3b9570d0-9318-4ba3-9ba2-3507dcf326c2\"></div>\n"
      ]
     },
     "metadata": {},
     "output_type": "display_data"
    },
    {
     "data": {
      "text/html": [
       "\n",
       "<script>\n",
       " (function(element) {\n",
       "     require(['cytoscape'], function(cytoscape) {   \n",
       "        var cy = cytoscape({\n",
       "         container: document.getElementById('mydiv3b9570d0-9318-4ba3-9ba2-3507dcf326c2'),\n",
       "         style: [\n",
       "{\n",
       "  selector: 'node',\n",
       "  css: {\n",
       "    'class': \".bx--tree\",\n",
       "    'label': 'data(label)',\n",
       "    'height': '10px',\n",
       "    'width': '10px',\n",
       "  }\n",
       "},\n",
       "{\n",
       "  selector: 'edge',\n",
       "  css: {\n",
       "    'width': 3,\n",
       "    // 'line-color': '#ccc123',\n",
       "    'curve-style': 'bezier',\n",
       "    'target-arrow-shape': 'triangle',\n",
       "    'target-arrow-fill': 'filled',\n",
       "    'arrow-scale': 1,\n",
       "  }\n",
       "}\n",
       "],\n",
       "         layout: {},\n",
       "         elements: [\n",
       "  { data: { id: 'cons6', label: 3 } },\n",
       "  { data: { id: 'edge7', source: 'cons6', target: 'cons4' } },\n",
       "  { data: { id: 'cons4', label: 2 } },\n",
       "  { data: { id: 'edge5', source: 'cons4', target: 'cons2' } },\n",
       "  { data: { id: 'cons2', label: 1 } },\n",
       "  { data: { id: 'edge3', source: 'cons2', target: 'nil1' } },\n",
       "  { data: { id: 'nil1' } }\n",
       "]\n",
       "         });\n",
       "     });\n",
       " })(this.element);\n",
       "</script>\n"
      ]
     },
     "metadata": {},
     "output_type": "display_data"
    }
   ],
   "source": [
    "drawList(ls3)"
   ]
  },
  {
   "cell_type": "code",
   "execution_count": 28,
   "id": "435fde8e",
   "metadata": {},
   "outputs": [
    {
     "name": "stdout",
     "output_type": "stream",
     "text": [
      "3\n"
     ]
    }
   ],
   "source": [
    "head(ls3)"
   ]
  },
  {
   "cell_type": "code",
   "execution_count": 29,
   "id": "c2ad2d03",
   "metadata": {},
   "outputs": [],
   "source": [
    "function tail<T>(ls: List<T>): List<T> {\n",
    "    // A list destructor\n",
    "    switch (ls.tag) {\n",
    "        case _List.NIL: {\n",
    "            throw Error(\"Empty list ...\");\n",
    "        }\n",
    "        case _List.CONS: {\n",
    "            return ls.rest;\n",
    "        }\n",
    "    }\n",
    "}"
   ]
  },
  {
   "cell_type": "code",
   "execution_count": 30,
   "id": "64f21e96",
   "metadata": {},
   "outputs": [
    {
     "data": {
      "text/html": [
       "\n",
       "<style>\n",
       "    #mydiveb6c77de-d281-4286-b408-f61f2a1ecff3 {\n",
       "        width: 800px;\n",
       "        height: 350px;\n",
       "        top: 0px;\n",
       "        left: 0px;\n",
       "    }\n",
       "</style>\n",
       "<div id=\"mydiveb6c77de-d281-4286-b408-f61f2a1ecff3\"></div>\n"
      ]
     },
     "metadata": {},
     "output_type": "display_data"
    },
    {
     "data": {
      "text/html": [
       "\n",
       "<script>\n",
       " (function(element) {\n",
       "     require(['cytoscape'], function(cytoscape) {   \n",
       "        var cy = cytoscape({\n",
       "         container: document.getElementById('mydiveb6c77de-d281-4286-b408-f61f2a1ecff3'),\n",
       "         style: [\n",
       "{\n",
       "  selector: 'node',\n",
       "  css: {\n",
       "    'class': \".bx--tree\",\n",
       "    'label': 'data(label)',\n",
       "    'height': '10px',\n",
       "    'width': '10px',\n",
       "  }\n",
       "},\n",
       "{\n",
       "  selector: 'edge',\n",
       "  css: {\n",
       "    'width': 3,\n",
       "    // 'line-color': '#ccc123',\n",
       "    'curve-style': 'bezier',\n",
       "    'target-arrow-shape': 'triangle',\n",
       "    'target-arrow-fill': 'filled',\n",
       "    'arrow-scale': 1,\n",
       "  }\n",
       "}\n",
       "],\n",
       "         layout: {},\n",
       "         elements: [\n",
       "  { data: { id: 'cons4', label: 2 } },\n",
       "  { data: { id: 'edge5', source: 'cons4', target: 'cons2' } },\n",
       "  { data: { id: 'cons2', label: 1 } },\n",
       "  { data: { id: 'edge3', source: 'cons2', target: 'nil1' } },\n",
       "  { data: { id: 'nil1' } }\n",
       "]\n",
       "         });\n",
       "     });\n",
       " })(this.element);\n",
       "</script>\n"
      ]
     },
     "metadata": {},
     "output_type": "display_data"
    }
   ],
   "source": [
    "drawList(tail(ls3))"
   ]
  },
  {
   "cell_type": "code",
   "execution_count": 31,
   "id": "72c37414",
   "metadata": {},
   "outputs": [
    {
     "name": "stdout",
     "output_type": "stream",
     "text": [
      "{ tag: 1, contents: 1, rest: { tag: 0 } }\n"
     ]
    }
   ],
   "source": [
    "tail(ls2)"
   ]
  },
  {
   "cell_type": "markdown",
   "id": "555e3782",
   "metadata": {},
   "source": [
    "### Recursive Functions on Lists\n",
    "\n",
    "- We just saw simple operations on lists: building them and taking them apart.\n",
    "- What about recursion? "
   ]
  },
  {
   "cell_type": "markdown",
   "id": "99f43654",
   "metadata": {},
   "source": [
    "#### Problem\n",
    "\n",
    "- Suppose you want to compute the length of a list."
   ]
  },
  {
   "cell_type": "markdown",
   "id": "498aaed8",
   "metadata": {},
   "source": [
    "#### First an iterative solution\n",
    "\n",
    "Recall with arrays and dictionaries, i.e., collections of items, we used looping mechanisms to examine the contents of collections.\n",
    "```\n",
    "const xs = [1, 2, 3];\n",
    "for (let x of xs) {\n",
    "  console.log(x)\n",
    "}\n",
    "```"
   ]
  },
  {
   "cell_type": "code",
   "execution_count": 32,
   "id": "008a021a",
   "metadata": {},
   "outputs": [],
   "source": [
    "function iterLength<T>(ls: List<T>): number {\n",
    "    let lsHead = ls;\n",
    "    let ans = 0;  // State\n",
    "    let iter = 0;  \n",
    "    while (true) {\n",
    "        // Visualize\n",
    "        console.log(`iterLength iteration: ${iter}      current answer: ${ans}`);\n",
    "        drawList(lsHead);\n",
    "        switch (lsHead.tag) {\n",
    "            case _List.NIL: {\n",
    "                return ans;\n",
    "            }\n",
    "            case _List.CONS: {\n",
    "                ans += 1;\n",
    "                iter += 1;\n",
    "                lsHead = lsHead.rest;\n",
    "            }\n",
    "        }\n",
    "    }\n",
    "}"
   ]
  },
  {
   "cell_type": "code",
   "execution_count": 33,
   "id": "dfeb53bd",
   "metadata": {},
   "outputs": [
    {
     "name": "stdout",
     "output_type": "stream",
     "text": [
      "iterLength iteration: 0      current answer: 0\n"
     ]
    },
    {
     "data": {
      "text/html": [
       "\n",
       "<style>\n",
       "    #mydivd48d4299-b7b7-41b8-8560-c3e58db84ad6 {\n",
       "        width: 800px;\n",
       "        height: 350px;\n",
       "        top: 0px;\n",
       "        left: 0px;\n",
       "    }\n",
       "</style>\n",
       "<div id=\"mydivd48d4299-b7b7-41b8-8560-c3e58db84ad6\"></div>\n"
      ]
     },
     "metadata": {},
     "output_type": "display_data"
    },
    {
     "data": {
      "text/html": [
       "\n",
       "<script>\n",
       " (function(element) {\n",
       "     require(['cytoscape'], function(cytoscape) {   \n",
       "        var cy = cytoscape({\n",
       "         container: document.getElementById('mydivd48d4299-b7b7-41b8-8560-c3e58db84ad6'),\n",
       "         style: [\n",
       "{\n",
       "  selector: 'node',\n",
       "  css: {\n",
       "    'class': \".bx--tree\",\n",
       "    'label': 'data(label)',\n",
       "    'height': '10px',\n",
       "    'width': '10px',\n",
       "  }\n",
       "},\n",
       "{\n",
       "  selector: 'edge',\n",
       "  css: {\n",
       "    'width': 3,\n",
       "    // 'line-color': '#ccc123',\n",
       "    'curve-style': 'bezier',\n",
       "    'target-arrow-shape': 'triangle',\n",
       "    'target-arrow-fill': 'filled',\n",
       "    'arrow-scale': 1,\n",
       "  }\n",
       "}\n",
       "],\n",
       "         layout: {},\n",
       "         elements: [\n",
       "  { data: { id: 'cons6', label: 3 } },\n",
       "  { data: { id: 'edge7', source: 'cons6', target: 'cons4' } },\n",
       "  { data: { id: 'cons4', label: 2 } },\n",
       "  { data: { id: 'edge5', source: 'cons4', target: 'cons2' } },\n",
       "  { data: { id: 'cons2', label: 1 } },\n",
       "  { data: { id: 'edge3', source: 'cons2', target: 'nil1' } },\n",
       "  { data: { id: 'nil1' } }\n",
       "]\n",
       "         });\n",
       "     });\n",
       " })(this.element);\n",
       "</script>\n"
      ]
     },
     "metadata": {},
     "output_type": "display_data"
    },
    {
     "name": "stdout",
     "output_type": "stream",
     "text": [
      "iterLength iteration: 1      current answer: 1\n"
     ]
    },
    {
     "data": {
      "text/html": [
       "\n",
       "<style>\n",
       "    #mydiv25732e92-979b-46c2-92e6-e5d3b2ae7ebb {\n",
       "        width: 800px;\n",
       "        height: 350px;\n",
       "        top: 0px;\n",
       "        left: 0px;\n",
       "    }\n",
       "</style>\n",
       "<div id=\"mydiv25732e92-979b-46c2-92e6-e5d3b2ae7ebb\"></div>\n"
      ]
     },
     "metadata": {},
     "output_type": "display_data"
    },
    {
     "data": {
      "text/html": [
       "\n",
       "<script>\n",
       " (function(element) {\n",
       "     require(['cytoscape'], function(cytoscape) {   \n",
       "        var cy = cytoscape({\n",
       "         container: document.getElementById('mydiv25732e92-979b-46c2-92e6-e5d3b2ae7ebb'),\n",
       "         style: [\n",
       "{\n",
       "  selector: 'node',\n",
       "  css: {\n",
       "    'class': \".bx--tree\",\n",
       "    'label': 'data(label)',\n",
       "    'height': '10px',\n",
       "    'width': '10px',\n",
       "  }\n",
       "},\n",
       "{\n",
       "  selector: 'edge',\n",
       "  css: {\n",
       "    'width': 3,\n",
       "    // 'line-color': '#ccc123',\n",
       "    'curve-style': 'bezier',\n",
       "    'target-arrow-shape': 'triangle',\n",
       "    'target-arrow-fill': 'filled',\n",
       "    'arrow-scale': 1,\n",
       "  }\n",
       "}\n",
       "],\n",
       "         layout: {},\n",
       "         elements: [\n",
       "  { data: { id: 'cons4', label: 2 } },\n",
       "  { data: { id: 'edge5', source: 'cons4', target: 'cons2' } },\n",
       "  { data: { id: 'cons2', label: 1 } },\n",
       "  { data: { id: 'edge3', source: 'cons2', target: 'nil1' } },\n",
       "  { data: { id: 'nil1' } }\n",
       "]\n",
       "         });\n",
       "     });\n",
       " })(this.element);\n",
       "</script>\n"
      ]
     },
     "metadata": {},
     "output_type": "display_data"
    },
    {
     "name": "stdout",
     "output_type": "stream",
     "text": [
      "iterLength iteration: 2      current answer: 2\n"
     ]
    },
    {
     "data": {
      "text/html": [
       "\n",
       "<style>\n",
       "    #mydiv4999a55c-f18c-4cb4-b5a4-c12cd748f3e4 {\n",
       "        width: 800px;\n",
       "        height: 350px;\n",
       "        top: 0px;\n",
       "        left: 0px;\n",
       "    }\n",
       "</style>\n",
       "<div id=\"mydiv4999a55c-f18c-4cb4-b5a4-c12cd748f3e4\"></div>\n"
      ]
     },
     "metadata": {},
     "output_type": "display_data"
    },
    {
     "data": {
      "text/html": [
       "\n",
       "<script>\n",
       " (function(element) {\n",
       "     require(['cytoscape'], function(cytoscape) {   \n",
       "        var cy = cytoscape({\n",
       "         container: document.getElementById('mydiv4999a55c-f18c-4cb4-b5a4-c12cd748f3e4'),\n",
       "         style: [\n",
       "{\n",
       "  selector: 'node',\n",
       "  css: {\n",
       "    'class': \".bx--tree\",\n",
       "    'label': 'data(label)',\n",
       "    'height': '10px',\n",
       "    'width': '10px',\n",
       "  }\n",
       "},\n",
       "{\n",
       "  selector: 'edge',\n",
       "  css: {\n",
       "    'width': 3,\n",
       "    // 'line-color': '#ccc123',\n",
       "    'curve-style': 'bezier',\n",
       "    'target-arrow-shape': 'triangle',\n",
       "    'target-arrow-fill': 'filled',\n",
       "    'arrow-scale': 1,\n",
       "  }\n",
       "}\n",
       "],\n",
       "         layout: {},\n",
       "         elements: [\n",
       "  { data: { id: 'cons2', label: 1 } },\n",
       "  { data: { id: 'edge3', source: 'cons2', target: 'nil1' } },\n",
       "  { data: { id: 'nil1' } }\n",
       "]\n",
       "         });\n",
       "     });\n",
       " })(this.element);\n",
       "</script>\n"
      ]
     },
     "metadata": {},
     "output_type": "display_data"
    },
    {
     "name": "stdout",
     "output_type": "stream",
     "text": [
      "iterLength iteration: 3      current answer: 3\n"
     ]
    },
    {
     "data": {
      "text/html": [
       "\n",
       "<style>\n",
       "    #mydiv4e110ba7-d148-42e1-a896-1672444705fe {\n",
       "        width: 800px;\n",
       "        height: 350px;\n",
       "        top: 0px;\n",
       "        left: 0px;\n",
       "    }\n",
       "</style>\n",
       "<div id=\"mydiv4e110ba7-d148-42e1-a896-1672444705fe\"></div>\n"
      ]
     },
     "metadata": {},
     "output_type": "display_data"
    },
    {
     "data": {
      "text/html": [
       "\n",
       "<script>\n",
       " (function(element) {\n",
       "     require(['cytoscape'], function(cytoscape) {   \n",
       "        var cy = cytoscape({\n",
       "         container: document.getElementById('mydiv4e110ba7-d148-42e1-a896-1672444705fe'),\n",
       "         style: [\n",
       "{\n",
       "  selector: 'node',\n",
       "  css: {\n",
       "    'class': \".bx--tree\",\n",
       "    'label': 'data(label)',\n",
       "    'height': '10px',\n",
       "    'width': '10px',\n",
       "  }\n",
       "},\n",
       "{\n",
       "  selector: 'edge',\n",
       "  css: {\n",
       "    'width': 3,\n",
       "    // 'line-color': '#ccc123',\n",
       "    'curve-style': 'bezier',\n",
       "    'target-arrow-shape': 'triangle',\n",
       "    'target-arrow-fill': 'filled',\n",
       "    'arrow-scale': 1,\n",
       "  }\n",
       "}\n",
       "],\n",
       "         layout: {},\n",
       "         elements: [ { data: { id: 'nil1' } } ]\n",
       "         });\n",
       "     });\n",
       " })(this.element);\n",
       "</script>\n"
      ]
     },
     "metadata": {},
     "output_type": "display_data"
    },
    {
     "name": "stdout",
     "output_type": "stream",
     "text": [
      "3\n"
     ]
    }
   ],
   "source": [
    "iterLength(ls3)"
   ]
  },
  {
   "cell_type": "markdown",
   "id": "d3b16bc3",
   "metadata": {},
   "source": [
    "#### Pretending again that we don't have loops, solving a simpler problem\n",
    "\n",
    "Let's try solving the simpler problem for up to length 2 lists."
   ]
  },
  {
   "cell_type": "code",
   "execution_count": 34,
   "id": "bc7b8a9a",
   "metadata": {},
   "outputs": [],
   "source": [
    "function lengthUpTo1<T>(ls: List<T>): number {\n",
    "    const head = ls;   // List we are looking at\n",
    "    const ans = 0;     // Contains the answer for length 0 lists\n",
    "    switch (head.tag) {\n",
    "        case _List.NIL: {\n",
    "            return ans;\n",
    "        }\n",
    "        case _List.CONS: {\n",
    "            const head1 = head.rest;  // List we are looking at\n",
    "            const ans1 = 1 + ans;     // Contains the answer for length 1 lists\n",
    "            switch (head1.tag) {\n",
    "                case _List.NIL: {\n",
    "                    return ans1;\n",
    "                }\n",
    "                case _List.CONS: {\n",
    "                    throw Error(\"Sad.\")\n",
    "                }\n",
    "            }\n",
    "        }\n",
    "    }\n",
    "}"
   ]
  },
  {
   "cell_type": "code",
   "execution_count": 35,
   "id": "6c67029d",
   "metadata": {},
   "outputs": [
    {
     "name": "stdout",
     "output_type": "stream",
     "text": [
      "Length 0\n",
      "Length 1\n"
     ]
    },
    {
     "data": {
      "text/html": [
       "<p style=\"color:red;\"> Error: Sad.</p>"
      ]
     },
     "metadata": {},
     "output_type": "display_data"
    }
   ],
   "source": [
    "console.log(\"Length\", lengthUpTo1(ls0));\n",
    "console.log(\"Length\", lengthUpTo1(ls1));\n",
    "try {\n",
    "    console.log(lengthUpTo1(ls2));\n",
    "} catch(err) {\n",
    "    tslab.display.html(`<p style=\"color:red;\"> ${err}</p>`);\n",
    "}"
   ]
  },
  {
   "cell_type": "code",
   "execution_count": 36,
   "id": "dd182ddb",
   "metadata": {},
   "outputs": [
    {
     "name": "stdout",
     "output_type": "stream",
     "text": [
      "2\n"
     ]
    }
   ],
   "source": [
    "function lengthUpTo2<T>(ls: List<T>): number {\n",
    "    const head = ls;\n",
    "    const ans = 0;\n",
    "    switch (head.tag) {\n",
    "        case _List.NIL: {\n",
    "            return ans;\n",
    "        }\n",
    "        case _List.CONS: {\n",
    "            const head1 = head.rest;\n",
    "            const ans1 = 1 + ans;\n",
    "            switch (head1.tag) {\n",
    "                case _List.NIL: {\n",
    "                    return ans1;\n",
    "                }\n",
    "                case _List.CONS: {\n",
    "                    // This used to be throw Error(\"Sad.\");\n",
    "                    // We copy and pasted the entire body of lengthUpTo1 in here and changed some variables around.\n",
    "                    const head2 = head1.rest;\n",
    "                    const ans2 = ans1 + 1;\n",
    "                    switch (head2.tag) {\n",
    "                        case _List.NIL: {\n",
    "                            return ans2;\n",
    "                        }   \n",
    "                        case _List.CONS: {\n",
    "                            // Keep unfolding ...\n",
    "                            throw Error(\"Sad.\");\n",
    "                        }\n",
    "                    }\n",
    "                }\n",
    "            }\n",
    "        }\n",
    "    }\n",
    "}\n",
    "    \n",
    "lengthUpTo2(ls2)"
   ]
  },
  {
   "cell_type": "code",
   "execution_count": 37,
   "id": "ff1183ee",
   "metadata": {},
   "outputs": [
    {
     "name": "stdout",
     "output_type": "stream",
     "text": [
      "Length 0\n",
      "Length 1\n",
      "Length 2\n"
     ]
    },
    {
     "data": {
      "text/html": [
       "<p style=\"color:red;\"> Error: Sad.</p>"
      ]
     },
     "metadata": {},
     "output_type": "display_data"
    }
   ],
   "source": [
    "console.log(\"Length\", lengthUpTo2(ls0));\n",
    "console.log(\"Length\", lengthUpTo2(ls1));\n",
    "console.log(\"Length\", lengthUpTo2(ls2));\n",
    "try {\n",
    "    console.log(\"Length\", lengthUpTo2(ls3));\n",
    "} catch(err) {\n",
    "    tslab.display.html(`<p style=\"color:red;\"> ${err}</p>`);\n",
    "}"
   ]
  },
  {
   "cell_type": "markdown",
   "id": "1936137e",
   "metadata": {},
   "source": [
    "#### A recursive solution"
   ]
  },
  {
   "cell_type": "code",
   "execution_count": 38,
   "id": "625fc4ee",
   "metadata": {},
   "outputs": [],
   "source": [
    "function length<T>(ls: List<T>): number {\n",
    "    const head = ls;\n",
    "    const ans = 0;\n",
    "    switch (ls.tag) {\n",
    "        case _List.NIL: {\n",
    "            // Base case: no call to itself.\n",
    "            return ans;\n",
    "        }\n",
    "        case _List.CONS: {\n",
    "            // Recursive case: call to itself. \"Copy-paste the definition of length\"\n",
    "            const ansRest = length(ls.rest);\n",
    "            const ansRestplus1 = 1 + ansRest;\n",
    "            return ansRestplus1;\n",
    "        }\n",
    "    }\n",
    "}"
   ]
  },
  {
   "cell_type": "code",
   "execution_count": 39,
   "id": "ddf70857",
   "metadata": {},
   "outputs": [
    {
     "name": "stdout",
     "output_type": "stream",
     "text": [
      "Length 0\n",
      "Length 1\n",
      "Length 2\n",
      "Length 5\n"
     ]
    }
   ],
   "source": [
    "console.log(\"Length\", length(ls0));\n",
    "console.log(\"Length\", length(ls1));\n",
    "console.log(\"Length\", length(ls2));\n",
    "try {\n",
    "    console.log(\"Length\", length(ls5));\n",
    "} catch(err) {\n",
    "    tslab.display.html(`<p style=\"color:red;\"> ${err}</p>`);\n",
    "}"
   ]
  },
  {
   "cell_type": "markdown",
   "id": "51031824",
   "metadata": {},
   "source": [
    "#### How does the recursive solution work?\n",
    "\n",
    "Let's do a **call stack** trace."
   ]
  },
  {
   "cell_type": "code",
   "execution_count": 40,
   "id": "ab596fb3",
   "metadata": {},
   "outputs": [
    {
     "data": {
      "text/html": [
       "\n",
       "<style>\n",
       "    #mydiv113e6a8f-8f5e-4828-b592-9fa4c32588b1 {\n",
       "        width: 800px;\n",
       "        height: 350px;\n",
       "        top: 0px;\n",
       "        left: 0px;\n",
       "    }\n",
       "</style>\n",
       "<div id=\"mydiv113e6a8f-8f5e-4828-b592-9fa4c32588b1\"></div>\n"
      ]
     },
     "metadata": {},
     "output_type": "display_data"
    },
    {
     "data": {
      "text/html": [
       "\n",
       "<script>\n",
       " (function(element) {\n",
       "     require(['cytoscape'], function(cytoscape) {   \n",
       "        var cy = cytoscape({\n",
       "         container: document.getElementById('mydiv113e6a8f-8f5e-4828-b592-9fa4c32588b1'),\n",
       "         style: [\n",
       "{\n",
       "  selector: 'node',\n",
       "  css: {\n",
       "    'class': \".bx--tree\",\n",
       "    'label': 'data(label)',\n",
       "    'height': '10px',\n",
       "    'width': '10px',\n",
       "  }\n",
       "},\n",
       "{\n",
       "  selector: 'edge',\n",
       "  css: {\n",
       "    'width': 3,\n",
       "    // 'line-color': '#ccc123',\n",
       "    'curve-style': 'bezier',\n",
       "    'target-arrow-shape': 'triangle',\n",
       "    'target-arrow-fill': 'filled',\n",
       "    'arrow-scale': 1,\n",
       "  }\n",
       "}\n",
       "],\n",
       "         layout: {},\n",
       "         elements: [\n",
       "  { data: { id: 'cons2', label: 1 } },\n",
       "  { data: { id: 'edge3', source: 'cons2', target: 'nil1' } },\n",
       "  { data: { id: 'nil1' } }\n",
       "]\n",
       "         });\n",
       "     });\n",
       " })(this.element);\n",
       "</script>\n"
      ]
     },
     "metadata": {},
     "output_type": "display_data"
    }
   ],
   "source": [
    "drawList(ls1)"
   ]
  },
  {
   "cell_type": "code",
   "execution_count": 41,
   "id": "0ba55c27",
   "metadata": {},
   "outputs": [
    {
     "name": "stdout",
     "output_type": "stream",
     "text": [
      "0\n"
     ]
    },
    {
     "data": {
      "text/html": [
       "\n",
       "<style>\n",
       "    #mydiv45d167df-f9e8-426e-b947-8bbf16fc8263 {\n",
       "        width: 800px;\n",
       "        height: 350px;\n",
       "        top: 0px;\n",
       "        left: 0px;\n",
       "    }\n",
       "</style>\n",
       "<div id=\"mydiv45d167df-f9e8-426e-b947-8bbf16fc8263\"></div>\n"
      ]
     },
     "metadata": {},
     "output_type": "display_data"
    },
    {
     "data": {
      "text/html": [
       "\n",
       "<script>\n",
       " (function(element) {\n",
       "     require(['cytoscape'], function(cytoscape) {   \n",
       "        var cy = cytoscape({\n",
       "         container: document.getElementById('mydiv45d167df-f9e8-426e-b947-8bbf16fc8263'),\n",
       "         style: [\n",
       "{\n",
       "  selector: 'node',\n",
       "  css: {\n",
       "    'class': \".bx--tree\",\n",
       "    'label': 'data(label)',\n",
       "    'height': '10px',\n",
       "    'width': '10px',\n",
       "  }\n",
       "},\n",
       "{\n",
       "  selector: 'edge',\n",
       "  css: {\n",
       "    'width': 3,\n",
       "    // 'line-color': '#ccc123',\n",
       "    'curve-style': 'bezier',\n",
       "    'target-arrow-shape': 'triangle',\n",
       "    'target-arrow-fill': 'filled',\n",
       "    'arrow-scale': 1,\n",
       "  }\n",
       "}\n",
       "],\n",
       "         layout: \n",
       "{\n",
       "  name: 'breadthfirst',\n",
       "  directed: true,\n",
       "  padding: 10\n",
       "}\n",
       ",\n",
       "         elements: [\n",
       "  { data: { id: 0, label: 'CALL[0]([\"ls\",{\"tag\":0}])' } },\n",
       "  { data: { id: 1, label: 'RET[1](0)' } },\n",
       "  { data: { id: 'edge1', source: 0, target: 1 } }\n",
       "]\n",
       "         });\n",
       "     });\n",
       " })(this.element);\n",
       "</script>\n"
      ]
     },
     "metadata": {},
     "output_type": "display_data"
    }
   ],
   "source": [
    "const res = introspect.traceCallStack(length, exports);\n",
    "console.log(res.func(ls0));\n",
    "drawCallStack(res.stack);"
   ]
  },
  {
   "cell_type": "code",
   "execution_count": 42,
   "id": "406a5062",
   "metadata": {},
   "outputs": [
    {
     "name": "stdout",
     "output_type": "stream",
     "text": [
      "1\n"
     ]
    },
    {
     "data": {
      "text/html": [
       "\n",
       "<style>\n",
       "    #mydivd1f6971a-9eda-4986-9ccb-88c0f8e0f7fc {\n",
       "        width: 800px;\n",
       "        height: 350px;\n",
       "        top: 0px;\n",
       "        left: 0px;\n",
       "    }\n",
       "</style>\n",
       "<div id=\"mydivd1f6971a-9eda-4986-9ccb-88c0f8e0f7fc\"></div>\n"
      ]
     },
     "metadata": {},
     "output_type": "display_data"
    },
    {
     "data": {
      "text/html": [
       "\n",
       "<script>\n",
       " (function(element) {\n",
       "     require(['cytoscape'], function(cytoscape) {   \n",
       "        var cy = cytoscape({\n",
       "         container: document.getElementById('mydivd1f6971a-9eda-4986-9ccb-88c0f8e0f7fc'),\n",
       "         style: [\n",
       "{\n",
       "  selector: 'node',\n",
       "  css: {\n",
       "    'class': \".bx--tree\",\n",
       "    'label': 'data(label)',\n",
       "    'height': '10px',\n",
       "    'width': '10px',\n",
       "  }\n",
       "},\n",
       "{\n",
       "  selector: 'edge',\n",
       "  css: {\n",
       "    'width': 3,\n",
       "    // 'line-color': '#ccc123',\n",
       "    'curve-style': 'bezier',\n",
       "    'target-arrow-shape': 'triangle',\n",
       "    'target-arrow-fill': 'filled',\n",
       "    'arrow-scale': 1,\n",
       "  }\n",
       "}\n",
       "],\n",
       "         layout: \n",
       "{\n",
       "  name: 'breadthfirst',\n",
       "  directed: true,\n",
       "  padding: 10\n",
       "}\n",
       ",\n",
       "         elements: [\n",
       "  {\n",
       "    data: {\n",
       "      id: 0,\n",
       "      label: 'CALL[0]([\"ls\",{\"tag\":1,\"contents\":1,\"rest\":{\"tag\":0}}])'\n",
       "    }\n",
       "  },\n",
       "  { data: { id: 1, label: 'CALL[1]([\"ls\",{\"tag\":0}])' } },\n",
       "  { data: { id: 'edge1', source: 0, target: 1 } },\n",
       "  { data: { id: 2, label: 'RET[2](0)' } },\n",
       "  { data: { id: 'edge2', source: 1, target: 2 } },\n",
       "  { data: { id: 3, label: 'RET[3](1)' } },\n",
       "  { data: { id: 'edge3', source: 2, target: 3 } }\n",
       "]\n",
       "         });\n",
       "     });\n",
       " })(this.element);\n",
       "</script>\n"
      ]
     },
     "metadata": {},
     "output_type": "display_data"
    }
   ],
   "source": [
    "const res = introspect.traceCallStack(length, exports);\n",
    "console.log(res.func(ls1));\n",
    "// Notice the nesting structure: we took the previous diagram and wrapped it on both ends,\n",
    "// on one end with CALL and on the other end with RET.\n",
    "drawCallStack(res.stack);"
   ]
  },
  {
   "cell_type": "code",
   "execution_count": 43,
   "id": "1ceba183",
   "metadata": {},
   "outputs": [
    {
     "name": "stdout",
     "output_type": "stream",
     "text": [
      "2\n"
     ]
    },
    {
     "data": {
      "text/html": [
       "\n",
       "<style>\n",
       "    #mydivbc96afb5-a5a8-476a-b92e-c35dcf191a89 {\n",
       "        width: 800px;\n",
       "        height: 350px;\n",
       "        top: 0px;\n",
       "        left: 0px;\n",
       "    }\n",
       "</style>\n",
       "<div id=\"mydivbc96afb5-a5a8-476a-b92e-c35dcf191a89\"></div>\n"
      ]
     },
     "metadata": {},
     "output_type": "display_data"
    },
    {
     "data": {
      "text/html": [
       "\n",
       "<script>\n",
       " (function(element) {\n",
       "     require(['cytoscape'], function(cytoscape) {   \n",
       "        var cy = cytoscape({\n",
       "         container: document.getElementById('mydivbc96afb5-a5a8-476a-b92e-c35dcf191a89'),\n",
       "         style: [\n",
       "{\n",
       "  selector: 'node',\n",
       "  css: {\n",
       "    'class': \".bx--tree\",\n",
       "    'label': 'data(label)',\n",
       "    'height': '10px',\n",
       "    'width': '10px',\n",
       "  }\n",
       "},\n",
       "{\n",
       "  selector: 'edge',\n",
       "  css: {\n",
       "    'width': 3,\n",
       "    // 'line-color': '#ccc123',\n",
       "    'curve-style': 'bezier',\n",
       "    'target-arrow-shape': 'triangle',\n",
       "    'target-arrow-fill': 'filled',\n",
       "    'arrow-scale': 1,\n",
       "  }\n",
       "}\n",
       "],\n",
       "         layout: \n",
       "{\n",
       "  name: 'breadthfirst',\n",
       "  directed: true,\n",
       "  padding: 10\n",
       "}\n",
       ",\n",
       "         elements: [\n",
       "  {\n",
       "    data: {\n",
       "      id: 0,\n",
       "      label: 'CALL[0]([\"ls\",{\"tag\":1,\"contents\":2,\"rest\":{\"tag\":1,\"contents\":1,\"rest\":{\"tag\":0}}}])'\n",
       "    }\n",
       "  },\n",
       "  {\n",
       "    data: {\n",
       "      id: 1,\n",
       "      label: 'CALL[1]([\"ls\",{\"tag\":1,\"contents\":1,\"rest\":{\"tag\":0}}])'\n",
       "    }\n",
       "  },\n",
       "  { data: { id: 'edge1', source: 0, target: 1 } },\n",
       "  { data: { id: 2, label: 'CALL[2]([\"ls\",{\"tag\":0}])' } },\n",
       "  { data: { id: 'edge2', source: 1, target: 2 } },\n",
       "  { data: { id: 3, label: 'RET[3](0)' } },\n",
       "  { data: { id: 'edge3', source: 2, target: 3 } },\n",
       "  { data: { id: 4, label: 'RET[4](1)' } },\n",
       "  { data: { id: 'edge4', source: 3, target: 4 } },\n",
       "  { data: { id: 5, label: 'RET[5](2)' } },\n",
       "  { data: { id: 'edge5', source: 4, target: 5 } }\n",
       "]\n",
       "         });\n",
       "     });\n",
       " })(this.element);\n",
       "</script>\n"
      ]
     },
     "metadata": {},
     "output_type": "display_data"
    }
   ],
   "source": [
    "const res = introspect.traceCallStack(length, exports);\n",
    "console.log(res.func(ls2));\n",
    "// Notice the nesting structure: we took the previous diagram and wrapped it on both ends,\n",
    "// on one end with CALL and on the other end with RET.\n",
    "drawCallStack(res.stack);"
   ]
  },
  {
   "cell_type": "code",
   "execution_count": 44,
   "id": "a8090593",
   "metadata": {},
   "outputs": [
    {
     "name": "stdout",
     "output_type": "stream",
     "text": [
      "2\n"
     ]
    }
   ],
   "source": [
    "function recLengthUpTo2<T>(ls: List<T>): number { // 0th Unfolding\n",
    "    let head0 = ls; // CALL(ls2)\n",
    "    let tmp0;       // put answer of CALL(ls2) here\n",
    "    switch (head0.tag) {\n",
    "        case _List.NIL: {\n",
    "            tmp0 = 0;\n",
    "            break;\n",
    "        }\n",
    "        case _List.CONS: { // 1st Unfolding\n",
    "            let head1: List<T> = head0.rest; // CALL(ls1)\n",
    "            let tmp1;                        // put answer of CALL(ls1) here\n",
    "            switch (head1.tag) {\n",
    "                case _List.NIL: {\n",
    "                    tmp1 = 0;\n",
    "                    break;\n",
    "                }\n",
    "                case _List.CONS: { // 2nd Unfolding\n",
    "                    let head2: List<T> = head1.rest // CALL(ls0)\n",
    "                    let tmp2;                       // put answer of CALL(ls0) here\n",
    "                    switch (head2.tag) {\n",
    "                        case _List.NIL: {\n",
    "                            tmp2 = 0; // RET(0)\n",
    "                            break;\n",
    "                        }\n",
    "                        case _List.CONS: {\n",
    "                            throw Error(\"Not impelmented ...\");\n",
    "                        }\n",
    "                    }\n",
    "                    // Assuming I know the answer of CALL(ls0), compute the answer to CALL(ls1)\n",
    "                    tmp1 = 1 + tmp2; // RET(1)\n",
    "                    break;\n",
    "                }\n",
    "            }        \n",
    "            // Assuming I know the answer of CALL(ls1), compute the answer to CALL(ls2)\n",
    "            tmp0 = 1 + tmp1; // RET(2)\n",
    "            break;\n",
    "        }\n",
    "    }\n",
    "    return tmp0;\n",
    "}\n",
    "\n",
    "recLengthUpTo2(ls2)"
   ]
  },
  {
   "cell_type": "markdown",
   "id": "9c4f1e2f",
   "metadata": {},
   "source": [
    "### Iteration vs. Recursion\n"
   ]
  },
  {
   "cell_type": "code",
   "execution_count": 45,
   "id": "a47ea7c3",
   "metadata": {},
   "outputs": [
    {
     "name": "stdout",
     "output_type": "stream",
     "text": [
      "iterLength iteration: 0      current answer: 0\n"
     ]
    },
    {
     "data": {
      "text/html": [
       "\n",
       "<style>\n",
       "    #mydivb296cbad-6a78-4c75-9731-a2fc350c2cc1 {\n",
       "        width: 800px;\n",
       "        height: 350px;\n",
       "        top: 0px;\n",
       "        left: 0px;\n",
       "    }\n",
       "</style>\n",
       "<div id=\"mydivb296cbad-6a78-4c75-9731-a2fc350c2cc1\"></div>\n"
      ]
     },
     "metadata": {},
     "output_type": "display_data"
    },
    {
     "data": {
      "text/html": [
       "\n",
       "<script>\n",
       " (function(element) {\n",
       "     require(['cytoscape'], function(cytoscape) {   \n",
       "        var cy = cytoscape({\n",
       "         container: document.getElementById('mydivb296cbad-6a78-4c75-9731-a2fc350c2cc1'),\n",
       "         style: [\n",
       "{\n",
       "  selector: 'node',\n",
       "  css: {\n",
       "    'class': \".bx--tree\",\n",
       "    'label': 'data(label)',\n",
       "    'height': '10px',\n",
       "    'width': '10px',\n",
       "  }\n",
       "},\n",
       "{\n",
       "  selector: 'edge',\n",
       "  css: {\n",
       "    'width': 3,\n",
       "    // 'line-color': '#ccc123',\n",
       "    'curve-style': 'bezier',\n",
       "    'target-arrow-shape': 'triangle',\n",
       "    'target-arrow-fill': 'filled',\n",
       "    'arrow-scale': 1,\n",
       "  }\n",
       "}\n",
       "],\n",
       "         layout: {},\n",
       "         elements: [\n",
       "  { data: { id: 'cons4', label: 2 } },\n",
       "  { data: { id: 'edge5', source: 'cons4', target: 'cons2' } },\n",
       "  { data: { id: 'cons2', label: 1 } },\n",
       "  { data: { id: 'edge3', source: 'cons2', target: 'nil1' } },\n",
       "  { data: { id: 'nil1' } }\n",
       "]\n",
       "         });\n",
       "     });\n",
       " })(this.element);\n",
       "</script>\n"
      ]
     },
     "metadata": {},
     "output_type": "display_data"
    },
    {
     "name": "stdout",
     "output_type": "stream",
     "text": [
      "iterLength iteration: 1      current answer: 1\n"
     ]
    },
    {
     "data": {
      "text/html": [
       "\n",
       "<style>\n",
       "    #mydiva2d50621-2cc7-44fa-b997-de8716d3459d {\n",
       "        width: 800px;\n",
       "        height: 350px;\n",
       "        top: 0px;\n",
       "        left: 0px;\n",
       "    }\n",
       "</style>\n",
       "<div id=\"mydiva2d50621-2cc7-44fa-b997-de8716d3459d\"></div>\n"
      ]
     },
     "metadata": {},
     "output_type": "display_data"
    },
    {
     "data": {
      "text/html": [
       "\n",
       "<script>\n",
       " (function(element) {\n",
       "     require(['cytoscape'], function(cytoscape) {   \n",
       "        var cy = cytoscape({\n",
       "         container: document.getElementById('mydiva2d50621-2cc7-44fa-b997-de8716d3459d'),\n",
       "         style: [\n",
       "{\n",
       "  selector: 'node',\n",
       "  css: {\n",
       "    'class': \".bx--tree\",\n",
       "    'label': 'data(label)',\n",
       "    'height': '10px',\n",
       "    'width': '10px',\n",
       "  }\n",
       "},\n",
       "{\n",
       "  selector: 'edge',\n",
       "  css: {\n",
       "    'width': 3,\n",
       "    // 'line-color': '#ccc123',\n",
       "    'curve-style': 'bezier',\n",
       "    'target-arrow-shape': 'triangle',\n",
       "    'target-arrow-fill': 'filled',\n",
       "    'arrow-scale': 1,\n",
       "  }\n",
       "}\n",
       "],\n",
       "         layout: {},\n",
       "         elements: [\n",
       "  { data: { id: 'cons2', label: 1 } },\n",
       "  { data: { id: 'edge3', source: 'cons2', target: 'nil1' } },\n",
       "  { data: { id: 'nil1' } }\n",
       "]\n",
       "         });\n",
       "     });\n",
       " })(this.element);\n",
       "</script>\n"
      ]
     },
     "metadata": {},
     "output_type": "display_data"
    },
    {
     "name": "stdout",
     "output_type": "stream",
     "text": [
      "iterLength iteration: 2      current answer: 2\n"
     ]
    },
    {
     "data": {
      "text/html": [
       "\n",
       "<style>\n",
       "    #mydiv41c03954-5e9c-40ba-9c41-3004a3835eda {\n",
       "        width: 800px;\n",
       "        height: 350px;\n",
       "        top: 0px;\n",
       "        left: 0px;\n",
       "    }\n",
       "</style>\n",
       "<div id=\"mydiv41c03954-5e9c-40ba-9c41-3004a3835eda\"></div>\n"
      ]
     },
     "metadata": {},
     "output_type": "display_data"
    },
    {
     "data": {
      "text/html": [
       "\n",
       "<script>\n",
       " (function(element) {\n",
       "     require(['cytoscape'], function(cytoscape) {   \n",
       "        var cy = cytoscape({\n",
       "         container: document.getElementById('mydiv41c03954-5e9c-40ba-9c41-3004a3835eda'),\n",
       "         style: [\n",
       "{\n",
       "  selector: 'node',\n",
       "  css: {\n",
       "    'class': \".bx--tree\",\n",
       "    'label': 'data(label)',\n",
       "    'height': '10px',\n",
       "    'width': '10px',\n",
       "  }\n",
       "},\n",
       "{\n",
       "  selector: 'edge',\n",
       "  css: {\n",
       "    'width': 3,\n",
       "    // 'line-color': '#ccc123',\n",
       "    'curve-style': 'bezier',\n",
       "    'target-arrow-shape': 'triangle',\n",
       "    'target-arrow-fill': 'filled',\n",
       "    'arrow-scale': 1,\n",
       "  }\n",
       "}\n",
       "],\n",
       "         layout: {},\n",
       "         elements: [ { data: { id: 'nil1' } } ]\n",
       "         });\n",
       "     });\n",
       " })(this.element);\n",
       "</script>\n"
      ]
     },
     "metadata": {},
     "output_type": "display_data"
    },
    {
     "name": "stdout",
     "output_type": "stream",
     "text": [
      "2\n"
     ]
    },
    {
     "data": {
      "text/html": [
       "\n",
       "<style>\n",
       "    #mydiv112634dd-1cc5-4cd0-a854-b111aff4bba7 {\n",
       "        width: 800px;\n",
       "        height: 350px;\n",
       "        top: 0px;\n",
       "        left: 0px;\n",
       "    }\n",
       "</style>\n",
       "<div id=\"mydiv112634dd-1cc5-4cd0-a854-b111aff4bba7\"></div>\n"
      ]
     },
     "metadata": {},
     "output_type": "display_data"
    },
    {
     "data": {
      "text/html": [
       "\n",
       "<script>\n",
       " (function(element) {\n",
       "     require(['cytoscape'], function(cytoscape) {   \n",
       "        var cy = cytoscape({\n",
       "         container: document.getElementById('mydiv112634dd-1cc5-4cd0-a854-b111aff4bba7'),\n",
       "         style: [\n",
       "{\n",
       "  selector: 'node',\n",
       "  css: {\n",
       "    'class': \".bx--tree\",\n",
       "    'label': 'data(label)',\n",
       "    'height': '10px',\n",
       "    'width': '10px',\n",
       "  }\n",
       "},\n",
       "{\n",
       "  selector: 'edge',\n",
       "  css: {\n",
       "    'width': 3,\n",
       "    // 'line-color': '#ccc123',\n",
       "    'curve-style': 'bezier',\n",
       "    'target-arrow-shape': 'triangle',\n",
       "    'target-arrow-fill': 'filled',\n",
       "    'arrow-scale': 1,\n",
       "  }\n",
       "}\n",
       "],\n",
       "         layout: \n",
       "{\n",
       "  name: 'breadthfirst',\n",
       "  directed: true,\n",
       "  padding: 10\n",
       "}\n",
       ",\n",
       "         elements: [\n",
       "  {\n",
       "    data: {\n",
       "      id: 0,\n",
       "      label: 'CALL[0]([\"ls\",{\"tag\":1,\"contents\":2,\"rest\":{\"tag\":1,\"contents\":1,\"rest\":{\"tag\":0}}}])'\n",
       "    }\n",
       "  },\n",
       "  { data: { id: 1, label: 'RET[1](2)' } },\n",
       "  { data: { id: 'edge1', source: 0, target: 1 } }\n",
       "]\n",
       "         });\n",
       "     });\n",
       " })(this.element);\n",
       "</script>\n"
      ]
     },
     "metadata": {},
     "output_type": "display_data"
    }
   ],
   "source": [
    "const res = introspect.traceCallStack(iterLength, exports);\n",
    "console.log(res.func(ls2));\n",
    "drawCallStack(res.stack);"
   ]
  },
  {
   "cell_type": "markdown",
   "id": "7836f175",
   "metadata": {},
   "source": [
    "What are the similarities/differences between the iterative approach and the recursive approach for length?\n",
    "\n",
    "- Iteration unfolded from the front of the list.\n",
    "    * Build up answer to the length question by traversing the list.\n",
    "    * Call stack trace has 1 CALL-RET pair.\n",
    "- Recursion unfolded from the back of the list.\n",
    "    * Build up answer to the length question by using answers to the length question on smaller lists.\n",
    "    * Call stack trace has N, where N is the length of the list, CALL-RET pairs."
   ]
  },
  {
   "cell_type": "markdown",
   "id": "3ada20d3",
   "metadata": {},
   "source": [
    "### Can we rewrite the recursive solution?"
   ]
  },
  {
   "cell_type": "code",
   "execution_count": 46,
   "id": "eb18ece4",
   "metadata": {},
   "outputs": [],
   "source": [
    "// acc stands for accumulator\n",
    "function accLengthHelper<T>(acc: number, ls: List<T>): number {\n",
    "    switch (ls.tag) {\n",
    "        case _List.NIL: {\n",
    "            // End of iteration\n",
    "            return acc;\n",
    "        }\n",
    "        case _List.CONS: {\n",
    "            return accLengthHelper(acc + 1, ls.rest);\n",
    "        }\n",
    "    }\n",
    "}"
   ]
  },
  {
   "cell_type": "code",
   "execution_count": 47,
   "id": "e6f9b53b",
   "metadata": {},
   "outputs": [
    {
     "name": "stdout",
     "output_type": "stream",
     "text": [
      "3\n"
     ]
    },
    {
     "data": {
      "text/html": [
       "\n",
       "<style>\n",
       "    #mydiv9b9d414d-1c24-4a3f-b205-9bf9300b4919 {\n",
       "        width: 800px;\n",
       "        height: 350px;\n",
       "        top: 0px;\n",
       "        left: 0px;\n",
       "    }\n",
       "</style>\n",
       "<div id=\"mydiv9b9d414d-1c24-4a3f-b205-9bf9300b4919\"></div>\n"
      ]
     },
     "metadata": {},
     "output_type": "display_data"
    },
    {
     "data": {
      "text/html": [
       "\n",
       "<script>\n",
       " (function(element) {\n",
       "     require(['cytoscape'], function(cytoscape) {   \n",
       "        var cy = cytoscape({\n",
       "         container: document.getElementById('mydiv9b9d414d-1c24-4a3f-b205-9bf9300b4919'),\n",
       "         style: [\n",
       "{\n",
       "  selector: 'node',\n",
       "  css: {\n",
       "    'class': \".bx--tree\",\n",
       "    'label': 'data(label)',\n",
       "    'height': '10px',\n",
       "    'width': '10px',\n",
       "  }\n",
       "},\n",
       "{\n",
       "  selector: 'edge',\n",
       "  css: {\n",
       "    'width': 3,\n",
       "    // 'line-color': '#ccc123',\n",
       "    'curve-style': 'bezier',\n",
       "    'target-arrow-shape': 'triangle',\n",
       "    'target-arrow-fill': 'filled',\n",
       "    'arrow-scale': 1,\n",
       "  }\n",
       "}\n",
       "],\n",
       "         layout: \n",
       "{\n",
       "  name: 'breadthfirst',\n",
       "  directed: true,\n",
       "  padding: 10\n",
       "}\n",
       ",\n",
       "         elements: [\n",
       "  { data: { id: 0, label: 'CALL[0]([\"acc\",0])' } },\n",
       "  {\n",
       "    data: {\n",
       "      id: 1,\n",
       "      label: 'CALL[1]([\"ls\",{\"tag\":1,\"contents\":3,\"rest\":{\"tag\":1,\"contents\":2,\"rest\":{\"tag\":1,\"contents\":1,\"rest\":{\"tag\":0}}}}])'\n",
       "    }\n",
       "  },\n",
       "  { data: { id: 2, label: 'CALL[2]([\"acc\",1])' } },\n",
       "  { data: { id: 'edge1', source: 1, target: 2 } },\n",
       "  {\n",
       "    data: {\n",
       "      id: 3,\n",
       "      label: 'CALL[3]([\"ls\",{\"tag\":1,\"contents\":2,\"rest\":{\"tag\":1,\"contents\":1,\"rest\":{\"tag\":0}}}])'\n",
       "    }\n",
       "  },\n",
       "  { data: { id: 'edge2', source: 1, target: 3 } },\n",
       "  { data: { id: 4, label: 'CALL[4]([\"acc\",2])' } },\n",
       "  { data: { id: 'edge3', source: 3, target: 4 } },\n",
       "  {\n",
       "    data: {\n",
       "      id: 5,\n",
       "      label: 'CALL[5]([\"ls\",{\"tag\":1,\"contents\":1,\"rest\":{\"tag\":0}}])'\n",
       "    }\n",
       "  },\n",
       "  { data: { id: 'edge4', source: 3, target: 5 } },\n",
       "  { data: { id: 6, label: 'CALL[6]([\"acc\",3])' } },\n",
       "  { data: { id: 'edge5', source: 5, target: 6 } },\n",
       "  { data: { id: 7, label: 'CALL[7]([\"ls\",{\"tag\":0}])' } },\n",
       "  { data: { id: 'edge6', source: 5, target: 7 } },\n",
       "  { data: { id: 8, label: 'RET[8](3)' } },\n",
       "  { data: { id: 'edge7', source: 7, target: 8 } },\n",
       "  { data: { id: 9, label: 'RET[9](3)' } },\n",
       "  { data: { id: 'edge8', source: 8, target: 9 } },\n",
       "  { data: { id: 10, label: 'RET[10](3)' } },\n",
       "  { data: { id: 'edge9', source: 9, target: 10 } },\n",
       "  { data: { id: 11, label: 'RET[11](3)' } },\n",
       "  { data: { id: 'edge10', source: 10, target: 11 } }\n",
       "]\n",
       "         });\n",
       "     });\n",
       " })(this.element);\n",
       "</script>\n"
      ]
     },
     "metadata": {},
     "output_type": "display_data"
    }
   ],
   "source": [
    "const res = introspect.traceCallStack(accLengthHelper, exports);\n",
    "console.log(res.func(0, ls3));\n",
    "drawCallStack(res.stack); // Notice how the returns do not need the previous solution anymore"
   ]
  },
  {
   "cell_type": "markdown",
   "id": "ef26e893",
   "metadata": {},
   "source": [
    "### Tail-Call Optimization\n",
    "\n",
    "- Because none of the later return statements need the computed values, they can be optimized away. This is called tail-call optimization.\n",
    "- TypeScript does not have tail-call optimization.\n",
    "- Takeaway: you should be mindful when writing recursive functions because it can use many more stack frames than an iterative function."
   ]
  },
  {
   "cell_type": "markdown",
   "id": "1553c89f",
   "metadata": {},
   "source": [
    "### Are there benefits to using recursion?\n",
    "\n",
    "- Suppose you want to print out a more compressed but still readable form of a list."
   ]
  },
  {
   "cell_type": "code",
   "execution_count": 48,
   "id": "fbf725e0",
   "metadata": {},
   "outputs": [
    {
     "name": "stdout",
     "output_type": "stream",
     "text": [
      "1 2\n",
      "1 2\n"
     ]
    }
   ],
   "source": [
    "// A side-note on string-interpoloation\n",
    "console.log(`${1} ${2}`);\n",
    "console.log(1 + \" \" + 2);"
   ]
  },
  {
   "cell_type": "code",
   "execution_count": 49,
   "id": "6cd92de7",
   "metadata": {},
   "outputs": [
    {
     "name": "stdout",
     "output_type": "stream",
     "text": [
      "{\n",
      "  tag: 1,\n",
      "  contents: 2,\n",
      "  rest: { tag: 1, contents: 1, rest: { tag: 0 } }\n",
      "}\n"
     ]
    }
   ],
   "source": [
    "ls2"
   ]
  },
  {
   "cell_type": "code",
   "execution_count": 50,
   "id": "4ae63484",
   "metadata": {},
   "outputs": [
    {
     "name": "stdout",
     "output_type": "stream",
     "text": [
      "(2 (1 ()))\n"
     ]
    }
   ],
   "source": [
    "function listToString<T>(ls: List<T>): string {\n",
    "    switch (ls.tag) {\n",
    "        case _List.NIL: {\n",
    "            // What is the \"answer\" for an empty list?\n",
    "            return \"()\";\n",
    "        }\n",
    "        case _List.CONS: {\n",
    "            // Assumtion: listToString(ls.rest) \"magically\" gives me the correct answer on the rest of the list\n",
    "            const ansOnRestOfList = listToString(ls.rest);\n",
    "            // How do I construct the correct answer for the larger list?\n",
    "            // \"(ls.contents ansOnRestOfList)\"\n",
    "            return `(${ls.contents} ${ansOnRestOfList})`;\n",
    "        }\n",
    "    }\n",
    "}\n",
    "\n",
    "listToString(ls2)"
   ]
  },
  {
   "cell_type": "code",
   "execution_count": 51,
   "id": "fa9642b9",
   "metadata": {},
   "outputs": [
    {
     "data": {
      "text/html": [
       "\n",
       "<style>\n",
       "    #mydiv417c34a8-62c1-4818-bcbf-9bd94569ca2c {\n",
       "        width: 800px;\n",
       "        height: 350px;\n",
       "        top: 0px;\n",
       "        left: 0px;\n",
       "    }\n",
       "</style>\n",
       "<div id=\"mydiv417c34a8-62c1-4818-bcbf-9bd94569ca2c\"></div>\n"
      ]
     },
     "metadata": {},
     "output_type": "display_data"
    },
    {
     "data": {
      "text/html": [
       "\n",
       "<script>\n",
       " (function(element) {\n",
       "     require(['cytoscape'], function(cytoscape) {   \n",
       "        var cy = cytoscape({\n",
       "         container: document.getElementById('mydiv417c34a8-62c1-4818-bcbf-9bd94569ca2c'),\n",
       "         style: [\n",
       "{\n",
       "  selector: 'node',\n",
       "  css: {\n",
       "    'class': \".bx--tree\",\n",
       "    'label': 'data(label)',\n",
       "    'height': '10px',\n",
       "    'width': '10px',\n",
       "  }\n",
       "},\n",
       "{\n",
       "  selector: 'edge',\n",
       "  css: {\n",
       "    'width': 3,\n",
       "    // 'line-color': '#ccc123',\n",
       "    'curve-style': 'bezier',\n",
       "    'target-arrow-shape': 'triangle',\n",
       "    'target-arrow-fill': 'filled',\n",
       "    'arrow-scale': 1,\n",
       "  }\n",
       "}\n",
       "],\n",
       "         layout: \n",
       "{\n",
       "  name: 'breadthfirst',\n",
       "  directed: true,\n",
       "  padding: 10\n",
       "}\n",
       ",\n",
       "         elements: [\n",
       "  { data: { id: 0, label: 'CALL[0]([\"ls\",{\"tag\":0}])' } },\n",
       "  { data: { id: 1, label: 'RET[1](\"()\")' } },\n",
       "  { data: { id: 'edge1', source: 0, target: 1 } }\n",
       "]\n",
       "         });\n",
       "     });\n",
       " })(this.element);\n",
       "</script>\n"
      ]
     },
     "metadata": {},
     "output_type": "display_data"
    }
   ],
   "source": [
    "const res = introspect.traceCallStack(listToString, exports);\n",
    "res.func(ls0)\n",
    "drawCallStack(res.stack)"
   ]
  },
  {
   "cell_type": "code",
   "execution_count": 52,
   "id": "52c03a8f",
   "metadata": {},
   "outputs": [
    {
     "data": {
      "text/html": [
       "\n",
       "<style>\n",
       "    #mydiv8aa2a25c-a137-42c8-9ac4-d9aa20c70e1d {\n",
       "        width: 800px;\n",
       "        height: 350px;\n",
       "        top: 0px;\n",
       "        left: 0px;\n",
       "    }\n",
       "</style>\n",
       "<div id=\"mydiv8aa2a25c-a137-42c8-9ac4-d9aa20c70e1d\"></div>\n"
      ]
     },
     "metadata": {},
     "output_type": "display_data"
    },
    {
     "data": {
      "text/html": [
       "\n",
       "<script>\n",
       " (function(element) {\n",
       "     require(['cytoscape'], function(cytoscape) {   \n",
       "        var cy = cytoscape({\n",
       "         container: document.getElementById('mydiv8aa2a25c-a137-42c8-9ac4-d9aa20c70e1d'),\n",
       "         style: [\n",
       "{\n",
       "  selector: 'node',\n",
       "  css: {\n",
       "    'class': \".bx--tree\",\n",
       "    'label': 'data(label)',\n",
       "    'height': '10px',\n",
       "    'width': '10px',\n",
       "  }\n",
       "},\n",
       "{\n",
       "  selector: 'edge',\n",
       "  css: {\n",
       "    'width': 3,\n",
       "    // 'line-color': '#ccc123',\n",
       "    'curve-style': 'bezier',\n",
       "    'target-arrow-shape': 'triangle',\n",
       "    'target-arrow-fill': 'filled',\n",
       "    'arrow-scale': 1,\n",
       "  }\n",
       "}\n",
       "],\n",
       "         layout: \n",
       "{\n",
       "  name: 'breadthfirst',\n",
       "  directed: true,\n",
       "  padding: 10\n",
       "}\n",
       ",\n",
       "         elements: [\n",
       "  {\n",
       "    data: {\n",
       "      id: 0,\n",
       "      label: 'CALL[0]([\"ls\",{\"tag\":1,\"contents\":1,\"rest\":{\"tag\":0}}])'\n",
       "    }\n",
       "  },\n",
       "  { data: { id: 1, label: 'CALL[1]([\"ls\",{\"tag\":0}])' } },\n",
       "  { data: { id: 'edge1', source: 0, target: 1 } },\n",
       "  { data: { id: 2, label: 'RET[2](\"()\")' } },\n",
       "  { data: { id: 'edge2', source: 1, target: 2 } },\n",
       "  { data: { id: 3, label: 'RET[3](\"(1 ())\")' } },\n",
       "  { data: { id: 'edge3', source: 2, target: 3 } }\n",
       "]\n",
       "         });\n",
       "     });\n",
       " })(this.element);\n",
       "</script>\n"
      ]
     },
     "metadata": {},
     "output_type": "display_data"
    }
   ],
   "source": [
    "const res = introspect.traceCallStack(listToString, exports);\n",
    "res.func(ls1)\n",
    "drawCallStack(res.stack)"
   ]
  },
  {
   "cell_type": "code",
   "execution_count": 53,
   "id": "c57b91ec",
   "metadata": {},
   "outputs": [
    {
     "data": {
      "text/html": [
       "\n",
       "<style>\n",
       "    #mydiv3d0b75b7-74bb-4f6c-a4ed-16566f6e3cc7 {\n",
       "        width: 800px;\n",
       "        height: 350px;\n",
       "        top: 0px;\n",
       "        left: 0px;\n",
       "    }\n",
       "</style>\n",
       "<div id=\"mydiv3d0b75b7-74bb-4f6c-a4ed-16566f6e3cc7\"></div>\n"
      ]
     },
     "metadata": {},
     "output_type": "display_data"
    },
    {
     "data": {
      "text/html": [
       "\n",
       "<script>\n",
       " (function(element) {\n",
       "     require(['cytoscape'], function(cytoscape) {   \n",
       "        var cy = cytoscape({\n",
       "         container: document.getElementById('mydiv3d0b75b7-74bb-4f6c-a4ed-16566f6e3cc7'),\n",
       "         style: [\n",
       "{\n",
       "  selector: 'node',\n",
       "  css: {\n",
       "    'class': \".bx--tree\",\n",
       "    'label': 'data(label)',\n",
       "    'height': '10px',\n",
       "    'width': '10px',\n",
       "  }\n",
       "},\n",
       "{\n",
       "  selector: 'edge',\n",
       "  css: {\n",
       "    'width': 3,\n",
       "    // 'line-color': '#ccc123',\n",
       "    'curve-style': 'bezier',\n",
       "    'target-arrow-shape': 'triangle',\n",
       "    'target-arrow-fill': 'filled',\n",
       "    'arrow-scale': 1,\n",
       "  }\n",
       "}\n",
       "],\n",
       "         layout: \n",
       "{\n",
       "  name: 'breadthfirst',\n",
       "  directed: true,\n",
       "  padding: 10\n",
       "}\n",
       ",\n",
       "         elements: [\n",
       "  {\n",
       "    data: {\n",
       "      id: 0,\n",
       "      label: 'CALL[0]([\"ls\",{\"tag\":1,\"contents\":2,\"rest\":{\"tag\":1,\"contents\":1,\"rest\":{\"tag\":0}}}])'\n",
       "    }\n",
       "  },\n",
       "  {\n",
       "    data: {\n",
       "      id: 1,\n",
       "      label: 'CALL[1]([\"ls\",{\"tag\":1,\"contents\":1,\"rest\":{\"tag\":0}}])'\n",
       "    }\n",
       "  },\n",
       "  { data: { id: 'edge1', source: 0, target: 1 } },\n",
       "  { data: { id: 2, label: 'CALL[2]([\"ls\",{\"tag\":0}])' } },\n",
       "  { data: { id: 'edge2', source: 1, target: 2 } },\n",
       "  { data: { id: 3, label: 'RET[3](\"()\")' } },\n",
       "  { data: { id: 'edge3', source: 2, target: 3 } },\n",
       "  { data: { id: 4, label: 'RET[4](\"(1 ())\")' } },\n",
       "  { data: { id: 'edge4', source: 3, target: 4 } },\n",
       "  { data: { id: 5, label: 'RET[5](\"(2 (1 ()))\")' } },\n",
       "  { data: { id: 'edge5', source: 4, target: 5 } }\n",
       "]\n",
       "         });\n",
       "     });\n",
       " })(this.element);\n",
       "</script>\n"
      ]
     },
     "metadata": {},
     "output_type": "display_data"
    }
   ],
   "source": [
    "const res = introspect.traceCallStack(listToString, exports);\n",
    "res.func(ls2)\n",
    "drawCallStack(res.stack)"
   ]
  },
  {
   "cell_type": "markdown",
   "id": "90d1acc4",
   "metadata": {},
   "source": [
    "### Challenge: Try writing this iteratively!\n",
    "\n",
    "How would you implement `listToString` iteratively? (Hint: recrusion unfolds the list starting from the back.)"
   ]
  },
  {
   "cell_type": "code",
   "execution_count": 54,
   "id": "94566bca",
   "metadata": {},
   "outputs": [
    {
     "name": "stdout",
     "output_type": "stream",
     "text": [
      "Call Stack [ '2' ]\n",
      "Call Stack [ '2', '1' ]\n",
      "(2 (1 ()))\n"
     ]
    }
   ],
   "source": [
    "function iterListToString<T>(ls: List<T>): string {\n",
    "    let lsHead = ls;\n",
    "    let callStack: string[] = [];\n",
    "    let flag = true;\n",
    "    while (flag) {\n",
    "        switch (lsHead.tag) {\n",
    "            case _List.NIL: {\n",
    "                flag = false;\n",
    "                break;\n",
    "            }\n",
    "            case _List.CONS: {\n",
    "                callStack.push(lsHead.contents.toString());  // Calling function means push argument onto stack\n",
    "                console.log(\"Call Stack\", callStack);\n",
    "                lsHead = lsHead.rest;\n",
    "                break;\n",
    "            }\n",
    "        }\n",
    "    }\n",
    "    \n",
    "    callStack.push(`()`);\n",
    "    while (callStack.length > 1) {\n",
    "        const rest = callStack.pop();                        // Pop to get answer on smaller list from stack\n",
    "        const contents = callStack.pop();                    // Pop to get argument for current list\n",
    "        callStack.push(`(${contents} ${rest})`);             // Push answer on current list back onto stack\n",
    "    }\n",
    "    return callStack.pop();                                  // Pop to get answer on original list\n",
    "}\n",
    "\n",
    "iterListToString(ls2);"
   ]
  },
  {
   "cell_type": "markdown",
   "id": "12feaca7",
   "metadata": {},
   "source": [
    "## Back to the Motivating Problem"
   ]
  },
  {
   "cell_type": "code",
   "execution_count": 55,
   "id": "c8c51fec",
   "metadata": {},
   "outputs": [
    {
     "name": "stdout",
     "output_type": "stream",
     "text": [
      "13\n"
     ]
    }
   ],
   "source": [
    "function findSmallest(xs: number[]): number | undefined {\n",
    "    if (xs.length === 0) {\n",
    "        return undefined;\n",
    "    } else if (xs.length === 1) {\n",
    "        return xs[0];\n",
    "    } else {\n",
    "        // Assumption: findSmallest(xs.slice(1)) \"magically\" gives me the answer on the rest of the array.\n",
    "        const ansOnRestOfArray = findSmallest(xs.slice(1));\n",
    "        // How do I come up with the answer given that I know the smallest number in the rest of the array?\n",
    "        return Math.min(xs[0], ansOnRestOfArray);\n",
    "    }\n",
    "}\n",
    "\n",
    "findSmallest(xs)"
   ]
  },
  {
   "cell_type": "code",
   "execution_count": 56,
   "id": "0f1060a8",
   "metadata": {},
   "outputs": [
    {
     "data": {
      "text/html": [
       "\n",
       "<style>\n",
       "    #mydiv0d07947e-4d1d-44db-8e4b-29e3a6dcaa12 {\n",
       "        width: 800px;\n",
       "        height: 350px;\n",
       "        top: 0px;\n",
       "        left: 0px;\n",
       "    }\n",
       "</style>\n",
       "<div id=\"mydiv0d07947e-4d1d-44db-8e4b-29e3a6dcaa12\"></div>\n"
      ]
     },
     "metadata": {},
     "output_type": "display_data"
    },
    {
     "data": {
      "text/html": [
       "\n",
       "<script>\n",
       " (function(element) {\n",
       "     require(['cytoscape'], function(cytoscape) {   \n",
       "        var cy = cytoscape({\n",
       "         container: document.getElementById('mydiv0d07947e-4d1d-44db-8e4b-29e3a6dcaa12'),\n",
       "         style: [\n",
       "{\n",
       "  selector: 'node',\n",
       "  css: {\n",
       "    'class': \".bx--tree\",\n",
       "    'label': 'data(label)',\n",
       "    'height': '10px',\n",
       "    'width': '10px',\n",
       "  }\n",
       "},\n",
       "{\n",
       "  selector: 'edge',\n",
       "  css: {\n",
       "    'width': 3,\n",
       "    // 'line-color': '#ccc123',\n",
       "    'curve-style': 'bezier',\n",
       "    'target-arrow-shape': 'triangle',\n",
       "    'target-arrow-fill': 'filled',\n",
       "    'arrow-scale': 1,\n",
       "  }\n",
       "}\n",
       "],\n",
       "         layout: \n",
       "{\n",
       "  name: 'breadthfirst',\n",
       "  directed: true,\n",
       "  padding: 10\n",
       "}\n",
       ",\n",
       "         elements: [\n",
       "  { data: { id: 0, label: 'CALL[0]([\"xs\",[32,21,13,90]])' } },\n",
       "  { data: { id: 1, label: 'CALL[1]([\"xs\",[21,13,90]])' } },\n",
       "  { data: { id: 'edge1', source: 0, target: 1 } },\n",
       "  { data: { id: 2, label: 'CALL[2]([\"xs\",[13,90]])' } },\n",
       "  { data: { id: 'edge2', source: 1, target: 2 } },\n",
       "  { data: { id: 3, label: 'CALL[3]([\"xs\",[90]])' } },\n",
       "  { data: { id: 'edge3', source: 2, target: 3 } },\n",
       "  { data: { id: 4, label: 'RET[4](90)' } },\n",
       "  { data: { id: 'edge4', source: 3, target: 4 } },\n",
       "  { data: { id: 5, label: 'RET[5](13)' } },\n",
       "  { data: { id: 'edge5', source: 4, target: 5 } },\n",
       "  { data: { id: 6, label: 'RET[6](13)' } },\n",
       "  { data: { id: 'edge6', source: 5, target: 6 } },\n",
       "  { data: { id: 7, label: 'RET[7](13)' } },\n",
       "  { data: { id: 'edge7', source: 6, target: 7 } }\n",
       "]\n",
       "         });\n",
       "     });\n",
       " })(this.element);\n",
       "</script>\n"
      ]
     },
     "metadata": {},
     "output_type": "display_data"
    }
   ],
   "source": [
    "const res = introspect.traceCallStack(findSmallest, exports);\n",
    "res.func(xs)\n",
    "drawCallStack(res.stack)"
   ]
  },
  {
   "cell_type": "code",
   "execution_count": 60,
   "id": "0cc3f1a7",
   "metadata": {
    "scrolled": true
   },
   "outputs": [
    {
     "name": "stdout",
     "output_type": "stream",
     "text": [
      "13\n"
     ]
    }
   ],
   "source": [
    "function recFindSmallestUpTo5(xs: number[]): number | undefined {\n",
    "    // 0th unfolding\n",
    "    if (xs.length === 0) {\n",
    "        return undefined;\n",
    "    } else if (xs.length == 1) {\n",
    "        return xs[0];\n",
    "    } else {  // 1st unfolding\n",
    "        let ans2;\n",
    "        const xs2 = xs.slice(1);\n",
    "        if (xs2.length === 0) {\n",
    "            ans2 = undefined;\n",
    "        } else if (xs2.length === 1) {\n",
    "            ans2 = xs2[0];\n",
    "        } else {  // 2nd unfolding\n",
    "            let ans3;\n",
    "            const xs3 = xs2.slice(1);\n",
    "            if (xs3.length === 0) {\n",
    "                ans3 = undefined;\n",
    "            } else if (xs3.length === 1) {\n",
    "                ans3 = xs3[0];\n",
    "            } else {  // 3rd unfolding\n",
    "                let ans4;\n",
    "                const xs4 = xs3.slice(1);\n",
    "                if (xs3.length === 0) {\n",
    "                    ans4 = undefined;\n",
    "                } else if (xs4.length === 1) {\n",
    "                    ans4 = xs4[0];\n",
    "                } else {  // 4th unfolding\n",
    "                    let ans5;\n",
    "                    const xs5 = xs4.slice(1);\n",
    "                    if (xs5.length === 0) {\n",
    "                        ans5 = undefined;\n",
    "                    } else if (xs5.length === 1) {\n",
    "                        ans5 = xs5[0];\n",
    "                    } else {  // 5th unfolding\n",
    "                        throw Error(\"Sad.\");\n",
    "                    }\n",
    "                    ans4 = Math.min(xs4[0], ans5);\n",
    "                }\n",
    "                ans3 = Math.min(xs3[0], ans4);\n",
    "            }    \n",
    "            ans2 = Math.min(xs2[0], ans3);\n",
    "        }\n",
    "        return Math.min(xs[0], ans2);\n",
    "    }\n",
    "}\n",
    "\n",
    "recFindSmallestUpTo5(xs)"
   ]
  },
  {
   "cell_type": "markdown",
   "id": "e20aea80",
   "metadata": {},
   "source": [
    "## Story for Today?\n",
    "\n",
    "\n",
    "1. We started with the problem: find the smallest element in an array.\n",
    "2. We used the familiar iterative solution.\n",
    "3. We constrained ourselves to solve it without iteration.\n",
    "4. We further constrained ourselves by solving the problem for fixed size arrays.\n",
    "5. This led us to discover **recursion**\n",
    "    * A way to succinctly express unfolding code an arbitrary number of times.\n",
    "    * Recursion has \"nested\" structure. We wrap the \"unfolding\" with the code in the current function body and up to the return statement.\n",
    "6. We found that the \"data\" corresponding to recursive-style \"code\" was an **(algebraic) data-type**.\n",
    "7. We then compared recursion with iteration and discovered a call stack."
   ]
  },
  {
   "cell_type": "code",
   "execution_count": null,
   "id": "862f3d5b",
   "metadata": {},
   "outputs": [],
   "source": []
  }
 ],
 "metadata": {
  "kernelspec": {
   "display_name": "TypeScript",
   "language": "typescript",
   "name": "tslab"
  },
  "language_info": {
   "codemirror_mode": {
    "mode": "typescript",
    "name": "javascript",
    "typescript": true
   },
   "file_extension": ".ts",
   "mimetype": "text/typescript",
   "name": "typescript",
   "version": "3.7.2"
  }
 },
 "nbformat": 4,
 "nbformat_minor": 5
}
