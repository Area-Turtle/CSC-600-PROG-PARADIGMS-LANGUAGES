{
 "cells": [
  {
   "cell_type": "markdown",
   "id": "78695b1a",
   "metadata": {},
   "source": [
    "# 2.2. Recursion and Tree Data-Types"
   ]
  },
  {
   "cell_type": "code",
   "execution_count": 18,
   "id": "d494902c",
   "metadata": {},
   "outputs": [
    {
     "data": {
      "text/html": [
       "\n",
       "  <link rel=\"stylesheet\" href=\"node_modules/carbon-components/css/carbon-components.css\">\n",
       "  "
      ]
     },
     "metadata": {},
     "output_type": "display_data"
    },
    {
     "data": {
      "text/html": [
       "\n",
       "<script>\n",
       "require.config({\n",
       "     paths: {\n",
       "     cytoscape: 'https://cdnjs.cloudflare.com/ajax/libs/cytoscape/3.19.0/cytoscape.min'\n",
       "}});\n",
       "</script>\n",
       "  "
      ]
     },
     "metadata": {},
     "output_type": "display_data"
    }
   ],
   "source": [
    "// TypeScript Jupyter extension\n",
    "import * as tslab from \"tslab\";\n",
    "\n",
    "// CSC 600 Libraries\n",
    "import { drawList, drawTree, drawCallStack, drawStackTrace, requireCytoscape, requireCarbon} from \"./lib/draw\";\n",
    "import * as introspect from \"./lib/introspect\";\n",
    "import * as list from \"./lib/list\";\n",
    "\n",
    "requireCarbon();\n",
    "requireCytoscape();"
   ]
  },
  {
   "cell_type": "markdown",
   "id": "f0df1613",
   "metadata": {},
   "source": [
    "## Where Were We?\n",
    "\n",
    "Concept Roadmap:\n",
    "\n",
    "1. **Bottom-up, i.e., building blocks of languages.** (TODAY and next 3 weeks)\n",
    "    - **Data-Types + Recursion** (this week)\n",
    "    - First-Class Functions or References + State\n",
    "2. Top-down, i.e., using building blocks.\n",
    "3. *Meta-theory.*"
   ]
  },
  {
   "cell_type": "markdown",
   "id": "5927e853",
   "metadata": {},
   "source": [
    "## Goal\n",
    "\n",
    "1. Continue study of **(algebraic) data-types** (**ADT**) using **trees**.\n",
    "2. Examine how **recursive functions** operate on trees.\n",
    "\n",
    "Recall language template\n",
    "\n",
    "1. Input/Output:\n",
    "2. **Data: tree data-type**\n",
    "3. **Code: recursive function**"
   ]
  },
  {
   "cell_type": "markdown",
   "id": "1f6b7af2",
   "metadata": {},
   "source": [
    "## Outline\n",
    "\n",
    "- Why ADTs?\n",
    "- Trees"
   ]
  },
  {
   "cell_type": "markdown",
   "id": "17df086b",
   "metadata": {},
   "source": [
    "## Why ADTs?\n",
    "\n",
    "Example:  [https://www.paulrand.design/work/Book-Covers.html](https://www.paulrand.design/work/Book-Covers.html)\n",
    "\n",
    "Here's a question for you first.\n",
    "\n",
    "```\n",
    "\n",
    "\n",
    "\n",
    "\n",
    "\n",
    "\n",
    "\n",
    "\n",
    "Imagine you're a graphic designer.\n",
    "You want to layout a book cover with:\n",
    "1. Text\n",
    "2. Drawings\n",
    "in an aesthetically pleasing way.\n",
    "\n",
    "\n",
    "How would you tackle the problem of laying out such a book cover?\n",
    "\n",
    "\n",
    "\n",
    "\n",
    "\n",
    "\n",
    "\n",
    "\n",
    "\n",
    "```"
   ]
  },
  {
   "cell_type": "code",
   "execution_count": 2,
   "id": "37d6339b",
   "metadata": {},
   "outputs": [
    {
     "data": {
      "text/html": [
       "\n",
       "<div class=\"bx--tile\">\n",
       "    BOX 1: Imagine I'm a page\n",
       "</div>\n"
      ]
     },
     "metadata": {},
     "output_type": "display_data"
    }
   ],
   "source": [
    "tslab.display.html(`\n",
    "<div class=\"bx--tile\">\n",
    "    BOX 1: Imagine I'm a page\n",
    "</div>\n",
    "`)"
   ]
  },
  {
   "cell_type": "code",
   "execution_count": 3,
   "id": "66dc3fbd",
   "metadata": {},
   "outputs": [
    {
     "data": {
      "text/html": [
       "\n",
       "   <div class=\"bx--grid\"> BOX 1: Imagine I'm a page\n",
       "      <div class=\"bx--row\">\n",
       "        <div class=\"bx--col\">\n",
       "            <div class=\"bx--tile\">\n",
       "                BOX 2: Left side of page\n",
       "            </div>\n",
       "        </div>\n",
       "        <div class=\"bx--col\">\n",
       "            <div class=\"bx--tile\">\n",
       "                BOX 3: Right side of page\n",
       "            </div>\n",
       "        </div>\n",
       "    </div>\n"
      ]
     },
     "metadata": {},
     "output_type": "display_data"
    }
   ],
   "source": [
    "tslab.display.html(`\n",
    "   <div class=\"bx--grid\"> BOX 1: Imagine I'm a page\n",
    "      <div class=\"bx--row\">\n",
    "        <div class=\"bx--col\">\n",
    "            <div class=\"bx--tile\">\n",
    "                BOX 2: Left side of page\n",
    "            </div>\n",
    "        </div>\n",
    "        <div class=\"bx--col\">\n",
    "            <div class=\"bx--tile\">\n",
    "                BOX 3: Right side of page\n",
    "            </div>\n",
    "        </div>\n",
    "    </div>\n",
    "`)"
   ]
  },
  {
   "cell_type": "code",
   "execution_count": 4,
   "id": "7187ce2e",
   "metadata": {},
   "outputs": [
    {
     "data": {
      "text/html": [
       "\n",
       "<div class=\"bx--grid\"> BOX 1: Imagine I'm a page\n",
       "    <div class=\"bx--row\">\n",
       "        <div class=\"bx--col\">\n",
       "            <div class=\"bx--tile\">\n",
       "                BOX2: Left side of page\n",
       "                <div class=\"bx--tile\">\n",
       "                    BOX5: A sub-page within the right page\n",
       "                </div>\n",
       "            </div>\n",
       "        </div>\n",
       "        <div class=\"bx--col\">\n",
       "            <div class=\"bx--tile\">\n",
       "                BOX3: Right side of page\n",
       "                \n",
       "                <div class=\"bx--tile\">\n",
       "                    BOX4: A sub-page within the right page\n",
       "                </div>\n",
       "            </div>\n",
       "        </div>\n",
       "    </div>\n",
       "</div>\n"
      ]
     },
     "metadata": {},
     "output_type": "display_data"
    }
   ],
   "source": [
    "tslab.display.html(`\n",
    "<div class=\"bx--grid\"> BOX 1: Imagine I'm a page\n",
    "    <div class=\"bx--row\">\n",
    "        <div class=\"bx--col\">\n",
    "            <div class=\"bx--tile\">\n",
    "                BOX2: Left side of page\n",
    "                <div class=\"bx--tile\">\n",
    "                    BOX5: A sub-page within the right page\n",
    "                </div>\n",
    "            </div>\n",
    "        </div>\n",
    "        <div class=\"bx--col\">\n",
    "            <div class=\"bx--tile\">\n",
    "                BOX3: Right side of page\n",
    "                \n",
    "                <div class=\"bx--tile\">\n",
    "                    BOX4: A sub-page within the right page\n",
    "                </div>\n",
    "            </div>\n",
    "        </div>\n",
    "    </div>\n",
    "</div>\n",
    "`)"
   ]
  },
  {
   "cell_type": "markdown",
   "id": "359bf169",
   "metadata": {},
   "source": [
    "### Notice a Pattern?\n",
    "\n",
    "- To solve the graphic design problem, we're \"nesting\" boxes within boxes.\n",
    "- This is starting to look like recursion.\n",
    "    - Maybe I don't know how to layout the full page.\n",
    "    - I'll solve a simpler version of the same problem by splitting the page into different smaller pages.\n",
    "    - Now let me solve the layout problem for the smaller pages.\n",
    "    - And put together the results for the original page.\n",
    "- But we need something more complex than the list ADT."
   ]
  },
  {
   "cell_type": "markdown",
   "id": "ddc33327",
   "metadata": {},
   "source": [
    "## Trees\n",
    "\n",
    "- Enter the next simplest ADT, the *tree* data-types."
   ]
  },
  {
   "cell_type": "code",
   "execution_count": 5,
   "id": "58b3af8e",
   "metadata": {},
   "outputs": [
    {
     "data": {
      "text/html": [
       "\n",
       "<style>\n",
       "    #mydiv84746bb4-c2ef-4d32-badd-51f375e6fc52 {\n",
       "        width: 800px;\n",
       "        height: 350px;\n",
       "        top: 0px;\n",
       "        left: 0px;\n",
       "    }\n",
       "</style>\n",
       "<div id=\"mydiv84746bb4-c2ef-4d32-badd-51f375e6fc52\"></div>\n"
      ]
     },
     "metadata": {},
     "output_type": "display_data"
    },
    {
     "data": {
      "text/html": [
       "\n",
       "<script>\n",
       " (function(element) {\n",
       "     require(['cytoscape'], function(cytoscape) {   \n",
       "        var cy = cytoscape({\n",
       "         container: document.getElementById('mydiv84746bb4-c2ef-4d32-badd-51f375e6fc52'),\n",
       "         style: [\n",
       "{\n",
       "  selector: 'node',\n",
       "  css: {\n",
       "    'class': \".bx--tree\",\n",
       "    'label': 'data(label)',\n",
       "    'height': '10px',\n",
       "    'width': '10px',\n",
       "  }\n",
       "},\n",
       "{\n",
       "  selector: 'edge',\n",
       "  css: {\n",
       "    'width': 3,\n",
       "    // 'line-color': '#ccc123',\n",
       "    'curve-style': 'bezier',\n",
       "    'target-arrow-shape': 'triangle',\n",
       "    'target-arrow-fill': 'filled',\n",
       "    'arrow-scale': 1,\n",
       "  }\n",
       "}\n",
       "],\n",
       "         layout: \n",
       "{\n",
       "  name: 'preset'\n",
       "}\n",
       ",\n",
       "         elements: [\n",
       "  { data: { id: 'node23', label: 4 }, position: { x: 0, y: 0 } },\n",
       "  { data: { id: 'edge24', source: 'node23', target: 'node11' } },\n",
       "  { data: { id: 'edge25', source: 'node23', target: 'node20' } },\n",
       "  { data: { id: 'node11', label: 3 }, position: { x: -100, y: 50 } },\n",
       "  { data: { id: 'edge12', source: 'node11', target: 'node3' } },\n",
       "  { data: { id: 'edge13', source: 'node11', target: 'node8' } },\n",
       "  { data: { id: 'node3', label: 1 }, position: { x: -150, y: 100 } },\n",
       "  { data: { id: 'edge4', source: 'node3', target: 'leaf1' } },\n",
       "  { data: { id: 'edge5', source: 'node3', target: 'leaf2' } },\n",
       "  {\n",
       "    data: { id: 'leaf1' },\n",
       "    position: { x: -183.33333333333334, y: 150 }\n",
       "  },\n",
       "  {\n",
       "    data: { id: 'leaf2' },\n",
       "    position: { x: -116.66666666666666, y: 150 }\n",
       "  },\n",
       "  { data: { id: 'node8', label: 2 }, position: { x: -50, y: 100 } },\n",
       "  { data: { id: 'edge9', source: 'node8', target: 'leaf6' } },\n",
       "  { data: { id: 'edge10', source: 'node8', target: 'leaf7' } },\n",
       "  {\n",
       "    data: { id: 'leaf6' },\n",
       "    position: { x: -83.33333333333334, y: 150 }\n",
       "  },\n",
       "  {\n",
       "    data: { id: 'leaf7' },\n",
       "    position: { x: -16.666666666666664, y: 150 }\n",
       "  },\n",
       "  { data: { id: 'node20', label: 2 }, position: { x: 100, y: 50 } },\n",
       "  { data: { id: 'edge21', source: 'node20', target: 'node16' } },\n",
       "  { data: { id: 'edge22', source: 'node20', target: 'leaf19' } },\n",
       "  { data: { id: 'node16', label: 1 }, position: { x: 50, y: 100 } },\n",
       "  { data: { id: 'edge17', source: 'node16', target: 'leaf14' } },\n",
       "  { data: { id: 'edge18', source: 'node16', target: 'leaf15' } },\n",
       "  {\n",
       "    data: { id: 'leaf14' },\n",
       "    position: { x: 16.666666666666664, y: 150 }\n",
       "  },\n",
       "  {\n",
       "    data: { id: 'leaf15' },\n",
       "    position: { x: 83.33333333333334, y: 150 }\n",
       "  },\n",
       "  { data: { id: 'leaf19' }, position: { x: 150, y: 100 } }\n",
       "]\n",
       "         });\n",
       "     });\n",
       " })(this.element);\n",
       "</script>\n"
      ]
     },
     "metadata": {},
     "output_type": "display_data"
    }
   ],
   "source": [
    "import * as tree from \"./lib/tree\";\n",
    "\n",
    "drawTree(tree.t4)"
   ]
  },
  {
   "cell_type": "code",
   "execution_count": 6,
   "id": "ccfce463",
   "metadata": {},
   "outputs": [],
   "source": [
    "// 1. Literal types\n",
    "\n",
    "const y: 0 = 0;      // In typescript, you can use booleans, strings, and numbers as types\n",
    "// const z: 0 = 1;   // Fails because 1 is not 0"
   ]
  },
  {
   "cell_type": "code",
   "execution_count": 7,
   "id": "a4a9a191",
   "metadata": {},
   "outputs": [],
   "source": [
    "// 2. Object types\n",
    "\n",
    "const x: { key1: 0, key2: number} = { key1: 0, key2: 42 }; \n",
    "// const fail2: { key1: 0, key2: number} = { key: 0, key2: 1};  // Fails because key is not key1\n",
    "// const fail1: { key1: 0, key2: number} = { key1: 2, key2: 1}; // Fails because the value 2 is not 0"
   ]
  },
  {
   "cell_type": "code",
   "execution_count": 8,
   "id": "09b91290",
   "metadata": {},
   "outputs": [],
   "source": [
    "const x: string | number = \"hello\";"
   ]
  },
  {
   "cell_type": "code",
   "execution_count": 9,
   "id": "80cac1f8",
   "metadata": {},
   "outputs": [
    {
     "name": "stdout",
     "output_type": "stream",
     "text": [
      "HERE\n",
      "FALSE\n"
     ]
    }
   ],
   "source": [
    "// Boolean as data-type\n",
    "enum _Boolean { FALSE, TRUE };\n",
    "type Boolean<T> =\n",
    "    {tag: _Boolean.FALSE}\n",
    "  | {tag: _Boolean.TRUE};\n",
    "\n",
    "const bool = {tag: _Boolean.TRUE};\n",
    "switch (bool.tag) {\n",
    "    case (_Boolean.TRUE): {\n",
    "        console.log(\"HERE\");\n",
    "    }\n",
    "    case (_Boolean.FALSE): {\n",
    "        console.log(\"FALSE\");\n",
    "    }\n",
    "}"
   ]
  },
  {
   "cell_type": "code",
   "execution_count": 10,
   "id": "0ebe2696",
   "metadata": {},
   "outputs": [],
   "source": [
    "// Tree data-type\n",
    "enum _Tree { LEAF, NODE };    // LEAF refers to 0, NODE refers to 1\n",
    "type Tree<T> =\n",
    "    {tag: _Tree.LEAF}         // Leaf node, similar to List Nil\n",
    "  | {tag: _Tree.NODE, contents: T, left: Tree<T>, right: Tree<T>};  // Tree node, similar to List Cons"
   ]
  },
  {
   "cell_type": "code",
   "execution_count": 11,
   "id": "eccca80f",
   "metadata": {},
   "outputs": [],
   "source": [
    "function Leaf<T>(): Tree<T> {\n",
    "    // Constructor function for a node with no contents.\n",
    "    return {tag: _Tree.LEAF};\n",
    "}\n",
    "\n",
    "function Node<T>(x: T, left: Tree<T>, right: Tree<T>): Tree<T> {\n",
    "    // Constructor function for a node with contents, a left sub-tree, and a right-subtree.\n",
    "    return {tag: _Tree.NODE, contents: x, left: left, right: right};\n",
    "}\n",
    "\n",
    "function LeafNode<T>(x: T): Tree<T> {\n",
    "    return Node(x, Leaf(), Leaf());\n",
    "}\n",
    "\n"
   ]
  },
  {
   "cell_type": "code",
   "execution_count": 12,
   "id": "b8e11daa",
   "metadata": {},
   "outputs": [],
   "source": [
    "const t0 = LeafNode(\"1\")\n",
    "const t1 = LeafNode(\"2\");\n",
    "const t2 = Node(\"1\", t1, Leaf());\n",
    "const t3 = Node(\"0\", t0, t2); "
   ]
  },
  {
   "cell_type": "code",
   "execution_count": 13,
   "id": "07f718bd",
   "metadata": {},
   "outputs": [
    {
     "name": "stderr",
     "output_type": "stream",
     "text": [
      "7:17 - Cannot redeclare exported variable 'HLeaf'.\n",
      "11:17 - Cannot redeclare exported variable 'OneChild'.\n",
      "16:17 - Cannot redeclare exported variable 'TwoChild'.\n",
      "20:9 - Cannot redeclare exported variable 'HLeaf'.\n",
      "20:9 - Export declaration conflicts with exported declaration of 'HLeaf'.\n",
      "20:16 - Cannot redeclare exported variable 'OneChild'.\n",
      "20:16 - Export declaration conflicts with exported declaration of 'OneChild'.\n",
      "20:26 - Cannot redeclare exported variable 'TwoChild'.\n",
      "20:26 - Export declaration conflicts with exported declaration of 'TwoChild'.\n",
      "20:36 - Export declaration conflicts with exported declaration of '_Hybrid'.\n",
      "20:45 - Export declaration conflicts with exported declaration of 'Hybrid'.\n"
     ]
    }
   ],
   "source": [
    "export enum _Hybrid { HLEAF, ONECHILD, TWOCHILD };\n",
    "export type Hybrid<T> = {tag: _Hybrid.HLEAF} | \n",
    "{tag: _Hybrid.ONECHILD, content: T, child: Hybrid<T>} | \n",
    "{tag: _Hybrid.TWOCHILD, content: T, left: Hybrid<T>, right: Hybrid<T>};  // TODO: implement the rest\n",
    "\n",
    "\n",
    "export function HLeaf<T>(): Hybrid<T> {\n",
    "    return {tag: _Hybrid.HLEAF}; // This one is completed/\n",
    "}\n",
    "\n",
    "export function OneChild<T>(x: T, child: Hybrid<T>): Hybrid<T> {\n",
    "    // TODO: implement me\n",
    "    return {tag: _Hybrid.ONECHILD, content: x, child: child};\n",
    "}\n",
    "\n",
    "export function TwoChild<T>(x: T, left: Hybrid<T>, right: Hybrid<T>): Hybrid<T> {\n",
    "    // TODO: implement me\n",
    "    return {tag: _Hybrid.TWOCHILD, content:x, left: left, right: right};\n",
    "}"
   ]
  },
  {
   "cell_type": "code",
   "execution_count": null,
   "id": "ba562699",
   "metadata": {},
   "outputs": [],
   "source": [
    "drawTree(t1)"
   ]
  },
  {
   "cell_type": "code",
   "execution_count": null,
   "id": "28ebcfd9",
   "metadata": {},
   "outputs": [],
   "source": [
    "drawTree(t2)"
   ]
  },
  {
   "cell_type": "code",
   "execution_count": null,
   "id": "e81fa83e",
   "metadata": {},
   "outputs": [],
   "source": [
    "drawTree(t3)"
   ]
  },
  {
   "cell_type": "code",
   "execution_count": 19,
   "id": "9d62e83e",
   "metadata": {},
   "outputs": [
    {
     "name": "stdout",
     "output_type": "stream",
     "text": [
      "{ tag: 1, contents: '2', left: { tag: 0 }, right: { tag: 0 } }\n"
     ]
    }
   ],
   "source": [
    "t1"
   ]
  },
  {
   "cell_type": "code",
   "execution_count": null,
   "id": "e5409e7f",
   "metadata": {},
   "outputs": [],
   "source": [
    "t2 // Notice nesting of t1 in t2's left child"
   ]
  },
  {
   "cell_type": "code",
   "execution_count": null,
   "id": "b099e0f5",
   "metadata": {},
   "outputs": [],
   "source": [
    "t3 // Notice nesting of t2 in t3's right child"
   ]
  },
  {
   "cell_type": "markdown",
   "id": "786d5296",
   "metadata": {},
   "source": [
    "#### Recursive Functions on Trees"
   ]
  },
  {
   "cell_type": "code",
   "execution_count": 20,
   "id": "ab074f65",
   "metadata": {},
   "outputs": [
    {
     "name": "stdout",
     "output_type": "stream",
     "text": [
      "2\n"
     ]
    }
   ],
   "source": [
    "// Compare with length on tree\n",
    "function height<T>(t: Tree<T>): number {\n",
    "    switch (t.tag) {\n",
    "        case _Tree.LEAF: {   // Base case: leaf node\n",
    "            return 0;\n",
    "        }\n",
    "        case _Tree.NODE: {   // Recursive (or inductive) case: node with left and right child\n",
    "            // Compare with length on tree\n",
    "            return 1 + Math.max(height(t.left), height(t.right));\n",
    "        }\n",
    "    }\n",
    "}\n",
    "\n",
    "height(t2)"
   ]
  },
  {
   "cell_type": "code",
   "execution_count": 21,
   "id": "0b079816",
   "metadata": {},
   "outputs": [
    {
     "data": {
      "text/html": [
       "\n",
       "<style>\n",
       "    #mydiv68291e52-a698-4f7f-a397-f541a94fbeec {\n",
       "        width: 800px;\n",
       "        height: 350px;\n",
       "        top: 0px;\n",
       "        left: 0px;\n",
       "    }\n",
       "</style>\n",
       "<div id=\"mydiv68291e52-a698-4f7f-a397-f541a94fbeec\"></div>\n"
      ]
     },
     "metadata": {},
     "output_type": "display_data"
    },
    {
     "data": {
      "text/html": [
       "\n",
       "<script>\n",
       " (function(element) {\n",
       "     require(['cytoscape'], function(cytoscape) {   \n",
       "        var cy = cytoscape({\n",
       "         container: document.getElementById('mydiv68291e52-a698-4f7f-a397-f541a94fbeec'),\n",
       "         style: [\n",
       "{\n",
       "  selector: 'node',\n",
       "  css: {\n",
       "    'class': \".bx--tree\",\n",
       "    'label': 'data(label)',\n",
       "    'height': '10px',\n",
       "    'width': '10px',\n",
       "  }\n",
       "},\n",
       "{\n",
       "  selector: 'edge',\n",
       "  css: {\n",
       "    'width': 3,\n",
       "    // 'line-color': '#ccc123',\n",
       "    'curve-style': 'bezier',\n",
       "    'target-arrow-shape': 'triangle',\n",
       "    'target-arrow-fill': 'filled',\n",
       "    'arrow-scale': 1,\n",
       "  }\n",
       "}\n",
       "],\n",
       "         layout: \n",
       "{\n",
       "  name: 'preset'\n",
       "}\n",
       ",\n",
       "         elements: [\n",
       "  { data: { id: 'node3', label: '2' }, position: { x: 0, y: 0 } },\n",
       "  { data: { id: 'edge4', source: 'node3', target: 'leaf1' } },\n",
       "  { data: { id: 'edge5', source: 'node3', target: 'leaf2' } },\n",
       "  { data: { id: 'leaf1' }, position: { x: -100, y: 50 } },\n",
       "  { data: { id: 'leaf2' }, position: { x: 100, y: 50 } }\n",
       "]\n",
       "         });\n",
       "     });\n",
       " })(this.element);\n",
       "</script>\n"
      ]
     },
     "metadata": {},
     "output_type": "display_data"
    }
   ],
   "source": [
    "drawTree(t1)"
   ]
  },
  {
   "cell_type": "code",
   "execution_count": null,
   "id": "d7cf6885",
   "metadata": {},
   "outputs": [],
   "source": [
    "t1"
   ]
  },
  {
   "cell_type": "code",
   "execution_count": 22,
   "id": "7cbbc282",
   "metadata": {},
   "outputs": [
    {
     "data": {
      "text/html": [
       "\n",
       "<style>\n",
       "    #mydive0bff33c-cdf5-4228-af62-5c682197cfce {\n",
       "        width: 800px;\n",
       "        height: 350px;\n",
       "        top: 0px;\n",
       "        left: 0px;\n",
       "    }\n",
       "</style>\n",
       "<div id=\"mydive0bff33c-cdf5-4228-af62-5c682197cfce\"></div>\n"
      ]
     },
     "metadata": {},
     "output_type": "display_data"
    },
    {
     "data": {
      "text/html": [
       "\n",
       "<script>\n",
       " (function(element) {\n",
       "     require(['cytoscape'], function(cytoscape) {   \n",
       "        var cy = cytoscape({\n",
       "         container: document.getElementById('mydive0bff33c-cdf5-4228-af62-5c682197cfce'),\n",
       "         style: [\n",
       "{\n",
       "  selector: 'node',\n",
       "  css: {\n",
       "    'class': \".bx--tree\",\n",
       "    'label': 'data(label)',\n",
       "    'height': '10px',\n",
       "    'width': '10px',\n",
       "  }\n",
       "},\n",
       "{\n",
       "  selector: 'edge',\n",
       "  css: {\n",
       "    'width': 3,\n",
       "    // 'line-color': '#ccc123',\n",
       "    'curve-style': 'bezier',\n",
       "    'target-arrow-shape': 'triangle',\n",
       "    'target-arrow-fill': 'filled',\n",
       "    'arrow-scale': 1,\n",
       "  }\n",
       "}\n",
       "],\n",
       "         layout: \n",
       "{\n",
       "  name: 'breadthfirst',\n",
       "  directed: true,\n",
       "  padding: 10\n",
       "}\n",
       ",\n",
       "         elements: [\n",
       "  {\n",
       "    data: {\n",
       "      id: 0,\n",
       "      label: 'CALL[0]([\"t\",{\"tag\":1,\"contents\":\"2\",\"left\":{\"tag\":0},\"right\":{\"tag\":0}}])'\n",
       "    }\n",
       "  },\n",
       "  { data: { id: 1, label: 'CALL[1]([\"t\",{\"tag\":0}])' } },\n",
       "  { data: { id: 'edge1', source: 0, target: 1 } },\n",
       "  { data: { id: 2, label: 'RET[2](0)' } },\n",
       "  { data: { id: 'edge2', source: 1, target: 2 } },\n",
       "  { data: { id: 3, label: 'CALL[3]([\"t\",{\"tag\":0}])' } },\n",
       "  { data: { id: 'edge3', source: 0, target: 3 } },\n",
       "  { data: { id: 4, label: 'RET[4](0)' } },\n",
       "  { data: { id: 'edge4', source: 3, target: 4 } },\n",
       "  { data: { id: 5, label: 'RET[5](1)' } },\n",
       "  { data: { id: 'edge5', source: 4, target: 5 } },\n",
       "  { data: { id: 'edge6', source: 2, target: 5 } }\n",
       "]\n",
       "         });\n",
       "     });\n",
       " })(this.element);\n",
       "</script>\n"
      ]
     },
     "metadata": {},
     "output_type": "display_data"
    }
   ],
   "source": [
    "// Compare with list\n",
    "const res = introspect.traceCallStack(height, exports);\n",
    "res.func(t1)\n",
    "drawCallStack(res.stack)"
   ]
  },
  {
   "cell_type": "code",
   "execution_count": 23,
   "id": "74590f3e",
   "metadata": {},
   "outputs": [
    {
     "data": {
      "text/html": [
       "\n",
       "<style>\n",
       "    #mydiv3d60f44a-2c5c-400b-b1bc-e9e0d9ed48cd {\n",
       "        width: 800px;\n",
       "        height: 350px;\n",
       "        top: 0px;\n",
       "        left: 0px;\n",
       "    }\n",
       "</style>\n",
       "<div id=\"mydiv3d60f44a-2c5c-400b-b1bc-e9e0d9ed48cd\"></div>\n"
      ]
     },
     "metadata": {},
     "output_type": "display_data"
    },
    {
     "data": {
      "text/html": [
       "\n",
       "<script>\n",
       " (function(element) {\n",
       "     require(['cytoscape'], function(cytoscape) {   \n",
       "        var cy = cytoscape({\n",
       "         container: document.getElementById('mydiv3d60f44a-2c5c-400b-b1bc-e9e0d9ed48cd'),\n",
       "         style: [\n",
       "{\n",
       "  selector: 'node',\n",
       "  css: {\n",
       "    'class': \".bx--tree\",\n",
       "    'label': 'data(label)',\n",
       "    'height': '10px',\n",
       "    'width': '10px',\n",
       "  }\n",
       "},\n",
       "{\n",
       "  selector: 'edge',\n",
       "  css: {\n",
       "    'width': 3,\n",
       "    // 'line-color': '#ccc123',\n",
       "    'curve-style': 'bezier',\n",
       "    'target-arrow-shape': 'triangle',\n",
       "    'target-arrow-fill': 'filled',\n",
       "    'arrow-scale': 1,\n",
       "  }\n",
       "}\n",
       "],\n",
       "         layout: \n",
       "{\n",
       "  name: 'preset'\n",
       "}\n",
       ",\n",
       "         elements: [\n",
       "  { data: { id: 'node7', label: '1' }, position: { x: 0, y: 0 } },\n",
       "  { data: { id: 'edge8', source: 'node7', target: 'node3' } },\n",
       "  { data: { id: 'edge9', source: 'node7', target: 'leaf6' } },\n",
       "  { data: { id: 'node3', label: '2' }, position: { x: -100, y: 50 } },\n",
       "  { data: { id: 'edge4', source: 'node3', target: 'leaf1' } },\n",
       "  { data: { id: 'edge5', source: 'node3', target: 'leaf2' } },\n",
       "  { data: { id: 'leaf1' }, position: { x: -150, y: 100 } },\n",
       "  { data: { id: 'leaf2' }, position: { x: -50, y: 100 } },\n",
       "  { data: { id: 'leaf6' }, position: { x: 100, y: 50 } }\n",
       "]\n",
       "         });\n",
       "     });\n",
       " })(this.element);\n",
       "</script>\n"
      ]
     },
     "metadata": {},
     "output_type": "display_data"
    }
   ],
   "source": [
    "drawTree(t2)"
   ]
  },
  {
   "cell_type": "code",
   "execution_count": 24,
   "id": "45d4cfe1",
   "metadata": {},
   "outputs": [
    {
     "data": {
      "text/html": [
       "\n",
       "<style>\n",
       "    #mydivac330ae7-4d2c-4de1-9766-48070acb19d9 {\n",
       "        width: 800px;\n",
       "        height: 350px;\n",
       "        top: 0px;\n",
       "        left: 0px;\n",
       "    }\n",
       "</style>\n",
       "<div id=\"mydivac330ae7-4d2c-4de1-9766-48070acb19d9\"></div>\n"
      ]
     },
     "metadata": {},
     "output_type": "display_data"
    },
    {
     "data": {
      "text/html": [
       "\n",
       "<script>\n",
       " (function(element) {\n",
       "     require(['cytoscape'], function(cytoscape) {   \n",
       "        var cy = cytoscape({\n",
       "         container: document.getElementById('mydivac330ae7-4d2c-4de1-9766-48070acb19d9'),\n",
       "         style: [\n",
       "{\n",
       "  selector: 'node',\n",
       "  css: {\n",
       "    'class': \".bx--tree\",\n",
       "    'label': 'data(label)',\n",
       "    'height': '10px',\n",
       "    'width': '10px',\n",
       "  }\n",
       "},\n",
       "{\n",
       "  selector: 'edge',\n",
       "  css: {\n",
       "    'width': 3,\n",
       "    // 'line-color': '#ccc123',\n",
       "    'curve-style': 'bezier',\n",
       "    'target-arrow-shape': 'triangle',\n",
       "    'target-arrow-fill': 'filled',\n",
       "    'arrow-scale': 1,\n",
       "  }\n",
       "}\n",
       "],\n",
       "         layout: \n",
       "{\n",
       "  name: 'preset'\n",
       "}\n",
       ",\n",
       "         elements: [\n",
       "  { data: { id: 'node7', label: '1' }, position: { x: 0, y: 0 } },\n",
       "  { data: { id: 'edge8', source: 'node7', target: 'node3' } },\n",
       "  { data: { id: 'edge9', source: 'node7', target: 'leaf6' } },\n",
       "  { data: { id: 'node3', label: '2' }, position: { x: -100, y: 50 } },\n",
       "  { data: { id: 'edge4', source: 'node3', target: 'leaf1' } },\n",
       "  { data: { id: 'edge5', source: 'node3', target: 'leaf2' } },\n",
       "  { data: { id: 'leaf1' }, position: { x: -150, y: 100 } },\n",
       "  { data: { id: 'leaf2' }, position: { x: -50, y: 100 } },\n",
       "  { data: { id: 'leaf6' }, position: { x: 100, y: 50 } }\n",
       "]\n",
       "         });\n",
       "     });\n",
       " })(this.element);\n",
       "</script>\n"
      ]
     },
     "metadata": {},
     "output_type": "display_data"
    }
   ],
   "source": [
    "drawTree(t2)"
   ]
  },
  {
   "cell_type": "code",
   "execution_count": 25,
   "id": "a1218d6f",
   "metadata": {},
   "outputs": [
    {
     "data": {
      "text/html": [
       "\n",
       "<style>\n",
       "    #mydivd65c5fe1-1372-477f-9229-e34f0d53e2cb {\n",
       "        width: 800px;\n",
       "        height: 350px;\n",
       "        top: 0px;\n",
       "        left: 0px;\n",
       "    }\n",
       "</style>\n",
       "<div id=\"mydivd65c5fe1-1372-477f-9229-e34f0d53e2cb\"></div>\n"
      ]
     },
     "metadata": {},
     "output_type": "display_data"
    },
    {
     "data": {
      "text/html": [
       "\n",
       "<script>\n",
       " (function(element) {\n",
       "     require(['cytoscape'], function(cytoscape) {   \n",
       "        var cy = cytoscape({\n",
       "         container: document.getElementById('mydivd65c5fe1-1372-477f-9229-e34f0d53e2cb'),\n",
       "         style: [\n",
       "{\n",
       "  selector: 'node',\n",
       "  css: {\n",
       "    'class': \".bx--tree\",\n",
       "    'label': 'data(label)',\n",
       "    'height': '10px',\n",
       "    'width': '10px',\n",
       "  }\n",
       "},\n",
       "{\n",
       "  selector: 'edge',\n",
       "  css: {\n",
       "    'width': 3,\n",
       "    // 'line-color': '#ccc123',\n",
       "    'curve-style': 'bezier',\n",
       "    'target-arrow-shape': 'triangle',\n",
       "    'target-arrow-fill': 'filled',\n",
       "    'arrow-scale': 1,\n",
       "  }\n",
       "}\n",
       "],\n",
       "         layout: \n",
       "{\n",
       "  name: 'breadthfirst',\n",
       "  directed: true,\n",
       "  padding: 10\n",
       "}\n",
       ",\n",
       "         elements: [\n",
       "  {\n",
       "    data: {\n",
       "      id: 0,\n",
       "      label: 'CALL[0]([\"t\",{\"tag\":1,\"contents\":\"1\",\"left\":{\"tag\":1,\"contents\":\"2\",\"left\":{\"tag\":0},\"right\":{\"tag\":0}},\"right\":{\"tag\":0}}])'\n",
       "    }\n",
       "  },\n",
       "  {\n",
       "    data: {\n",
       "      id: 1,\n",
       "      label: 'CALL[1]([\"t\",{\"tag\":1,\"contents\":\"2\",\"left\":{\"tag\":0},\"right\":{\"tag\":0}}])'\n",
       "    }\n",
       "  },\n",
       "  { data: { id: 'edge1', source: 0, target: 1 } },\n",
       "  { data: { id: 2, label: 'CALL[2]([\"t\",{\"tag\":0}])' } },\n",
       "  { data: { id: 'edge2', source: 1, target: 2 } },\n",
       "  { data: { id: 3, label: 'RET[3](0)' } },\n",
       "  { data: { id: 'edge3', source: 2, target: 3 } },\n",
       "  { data: { id: 4, label: 'CALL[4]([\"t\",{\"tag\":0}])' } },\n",
       "  { data: { id: 'edge4', source: 1, target: 4 } },\n",
       "  { data: { id: 5, label: 'RET[5](0)' } },\n",
       "  { data: { id: 'edge5', source: 4, target: 5 } },\n",
       "  { data: { id: 6, label: 'RET[6](1)' } },\n",
       "  { data: { id: 'edge6', source: 5, target: 6 } },\n",
       "  { data: { id: 'edge7', source: 3, target: 6 } },\n",
       "  { data: { id: 7, label: 'CALL[7]([\"t\",{\"tag\":0}])' } },\n",
       "  { data: { id: 'edge8', source: 0, target: 7 } },\n",
       "  { data: { id: 8, label: 'RET[8](0)' } },\n",
       "  { data: { id: 'edge9', source: 7, target: 8 } },\n",
       "  { data: { id: 9, label: 'RET[9](2)' } },\n",
       "  { data: { id: 'edge10', source: 8, target: 9 } },\n",
       "  { data: { id: 'edge11', source: 6, target: 9 } }\n",
       "]\n",
       "         });\n",
       "     });\n",
       " })(this.element);\n",
       "</script>\n"
      ]
     },
     "metadata": {},
     "output_type": "display_data"
    }
   ],
   "source": [
    "// Compare with list\n",
    "const res = introspect.traceCallStack(height, exports);\n",
    "res.func(t2) // recall nesting again\n",
    "drawCallStack(res.stack)"
   ]
  },
  {
   "cell_type": "code",
   "execution_count": 26,
   "id": "caa7be93",
   "metadata": {
    "scrolled": false
   },
   "outputs": [
    {
     "name": "stdout",
     "output_type": "stream",
     "text": [
      "CALL[0]\n"
     ]
    },
    {
     "name": "stderr",
     "output_type": "stream",
     "text": [
      "C:/Users/zsma7/Documents/GitHub/lectures-Area-Turtle/lib/tree.js:200\n",
      "        switch (t.tag) {\n",
      "                  ^\n",
      "\n",
      "TypeError: Cannot read property 'tag' of undefined\n",
      "    at go (C:/Users/zsma7/Documents/GitHub/lectures-Area-Turtle/lib/tree.js:200:19)\n",
      "    at Object.cytoscapify (C:/Users/zsma7/Documents/GitHub/lectures-Area-Turtle/lib/tree.js:217:25)\n",
      "    at drawTree (C:/Users/zsma7/Documents/GitHub/lectures-Area-Turtle/lib/draw.js:114:22)\n",
      "    at Proxy.drawStackTrace (C:/Users/zsma7/Documents/GitHub/lectures-Area-Turtle/lib/draw.js:130:13)\n",
      "    at evalmachine.<anonymous>:5:9\n",
      "    at evalmachine.<anonymous>:7:3\n",
      "    at sigintHandlersWrap (node:vm:268:12)\n",
      "    at Script.runInThisContext (node:vm:127:14)\n",
      "    at Object.runInThisContext (node:vm:305:38)\n",
      "    at Object.execute (C:\\Users\\zsma7\\node_modules\\tslab\\dist\\executor.js:162:38)\n"
     ]
    }
   ],
   "source": [
    "// Drawing\n",
    "drawStackTrace(res.stack, drawTree);"
   ]
  },
  {
   "cell_type": "code",
   "execution_count": 27,
   "id": "f2132792",
   "metadata": {},
   "outputs": [],
   "source": [
    "function treeToString<T>(t: Tree<T>): string {\n",
    "    switch (t.tag) {\n",
    "        case _Tree.LEAF: {  // Base case: by definition \"()\"\n",
    "            return \"nil\";  \n",
    "        }\n",
    "        case _Tree.NODE: {  // Recursive case: by definition \"()\"\n",
    "            // Assume: treeToString(t.left) gives me the answer to the left child \n",
    "            // Assume: treeToString(t.right) gives me the answer to the right child\n",
    "            // Answer (contents left right)\n",
    "            return `(${t.contents.toString()} ${treeToString(t.left)} ${treeToString(t.right)})`;\n",
    "        }\n",
    "            \n",
    "    }\n",
    "}"
   ]
  },
  {
   "cell_type": "code",
   "execution_count": 28,
   "id": "b903cf07",
   "metadata": {},
   "outputs": [
    {
     "name": "stdout",
     "output_type": "stream",
     "text": [
      "{\n",
      "  tag: 1,\n",
      "  contents: '1',\n",
      "  left: { tag: 1, contents: '2', left: { tag: 0 }, right: { tag: 0 } },\n",
      "  right: { tag: 0 }\n",
      "}\n"
     ]
    }
   ],
   "source": [
    "t2"
   ]
  },
  {
   "cell_type": "code",
   "execution_count": 29,
   "id": "d835c08f",
   "metadata": {},
   "outputs": [
    {
     "name": "stdout",
     "output_type": "stream",
     "text": [
      "(1 (2 nil nil) nil)\n"
     ]
    }
   ],
   "source": [
    "treeToString(t2)"
   ]
  },
  {
   "cell_type": "code",
   "execution_count": 30,
   "id": "508a8557",
   "metadata": {},
   "outputs": [
    {
     "name": "stdout",
     "output_type": "stream",
     "text": [
      "(0 (1 nil nil) (1 (2 nil nil) nil))\n"
     ]
    }
   ],
   "source": [
    "treeToString(t3)"
   ]
  },
  {
   "cell_type": "code",
   "execution_count": 15,
   "id": "f8a3314f",
   "metadata": {},
   "outputs": [
    {
     "name": "stderr",
     "output_type": "stream",
     "text": [
      "1:39 - Cannot find name 'treeToString'.\n"
     ]
    }
   ],
   "source": [
    "const res = introspect.traceCallStack(treeToString, exports);\n",
    "res.func(t2)\n",
    "drawCallStack(res.stack)"
   ]
  },
  {
   "cell_type": "markdown",
   "id": "4b3c3d70",
   "metadata": {},
   "source": [
    "#### What do the iterative solutions look like?"
   ]
  },
  {
   "cell_type": "code",
   "execution_count": null,
   "id": "bb33ccd6",
   "metadata": {},
   "outputs": [],
   "source": [
    "function iterTreeToString<T>(t: Tree<T>): String {\n",
    "    let callStack: [string, Tree<T> | string][] = [];  // this is why we've been calling \"traceCallStack\"\n",
    "    let ans: string[] = [];\n",
    "    callStack.push([\"CALL\", t]);\n",
    "    \n",
    "    while (callStack.length > 0) {\n",
    "        const [mode, trOrStr] = callStack.pop();\n",
    "        if (mode == \"CALL\") {\n",
    "            const tr = trOrStr as Tree<T>;\n",
    "            switch (tr.tag) {\n",
    "                case _Tree.LEAF: {\n",
    "                    ans.push(\"()\");\n",
    "                    break;\n",
    "                }\n",
    "                case _Tree.NODE: {\n",
    "                    callStack.push([\"RET\", tr.contents.toString()]);\n",
    "                    callStack.push([\"CALL\", tr.right]);\n",
    "                    callStack.push([\"CALL\", tr.left]);\n",
    "                    break;\n",
    "                }\n",
    "            }\n",
    "        } else if (mode == \"RET\") {\n",
    "            const str = trOrStr as string;\n",
    "            const right = ans.pop();\n",
    "            const left = ans.pop();\n",
    "            ans.push(`(${str} ${left} ${right})`);\n",
    "        } else {\n",
    "            throw Error(\"Shouldn't happen ...\");\n",
    "        }\n",
    "    }\n",
    "    \n",
    "    return ans.pop();\n",
    "}"
   ]
  },
  {
   "cell_type": "code",
   "execution_count": 14,
   "id": "6c3a83a7",
   "metadata": {},
   "outputs": [
    {
     "name": "stderr",
     "output_type": "stream",
     "text": [
      "1:2 - Cannot find name 'iterTreeToString'.\n",
      "1:24 - Cannot find name 'treeToString'.\n"
     ]
    }
   ],
   "source": [
    "[iterTreeToString(t2), treeToString(t2)]"
   ]
  },
  {
   "cell_type": "code",
   "execution_count": null,
   "id": "797df15d",
   "metadata": {},
   "outputs": [],
   "source": [
    "[iterTreeToString(t3), treeToString(t3)]"
   ]
  },
  {
   "cell_type": "markdown",
   "id": "43ab619e",
   "metadata": {},
   "source": [
    "### Summary\n",
    "\n",
    "- You can do the **same** computations with both iteration and recursion.\n",
    "- Recursion uses more **stack frames** (the traceCallStack picture) than iteration.\n",
    "- For some functions, iteration requires you to simulate the stack on the heap (e.g., iterTreeToString)"
   ]
  },
  {
   "cell_type": "markdown",
   "id": "08f1f73a",
   "metadata": {},
   "source": [
    "## JSON\n",
    "\n",
    "[https://www.json.org/json-en.html](https://www.json.org/json-en.html)"
   ]
  },
  {
   "cell_type": "code",
   "execution_count": null,
   "id": "94f8c53c",
   "metadata": {},
   "outputs": [],
   "source": [
    "// Our tree example in JSON\n",
    "\n",
    "const j0 = {'tag': 'div', 'style': '', 'body': 'BOX 2: Left', 'children': []};\n",
    "const j1 = {'tag': 'div', 'style': '', 'body': 'BOX 4: Right Bot', 'children': []};\n",
    "const j2 = {'tag': 'div', 'style': '', 'body': 'BOX 3: Right', 'children': [j1]};\n",
    "const j3 = {'tag': 'div', 'style': '', 'body': 'BOX 1: Right', 'children': [j0, j2]};\n",
    "\n",
    "j0"
   ]
  },
  {
   "cell_type": "markdown",
   "id": "d6232794",
   "metadata": {},
   "source": [
    "### JSON Data Interchange Format"
   ]
  },
  {
   "cell_type": "code",
   "execution_count": null,
   "id": "d7601c10",
   "metadata": {},
   "outputs": [],
   "source": [
    "type JSONValue = null | string | JSONObject | JSONValue[];\n",
    "type JSONObject = { [key: string]: JSONValue };\n",
    "\n",
    "function treeToJSON<T>(tr: Tree<T>): JSONObject {\n",
    "    switch (tr.tag) {\n",
    "        case (_Tree.LEAF): {\n",
    "            return { 'tag': '_Tree.LEAF' }\n",
    "        }\n",
    "        case (_Tree.NODE): {\n",
    "            return { 'tag': '_Tree.NODE',\n",
    "                     'contents': tr.contents.toString(),\n",
    "                     'left': treeToJSON(tr.left),\n",
    "                     'right': treeToJSON(tr.right) }\n",
    "        }\n",
    "    }\n",
    "}"
   ]
  },
  {
   "cell_type": "code",
   "execution_count": null,
   "id": "471e8801",
   "metadata": {},
   "outputs": [],
   "source": [
    "treeToJSON(j0)"
   ]
  },
  {
   "cell_type": "code",
   "execution_count": null,
   "id": "845058e5",
   "metadata": {},
   "outputs": [],
   "source": [
    "import * as fs from \"fs\";\n",
    "\n",
    "const jsonTree = treeToJSON(t3);\n",
    "console.log(\"Original\", JSON.stringify(jsonTree));\n",
    "\n",
    "fs.writeFileSync('jsonTree.json', JSON.stringify(jsonTree));\n",
    "try {\n",
    "    const data = fs.readFileSync('jsonTree.json', 'utf8')\n",
    "    console.log(\"Decoded\", data);\n",
    "    console.log(\"Decoded successfully?\", data == JSON.stringify(jsonTree))\n",
    "} catch (err) {\n",
    "    tslab.display.html(`<p> ${err}</p>`);\n",
    "}"
   ]
  },
  {
   "cell_type": "code",
   "execution_count": null,
   "id": "19157bf3",
   "metadata": {
    "scrolled": true
   },
   "outputs": [],
   "source": [
    "drawTree(t3)"
   ]
  },
  {
   "cell_type": "code",
   "execution_count": null,
   "id": "be564503",
   "metadata": {
    "scrolled": true
   },
   "outputs": [],
   "source": [
    "function jsonToTree(jTree: JSONObject): Tree<string> {\n",
    "    switch ((jTree as { [tag: string]: any }).tag) {\n",
    "        case ('_Tree.LEAF'): {\n",
    "            return Leaf();\n",
    "        }\n",
    "        case ('_Tree.NODE'): {\n",
    "            const node = jTree as { tag: string, contents: string, left: JSONObject, right: JSONObject }\n",
    "            return Node(node.contents, jsonToTree(node.left), jsonToTree(node.right));\n",
    "        }\n",
    "    }\n",
    "}\n",
    "\n",
    "drawTree(jsonToTree(treeToJSON(t3)))"
   ]
  },
  {
   "cell_type": "markdown",
   "id": "9406606d",
   "metadata": {},
   "source": [
    "### JSON's as serialization format for TypeScript object"
   ]
  },
  {
   "cell_type": "code",
   "execution_count": null,
   "id": "48ebed57",
   "metadata": {},
   "outputs": [],
   "source": [
    "t3 // Notice how similar this is to JSON"
   ]
  },
  {
   "cell_type": "code",
   "execution_count": null,
   "id": "f793ee4b",
   "metadata": {},
   "outputs": [],
   "source": [
    "console.log(\"Original\", JSON.stringify(t3));\n",
    "\n",
    "fs.writeFileSync('jsonTree.json', JSON.stringify(t3));\n",
    "try {\n",
    "    const data = fs.readFileSync('jsonTree.json', 'utf8')\n",
    "    console.log(\"Decoded\", data);\n",
    "    console.log(\"Decoded successfully?\", data == JSON.stringify(t3))\n",
    "} catch (err) {\n",
    "    tslab.display.html(`<p> ${err}</p>`);\n",
    "}"
   ]
  },
  {
   "cell_type": "markdown",
   "id": "eafe2af0",
   "metadata": {},
   "source": [
    "### JSON as ADT\n",
    "\n",
    "The type of `JSONObject` in BNF:\n",
    "\n",
    "```\n",
    "JSONValue ::= null | string | <JSONObject> | [<JSONValue>]\n",
    "JSONObject ::= { key: <JSONValue> }\n",
    "```\n",
    "\n",
    "Looks like we can change this to an ADT."
   ]
  },
  {
   "cell_type": "code",
   "execution_count": 31,
   "id": "5ea41bd6",
   "metadata": {},
   "outputs": [],
   "source": [
    "// JSON as ADT\n",
    "\n",
    "type JSONValue = null | string | JSONObject | JSONValue[];\n",
    "type JSONObject = { [key: string]: JSONValue };"
   ]
  },
  {
   "cell_type": "code",
   "execution_count": null,
   "id": "335088bd",
   "metadata": {},
   "outputs": [],
   "source": [
    "tslab.display.html(`\n",
    "<div class=\"bx--grid\"> Program 1: I'm a top-level program\n",
    "    <div class=\"bx--row\">\n",
    "        <div class=\"bx--col\">\n",
    "            <div class=\"bx--tile\">\n",
    "                BOX2: Sub-program 2\n",
    "            </div>\n",
    "        </div>\n",
    "        <div class=\"bx--col\">\n",
    "            <div class=\"bx--tile\">\n",
    "                BOX3: Sub-program 3\n",
    "                \n",
    "                <div class=\"bx--tile\">\n",
    "                    BOX4: A sub-sub-program\n",
    "                </div>\n",
    "            </div>\n",
    "        </div>\n",
    "    </div>\n",
    "</div>\n",
    "`)"
   ]
  },
  {
   "cell_type": "markdown",
   "id": "a47faba8",
   "metadata": {},
   "source": [
    "## Story for Today?\n",
    "\n",
    "- We motivated ADTs + recursion as a natural way of solving a problem such as page layout.\n",
    "- This led use to realize that we needed a general way to construct data-structures which turned out to be ADTs.\n",
    "- We looked at the next simplest example of an ADT called a Tree.\n",
    "- Trees are surprisingly powerful. In particular, we saw that JSON is a \"Tree\".\n",
    "- And in fact every TypeScript object underneath looks a lot like JSON.\n",
    "- We'll continue to see the concept of recursion throughout the class."
   ]
  },
  {
   "cell_type": "code",
   "execution_count": null,
   "id": "efb70206",
   "metadata": {},
   "outputs": [],
   "source": []
  }
 ],
 "metadata": {
  "kernelspec": {
   "display_name": "TypeScript",
   "language": "typescript",
   "name": "tslab"
  },
  "language_info": {
   "codemirror_mode": {
    "mode": "typescript",
    "name": "javascript",
    "typescript": true
   },
   "file_extension": ".ts",
   "mimetype": "text/typescript",
   "name": "typescript",
   "version": "3.7.2"
  }
 },
 "nbformat": 4,
 "nbformat_minor": 5
}
