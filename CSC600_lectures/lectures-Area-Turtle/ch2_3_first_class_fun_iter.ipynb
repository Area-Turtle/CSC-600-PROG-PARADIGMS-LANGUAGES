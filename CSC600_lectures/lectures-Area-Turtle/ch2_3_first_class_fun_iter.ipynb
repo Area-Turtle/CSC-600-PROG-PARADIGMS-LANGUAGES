{
 "cells": [
  {
   "cell_type": "markdown",
   "id": "78695b1a",
   "metadata": {},
   "source": [
    "# 2.3 First-Class Functions"
   ]
  },
  {
   "cell_type": "code",
   "execution_count": 1,
   "id": "d494902c",
   "metadata": {},
   "outputs": [
    {
     "data": {
      "text/html": [
       "\n",
       "<script>\n",
       "require.config({\n",
       "     paths: {\n",
       "     cytoscape: 'https://cdnjs.cloudflare.com/ajax/libs/cytoscape/3.19.0/cytoscape.min'\n",
       "}});\n",
       "</script>\n",
       "  "
      ]
     },
     "metadata": {},
     "output_type": "display_data"
    },
    {
     "data": {
      "text/html": [
       "\n",
       "  <link rel=\"stylesheet\" href=\"node_modules/carbon-components/css/carbon-components.css\">\n",
       "  "
      ]
     },
     "metadata": {},
     "output_type": "display_data"
    }
   ],
   "source": [
    "import { drawTree, requireCytoscape, requireCarbon } from \"./lib/draw\";\n",
    "import * as introspect from \"./lib/introspect\";\n",
    "import * as tree from \"./lib/tree\";\n",
    "\n",
    "requireCytoscape();\n",
    "requireCarbon();"
   ]
  },
  {
   "cell_type": "markdown",
   "id": "12dbf68d",
   "metadata": {},
   "source": [
    "## Where Were We?\n",
    "\n",
    "Concept Roadmap:\n",
    "\n",
    "1. **Bottom-up, i.e., building blocks of languages.** (TODAY and next 2 weeks)\n",
    "    - Data-Types + Recursion (last week)\n",
    "    - **First-Class Functions** and References + State (this week)\n",
    "2. Top-down, i.e., using building blocks.\n",
    "3. *Meta-theory.*"
   ]
  },
  {
   "cell_type": "markdown",
   "id": "be008213",
   "metadata": {},
   "source": [
    "## Goal\n",
    "\n",
    "1. Get comfortable with the idea of a *first-class function* (also called *higher-order function*)\n",
    "2. Learn about first-class functions on arrays and ADTs (e.g., map, filter, reduce)"
   ]
  },
  {
   "cell_type": "markdown",
   "id": "8fe779d9",
   "metadata": {},
   "source": [
    "## Outline\n",
    "\n",
    "- Why first-class functions?\n",
    "- What exactly is a first-class function?\n",
    "- First-class functions on arrays and ADTs\n",
    "- Bonus: Y-Combinator"
   ]
  },
  {
   "cell_type": "markdown",
   "id": "6407fcab",
   "metadata": {},
   "source": [
    "## Why First-Class Functions?"
   ]
  },
  {
   "cell_type": "markdown",
   "id": "fe829ce0",
   "metadata": {},
   "source": [
    "### Consider the following problem\n",
    "\n",
    "Problem:\n",
    "- I have an array of integer numbers (e.g., 1-5 star ratings)\n",
    "- I want the average of the numbers that are not 1 star ratings (i.e., remove extremely negative reviews)"
   ]
  },
  {
   "cell_type": "code",
   "execution_count": 2,
   "id": "2f8c6b45",
   "metadata": {},
   "outputs": [],
   "source": [
    "const arr = [1, 2, 3, 4, 5, 2, 2, 1, 1]"
   ]
  },
  {
   "cell_type": "markdown",
   "id": "e4a42980",
   "metadata": {},
   "source": [
    "### Let's try an iterative solution first"
   ]
  },
  {
   "cell_type": "code",
   "execution_count": 3,
   "id": "9338efe3",
   "metadata": {},
   "outputs": [],
   "source": [
    "function iterAvgWithout1(arr: number[]): number {\n",
    "    let [sum, cnt, iter] = [0, 0, 0];\n",
    "    for (const x of arr) {\n",
    "        if (x > 1) {  // Remove the 1star ratings\n",
    "            sum += x;\n",
    "            cnt += 1;\n",
    "        }\n",
    "        \n",
    "        // Purely for illustrative purposes\n",
    "        console.log(`iter: ${iter} list head: ${x}  sum: ${sum}   cnt: ${cnt}`);\n",
    "        iter += 1;\n",
    "    }\n",
    "    \n",
    "    if (cnt === 0) {\n",
    "        return 0;\n",
    "    } else {\n",
    "        return sum / cnt;\n",
    "    }\n",
    "}"
   ]
  },
  {
   "cell_type": "code",
   "execution_count": 4,
   "id": "a8d5df8a",
   "metadata": {},
   "outputs": [
    {
     "name": "stdout",
     "output_type": "stream",
     "text": [
      "[\n",
      "  1, 2, 3, 4, 5,\n",
      "  2, 2, 1, 1\n",
      "]\n",
      "iter: 0 list head: 1  sum: 0   cnt: 0\n",
      "iter: 1 list head: 2  sum: 2   cnt: 1\n",
      "iter: 2 list head: 3  sum: 5   cnt: 2\n",
      "iter: 3 list head: 4  sum: 9   cnt: 3\n",
      "iter: 4 list head: 5  sum: 14   cnt: 4\n",
      "iter: 5 list head: 2  sum: 16   cnt: 5\n",
      "iter: 6 list head: 2  sum: 18   cnt: 6\n",
      "iter: 7 list head: 1  sum: 18   cnt: 6\n",
      "iter: 8 list head: 1  sum: 18   cnt: 6\n",
      "3\n"
     ]
    }
   ],
   "source": [
    "console.log(arr);\n",
    "iterAvgWithout1(arr);"
   ]
  },
  {
   "cell_type": "markdown",
   "id": "e74a9286",
   "metadata": {},
   "source": [
    "### Let's try to filter by 1 and 2 star ratings"
   ]
  },
  {
   "cell_type": "code",
   "execution_count": 5,
   "id": "c06340ae",
   "metadata": {},
   "outputs": [],
   "source": [
    "function iterAvgWithout1And2(arr: number[]): number {\n",
    "    let [sum, cnt, iter] = [0, 0, 0];\n",
    "    for (const x of arr) {\n",
    "        if (x > 2) {  // Remove the 1 and 2 star ratings\n",
    "            sum += x;\n",
    "            cnt += 1;\n",
    "        }\n",
    "        \n",
    "        // Purely for illustrative purposes\n",
    "        console.log(`iter: ${iter} list head: ${x}  sum: ${sum}   cnt: ${cnt}`);\n",
    "        iter += 1;\n",
    "    }\n",
    "    \n",
    "    if (cnt === 0) {\n",
    "        return 0;\n",
    "    } else {\n",
    "        return sum / cnt;\n",
    "    }\n",
    "}"
   ]
  },
  {
   "cell_type": "code",
   "execution_count": 6,
   "id": "34655d9d",
   "metadata": {},
   "outputs": [
    {
     "name": "stdout",
     "output_type": "stream",
     "text": [
      "[\n",
      "  1, 2, 3, 4, 5,\n",
      "  2, 2, 1, 1\n",
      "]\n",
      "iter: 0 list head: 1  sum: 0   cnt: 0\n",
      "iter: 1 list head: 2  sum: 0   cnt: 0\n",
      "iter: 2 list head: 3  sum: 3   cnt: 1\n",
      "iter: 3 list head: 4  sum: 7   cnt: 2\n",
      "iter: 4 list head: 5  sum: 12   cnt: 3\n",
      "iter: 5 list head: 2  sum: 12   cnt: 3\n",
      "iter: 6 list head: 2  sum: 12   cnt: 3\n",
      "iter: 7 list head: 1  sum: 12   cnt: 3\n",
      "iter: 8 list head: 1  sum: 12   cnt: 3\n",
      "4\n"
     ]
    }
   ],
   "source": [
    "console.log(arr);\n",
    "iterAvgWithout1And2(arr);"
   ]
  },
  {
   "cell_type": "markdown",
   "id": "5f3574e3",
   "metadata": {},
   "source": [
    "### What just happened?\n",
    "    \n",
    "- We did a copy-paste and changed 1 character ..."
   ]
  },
  {
   "cell_type": "markdown",
   "id": "dec8ab91",
   "metadata": {},
   "source": [
    "### Let's try a weighted average"
   ]
  },
  {
   "cell_type": "code",
   "execution_count": 7,
   "id": "a909b1ae",
   "metadata": {},
   "outputs": [],
   "source": [
    "function iterWgtAvgWithout1And2(arr: number[]): number {\n",
    "    let [sum, cnt, iter] = [0, 0, 0];\n",
    "    for (const x of arr) {\n",
    "        if (x > 1) {  // Remove the 1 and 2 star ratings\n",
    "            if (x == 2) {\n",
    "                sum += x;   \n",
    "            } else if (x == 3) {\n",
    "                sum += 2*x;\n",
    "            } else {\n",
    "                sum += 3*x;\n",
    "            }\n",
    "            cnt += 1;\n",
    "        }\n",
    "        \n",
    "        // Purely for illustrative purposes\n",
    "        console.log(`iter: ${iter} list head: ${x}  sum: ${sum}   cnt: ${cnt}`);\n",
    "        iter += 1;\n",
    "    }\n",
    "    \n",
    "    if (cnt === 0) {\n",
    "        return 0;\n",
    "    } else {\n",
    "        return sum / cnt;\n",
    "    }\n",
    "}"
   ]
  },
  {
   "cell_type": "code",
   "execution_count": 8,
   "id": "348d7c14",
   "metadata": {},
   "outputs": [
    {
     "name": "stdout",
     "output_type": "stream",
     "text": [
      "[\n",
      "  1, 2, 3, 4, 5,\n",
      "  2, 2, 1, 1\n",
      "]\n",
      "iter: 0 list head: 1  sum: 0   cnt: 0\n",
      "iter: 1 list head: 2  sum: 2   cnt: 1\n",
      "iter: 2 list head: 3  sum: 8   cnt: 2\n",
      "iter: 3 list head: 4  sum: 20   cnt: 3\n",
      "iter: 4 list head: 5  sum: 35   cnt: 4\n",
      "iter: 5 list head: 2  sum: 37   cnt: 5\n",
      "iter: 6 list head: 2  sum: 39   cnt: 6\n",
      "iter: 7 list head: 1  sum: 39   cnt: 6\n",
      "iter: 8 list head: 1  sum: 39   cnt: 6\n",
      "6.5\n"
     ]
    }
   ],
   "source": [
    "console.log(arr);\n",
    "iterWgtAvgWithout1And2(arr);"
   ]
  },
  {
   "cell_type": "markdown",
   "id": "e84c3a50",
   "metadata": {},
   "source": [
    "### Same result ...\n",
    "    \n",
    "- We did another copy-paste and changed the if block\n",
    "- Say you want to filter out the 1's and 2's, and do a weighted average now ...\n",
    "- Surely, there must be a better way."
   ]
  },
  {
   "cell_type": "markdown",
   "id": "13aa2a68",
   "metadata": {},
   "source": [
    "## First-Class Functions to the Rescue\n",
    "\n",
    "- Many programming language features are useful for getting rid of copy-paste\n",
    "- We already saw one: recursion\n",
    "- First-class functions give us another way to get rid of copy-paste"
   ]
  },
  {
   "cell_type": "code",
   "execution_count": 9,
   "id": "a0412b77",
   "metadata": {},
   "outputs": [
    {
     "name": "stdout",
     "output_type": "stream",
     "text": [
      "3\n"
     ]
    }
   ],
   "source": [
    "function addOne(x: number): number {\n",
    "    return x + 1;\n",
    "}\n",
    "\n",
    "addOne(2);"
   ]
  },
  {
   "cell_type": "code",
   "execution_count": 10,
   "id": "6817d36a",
   "metadata": {},
   "outputs": [
    {
     "name": "stdout",
     "output_type": "stream",
     "text": [
      "[Function: tsLastExpr]\n"
     ]
    }
   ],
   "source": [
    "// An anonymous function version of addOne\n",
    "(x: number) => x + 1"
   ]
  },
  {
   "cell_type": "code",
   "execution_count": 11,
   "id": "9e6a6f6d",
   "metadata": {},
   "outputs": [
    {
     "name": "stdout",
     "output_type": "stream",
     "text": [
      "3\n"
     ]
    }
   ],
   "source": [
    "// An anonymous function\n",
    "((x: number) => x + 1)(2)"
   ]
  },
  {
   "cell_type": "code",
   "execution_count": 12,
   "id": "81d5b0ef",
   "metadata": {},
   "outputs": [
    {
     "name": "stdout",
     "output_type": "stream",
     "text": [
      "3\n"
     ]
    }
   ],
   "source": [
    "// 1. You can assign functions to ordinary variables\n",
    "const f = (x: number) => x + 1\n",
    "f(2);"
   ]
  },
  {
   "cell_type": "code",
   "execution_count": 13,
   "id": "6bd2bbc5",
   "metadata": {},
   "outputs": [
    {
     "name": "stdout",
     "output_type": "stream",
     "text": [
      "[Function (anonymous)]\n",
      "3\n"
     ]
    }
   ],
   "source": [
    "// 2. You can return a function from a function\n",
    "const f = (x: number) => (y: number) => x + y;\n",
    "console.log(f(1));\n",
    "console.log(f(1)(2));"
   ]
  },
  {
   "cell_type": "code",
   "execution_count": 14,
   "id": "dca0454d",
   "metadata": {},
   "outputs": [],
   "source": [
    "function fcIterAvgWithFilter(predicate: (x: number) => boolean, arr: number[]): number {\n",
    "    // 3. You can pass in functions as arguments\n",
    "    let [sum, cnt, iter] = [0, 0, 0];\n",
    "    for (const x of arr) {\n",
    "        if (predicate(x)) {  // Use the predicate\n",
    "            sum += x;\n",
    "            cnt += 1;\n",
    "        }\n",
    "        \n",
    "        // Purely for illustrative purposes\n",
    "        console.log(`iter: ${iter} list head: ${x}  sum: ${sum}   cnt: ${cnt}`);\n",
    "        iter += 1;\n",
    "    }\n",
    "    \n",
    "    if (cnt === 0) {\n",
    "        return 0;\n",
    "    } else {\n",
    "        return sum / cnt;\n",
    "    }\n",
    "}"
   ]
  },
  {
   "cell_type": "code",
   "execution_count": 15,
   "id": "bcca73ce",
   "metadata": {},
   "outputs": [
    {
     "name": "stdout",
     "output_type": "stream",
     "text": [
      "iter: 0 list head: 1  sum: 0   cnt: 0\n",
      "iter: 1 list head: 2  sum: 2   cnt: 1\n",
      "iter: 2 list head: 3  sum: 5   cnt: 2\n",
      "iter: 3 list head: 4  sum: 9   cnt: 3\n",
      "iter: 4 list head: 5  sum: 14   cnt: 4\n",
      "iter: 5 list head: 2  sum: 16   cnt: 5\n",
      "iter: 6 list head: 2  sum: 18   cnt: 6\n",
      "iter: 7 list head: 1  sum: 18   cnt: 6\n",
      "iter: 8 list head: 1  sum: 18   cnt: 6\n",
      "3\n",
      "iter: 0 list head: 1  sum: 0   cnt: 0\n",
      "iter: 1 list head: 2  sum: 0   cnt: 0\n",
      "iter: 2 list head: 3  sum: 3   cnt: 1\n",
      "iter: 3 list head: 4  sum: 7   cnt: 2\n",
      "iter: 4 list head: 5  sum: 12   cnt: 3\n",
      "iter: 5 list head: 2  sum: 12   cnt: 3\n",
      "iter: 6 list head: 2  sum: 12   cnt: 3\n",
      "iter: 7 list head: 1  sum: 12   cnt: 3\n",
      "iter: 8 list head: 1  sum: 12   cnt: 3\n",
      "4\n"
     ]
    }
   ],
   "source": [
    "const filter1 = (x: number) => x > 1;\n",
    "const filter2 = (x: number) => x > 2;\n",
    "console.log(fcIterAvgWithFilter(filter1, arr));\n",
    "console.log(fcIterAvgWithFilter(filter2, arr));"
   ]
  },
  {
   "cell_type": "markdown",
   "id": "9764a184",
   "metadata": {},
   "source": [
    "### It's starting to look better!\n",
    "\n",
    "- Ok so we no longer need to copy and paste code for changing filtering by 1 and 2.\n",
    "- What about changing the sum?"
   ]
  },
  {
   "cell_type": "code",
   "execution_count": 16,
   "id": "71f62c3e",
   "metadata": {},
   "outputs": [],
   "source": [
    "function fcIterAvgWithFilterFun(predicate: (x: number) => boolean, fun: (x: number) => number, arr: number[]): number {\n",
    "    let [sum, cnt, iter] = [0, 0, 0];\n",
    "    for (const x of arr) {\n",
    "        if (predicate(x)) {  // Use the predicate\n",
    "            sum += fun(x);\n",
    "            cnt += 1;\n",
    "        }\n",
    "        \n",
    "        // Purely for illustrative purposes\n",
    "        console.log(`iter: ${iter} list head: ${x}  sum: ${sum}   cnt: ${cnt}`);\n",
    "        iter += 1;\n",
    "    }\n",
    "    \n",
    "    if (cnt === 0) {\n",
    "        return 0;\n",
    "    } else {\n",
    "        return sum / cnt;\n",
    "    }\n",
    "}"
   ]
  },
  {
   "cell_type": "code",
   "execution_count": 17,
   "id": "0d02051a",
   "metadata": {},
   "outputs": [
    {
     "name": "stdout",
     "output_type": "stream",
     "text": [
      "iter: 0 list head: 1  sum: 0   cnt: 0\n",
      "iter: 1 list head: 2  sum: 2   cnt: 1\n",
      "iter: 2 list head: 3  sum: 5   cnt: 2\n",
      "iter: 3 list head: 4  sum: 9   cnt: 3\n",
      "iter: 4 list head: 5  sum: 14   cnt: 4\n",
      "iter: 5 list head: 2  sum: 16   cnt: 5\n",
      "iter: 6 list head: 2  sum: 18   cnt: 6\n",
      "iter: 7 list head: 1  sum: 18   cnt: 6\n",
      "iter: 8 list head: 1  sum: 18   cnt: 6\n",
      "3\n",
      "iter: 0 list head: 1  sum: 0   cnt: 0\n",
      "iter: 1 list head: 2  sum: 0   cnt: 0\n",
      "iter: 2 list head: 3  sum: 3   cnt: 1\n",
      "iter: 3 list head: 4  sum: 7   cnt: 2\n",
      "iter: 4 list head: 5  sum: 12   cnt: 3\n",
      "iter: 5 list head: 2  sum: 12   cnt: 3\n",
      "iter: 6 list head: 2  sum: 12   cnt: 3\n",
      "iter: 7 list head: 1  sum: 12   cnt: 3\n",
      "iter: 8 list head: 1  sum: 12   cnt: 3\n",
      "4\n",
      "iter: 0 list head: 1  sum: 0   cnt: 0\n",
      "iter: 1 list head: 2  sum: 2   cnt: 1\n",
      "iter: 2 list head: 3  sum: 8   cnt: 2\n",
      "iter: 3 list head: 4  sum: 20   cnt: 3\n",
      "iter: 4 list head: 5  sum: 35   cnt: 4\n",
      "iter: 5 list head: 2  sum: 37   cnt: 5\n",
      "iter: 6 list head: 2  sum: 39   cnt: 6\n",
      "iter: 7 list head: 1  sum: 39   cnt: 6\n",
      "iter: 8 list head: 1  sum: 39   cnt: 6\n",
      "6.5\n",
      "iter: 0 list head: 1  sum: 0   cnt: 0\n",
      "iter: 1 list head: 2  sum: 0   cnt: 0\n",
      "iter: 2 list head: 3  sum: 6   cnt: 1\n",
      "iter: 3 list head: 4  sum: 18   cnt: 2\n",
      "iter: 4 list head: 5  sum: 33   cnt: 3\n",
      "iter: 5 list head: 2  sum: 33   cnt: 3\n",
      "iter: 6 list head: 2  sum: 33   cnt: 3\n",
      "iter: 7 list head: 1  sum: 33   cnt: 3\n",
      "iter: 8 list head: 1  sum: 33   cnt: 3\n",
      "11\n"
     ]
    }
   ],
   "source": [
    "const identity = (x: number): number => x;\n",
    "const weight = (x: number) => {\n",
    "    if (x == 2) {\n",
    "        return x;   \n",
    "    } else if (x == 3) {\n",
    "        return 2*x;\n",
    "    } else {\n",
    "        return 3*x;\n",
    "    }\n",
    "};\n",
    "\n",
    "console.log(fcIterAvgWithFilterFun(filter1, identity, arr))\n",
    "console.log(fcIterAvgWithFilterFun(filter2, identity, arr))\n",
    "console.log(fcIterAvgWithFilterFun(filter1, weight, arr))\n",
    "console.log(fcIterAvgWithFilterFun(filter2, weight, arr))"
   ]
  },
  {
   "cell_type": "markdown",
   "id": "a5d7a7fa",
   "metadata": {},
   "source": [
    "## Map-Filter-Reduce Pattern on Arrays"
   ]
  },
  {
   "cell_type": "markdown",
   "id": "a95c4c5f",
   "metadata": {},
   "source": [
    "- Every now and then, there exists a pattern that is pretty common such as filtering and performing some function on it\n",
    "- We want to abstract that out so that a library designer can implement it. This is less work for us, reduces bugs, and introduces opportunities for optimization."
   ]
  },
  {
   "cell_type": "markdown",
   "id": "33b2867c",
   "metadata": {},
   "source": [
    "### Map\n",
    "\n",
    "Take an array and apply a function to each element of that arr."
   ]
  },
  {
   "cell_type": "code",
   "execution_count": 18,
   "id": "79344bb5",
   "metadata": {},
   "outputs": [],
   "source": [
    "function arrMap<T, U>(f: (elem: T) => U, arr: T[]): U[] {\n",
    "    const acc = [];  // Create a new array\n",
    "    for (const x of arr) {\n",
    "        acc.push(f(x));\n",
    "    }\n",
    "    return acc;\n",
    "}"
   ]
  },
  {
   "cell_type": "code",
   "execution_count": 19,
   "id": "6c49503d",
   "metadata": {},
   "outputs": [
    {
     "name": "stdout",
     "output_type": "stream",
     "text": [
      "input [\n",
      "  1, 2, 3, 4, 5,\n",
      "  2, 2, 1, 1\n",
      "]\n",
      "mapped output [\n",
      "  3, 2, 6, 12, 15,\n",
      "  2, 2, 3,  3\n",
      "]\n",
      "original input [\n",
      "  1, 2, 3, 4, 5,\n",
      "  2, 2, 1, 1\n",
      "]\n"
     ]
    }
   ],
   "source": [
    "console.log(\"input\", arr);\n",
    "console.log(\"mapped output\", arrMap(weight, arr));\n",
    "console.log(\"original input\", arr);"
   ]
  },
  {
   "cell_type": "markdown",
   "id": "958d83a6",
   "metadata": {},
   "source": [
    "### Filter\n",
    "\n",
    "Take an array and produce an array with some elements removed."
   ]
  },
  {
   "cell_type": "code",
   "execution_count": 20,
   "id": "f990f9c9",
   "metadata": {},
   "outputs": [],
   "source": [
    "function arrFilter<T>(f: (elem: T) => boolean, arr: T[]): T[] {\n",
    "    const acc = [];\n",
    "    for (const x of arr) {\n",
    "        if (f(x)) {\n",
    "            acc.push(x);\n",
    "        }\n",
    "    }\n",
    "    return acc;\n",
    "}"
   ]
  },
  {
   "cell_type": "code",
   "execution_count": 21,
   "id": "7dbc6d65",
   "metadata": {},
   "outputs": [
    {
     "name": "stdout",
     "output_type": "stream",
     "text": [
      "[\n",
      "  1, 2, 3, 4, 5,\n",
      "  2, 2, 1, 1\n",
      "]\n",
      "[ 2, 3, 4, 5, 2, 2 ]\n"
     ]
    }
   ],
   "source": [
    "console.log(arr);\n",
    "console.log(arrFilter((x: number) => x > 1, arr));"
   ]
  },
  {
   "cell_type": "markdown",
   "id": "76f38160",
   "metadata": {},
   "source": [
    "### Reduce\n",
    "\n",
    "Take an array and combine all elements in that array somehow."
   ]
  },
  {
   "cell_type": "code",
   "execution_count": 22,
   "id": "a5e25038",
   "metadata": {},
   "outputs": [],
   "source": [
    "function arrReduce<T, U>(f: (elem: T, acc: U) => U, initial: U, arr: T[]): U {\n",
    "    let acc = initial;\n",
    "    for (const x of arr) {\n",
    "        acc = f(x, acc);\n",
    "    }\n",
    "    return acc;\n",
    "}"
   ]
  },
  {
   "cell_type": "code",
   "execution_count": 23,
   "id": "b1e4be44",
   "metadata": {},
   "outputs": [
    {
     "name": "stdout",
     "output_type": "stream",
     "text": [
      "input [\n",
      "  1, 2, 3, 4, 5,\n",
      "  2, 2, 1, 1\n",
      "]\n",
      "filtered array [ 2, 3, 4, 5, 2, 2 ]\n",
      "mapped array [ 2, 6, 12, 15, 2, 2 ]\n",
      "reduce 39\n"
     ]
    }
   ],
   "source": [
    "console.log(\"input\", arr);\n",
    "const arr1 = arrFilter(filter1, arr);\n",
    "console.log(\"filtered array\", arr1);\n",
    "const arr2 = arrMap(weight, arr1);\n",
    "console.log(\"mapped array\", arr2);\n",
    "console.log(\"reduce\", arrReduce((elem: number, acc: number) => elem + acc, 0, arr2));"
   ]
  },
  {
   "cell_type": "markdown",
   "id": "006548aa",
   "metadata": {},
   "source": [
    "## Back to the Original Problem\n",
    "\n",
    "- Now we'll see how to do the original problem and it's variations using map, filter, and reduce."
   ]
  },
  {
   "cell_type": "code",
   "execution_count": 24,
   "id": "bc781809",
   "metadata": {},
   "outputs": [],
   "source": [
    "function fcIterAvgWithMapReduce(pred: (x: number) => boolean, fun: (x: number) => number, arr: number[]): number {\n",
    "    const arr2 = arrMap(fun, arrFilter(pred, arr));\n",
    "    const cnt = arr2.length;\n",
    "    const sum = arrReduce((elem: number, acc: number) => elem + acc, 0, arr2);\n",
    "    return sum / cnt;\n",
    "}"
   ]
  },
  {
   "cell_type": "code",
   "execution_count": 25,
   "id": "d80e888f",
   "metadata": {},
   "outputs": [
    {
     "name": "stdout",
     "output_type": "stream",
     "text": [
      "3\n",
      "4\n",
      "6.5\n",
      "11\n"
     ]
    }
   ],
   "source": [
    "console.log(fcIterAvgWithMapReduce(filter1, identity, arr));\n",
    "console.log(fcIterAvgWithMapReduce(filter2, identity, arr));\n",
    "console.log(fcIterAvgWithMapReduce(filter1, weight, arr));\n",
    "console.log(fcIterAvgWithMapReduce(filter2, weight, arr));"
   ]
  },
  {
   "cell_type": "markdown",
   "id": "e90aa678",
   "metadata": {},
   "source": [
    "## Shouldn't TypeScript have this functionality for arrays?"
   ]
  },
  {
   "cell_type": "markdown",
   "id": "574bb8c6",
   "metadata": {},
   "source": [
    "### Map on arrays"
   ]
  },
  {
   "cell_type": "code",
   "execution_count": 26,
   "id": "7b5af61e",
   "metadata": {},
   "outputs": [
    {
     "name": "stdout",
     "output_type": "stream",
     "text": [
      "input [\n",
      "  1, 2, 3, 4, 5,\n",
      "  2, 2, 1, 1\n",
      "]\n",
      "mapped output [\n",
      "  2, 3, 4, 5, 6,\n",
      "  3, 3, 2, 2\n",
      "]\n",
      "original input [\n",
      "  1, 2, 3, 4, 5,\n",
      "  2, 2, 1, 1\n",
      "]\n"
     ]
    }
   ],
   "source": [
    "console.log(\"input\", arr);\n",
    "console.log(\"mapped output\", arr.flatMap((x: number) => x + 1));\n",
    "console.log(\"original input\", arr);"
   ]
  },
  {
   "cell_type": "markdown",
   "id": "6fcf0c59",
   "metadata": {},
   "source": [
    "### Filter on arrays"
   ]
  },
  {
   "cell_type": "code",
   "execution_count": 27,
   "id": "f03ccd10",
   "metadata": {},
   "outputs": [
    {
     "name": "stdout",
     "output_type": "stream",
     "text": [
      "input [\n",
      "  1, 2, 3, 4, 5,\n",
      "  2, 2, 1, 1\n",
      "]\n",
      "filtered output [ 2, 3, 4, 5, 2, 2 ]\n",
      "original input [\n",
      "  1, 2, 3, 4, 5,\n",
      "  2, 2, 1, 1\n",
      "]\n"
     ]
    }
   ],
   "source": [
    "console.log(\"input\", arr);\n",
    "console.log(\"filtered output\", arr.filter((x: number) => x > 1));\n",
    "console.log(\"original input\", arr);"
   ]
  },
  {
   "cell_type": "markdown",
   "id": "ac1a9204",
   "metadata": {},
   "source": [
    "### Reduce on arrays"
   ]
  },
  {
   "cell_type": "code",
   "execution_count": 28,
   "id": "dd2ca449",
   "metadata": {},
   "outputs": [
    {
     "name": "stdout",
     "output_type": "stream",
     "text": [
      "input [\n",
      "  1, 2, 3, 4, 5,\n",
      "  2, 2, 1, 1\n",
      "]\n",
      "filtered arr [ 2, 3, 4, 5, 2, 2 ]\n",
      "mapped array [ 2, 6, 12, 15, 2, 2 ]\n",
      "reduce 39\n"
     ]
    }
   ],
   "source": [
    "console.log(\"input\", arr);\n",
    "const arr1 = arr.filter(filter1);\n",
    "console.log(\"filtered arr\", arr1);\n",
    "const arr2 = arr1.flatMap(weight);\n",
    "console.log(\"mapped array\", arr2);\n",
    "console.log(\"reduce\", arr2.reduce((elem: number, acc: number) => elem + acc, 0));"
   ]
  },
  {
   "cell_type": "markdown",
   "id": "3480d062",
   "metadata": {},
   "source": [
    "## Does this work on data structures other than arrays?\n",
    "\n",
    "- Fine, map and filter on arrays are neat.\n",
    "- Can we do this on other data-types?"
   ]
  },
  {
   "cell_type": "markdown",
   "id": "cfb842a6",
   "metadata": {},
   "source": [
    "### Map/Filter/Reduce on Trees"
   ]
  },
  {
   "cell_type": "code",
   "execution_count": 29,
   "id": "f1d53fe1",
   "metadata": {},
   "outputs": [],
   "source": [
    "function mapTree<T, U>(f: (elem: T) => U, t: tree.Tree<T>): tree.Tree<U> {\n",
    "    switch (t.tag) {\n",
    "        case tree._Tree.LEAF: {\n",
    "            return tree.Leaf();\n",
    "        }\n",
    "        case tree._Tree.NODE: {\n",
    "            return tree.Node(f(t.contents), mapTree(f, t.left), mapTree(f, t.right));\n",
    "        }\n",
    "    }\n",
    "}"
   ]
  },
  {
   "cell_type": "code",
   "execution_count": 30,
   "id": "e94a553c",
   "metadata": {},
   "outputs": [
    {
     "data": {
      "text/html": [
       "\n",
       "<style>\n",
       "    #mydiv84e12a7d-2a0d-4401-8d32-789ab012e711 {\n",
       "        width: 800px;\n",
       "        height: 350px;\n",
       "        top: 0px;\n",
       "        left: 0px;\n",
       "    }\n",
       "</style>\n",
       "<div id=\"mydiv84e12a7d-2a0d-4401-8d32-789ab012e711\"></div>\n"
      ]
     },
     "metadata": {},
     "output_type": "display_data"
    },
    {
     "data": {
      "text/html": [
       "\n",
       "<script>\n",
       " (function(element) {\n",
       "     require(['cytoscape'], function(cytoscape) {   \n",
       "        var cy = cytoscape({\n",
       "         container: document.getElementById('mydiv84e12a7d-2a0d-4401-8d32-789ab012e711'),\n",
       "         style: [\n",
       "{\n",
       "  selector: 'node',\n",
       "  css: {\n",
       "    'class': \".bx--tree\",\n",
       "    'label': 'data(label)',\n",
       "    'height': '10px',\n",
       "    'width': '10px',\n",
       "  }\n",
       "},\n",
       "{\n",
       "  selector: 'edge',\n",
       "  css: {\n",
       "    'width': 3,\n",
       "    // 'line-color': '#ccc123',\n",
       "    'curve-style': 'bezier',\n",
       "    'target-arrow-shape': 'triangle',\n",
       "    'target-arrow-fill': 'filled',\n",
       "    'arrow-scale': 1,\n",
       "  }\n",
       "}\n",
       "],\n",
       "         layout: \n",
       "{\n",
       "  name: 'preset'\n",
       "}\n",
       ",\n",
       "         elements: [\n",
       "  { data: { id: 'node11', label: 3 }, position: { x: 0, y: 0 } },\n",
       "  { data: { id: 'edge12', source: 'node11', target: 'node3' } },\n",
       "  { data: { id: 'edge13', source: 'node11', target: 'node8' } },\n",
       "  { data: { id: 'node3', label: 1 }, position: { x: -100, y: 50 } },\n",
       "  { data: { id: 'edge4', source: 'node3', target: 'leaf1' } },\n",
       "  { data: { id: 'edge5', source: 'node3', target: 'leaf2' } },\n",
       "  { data: { id: 'leaf1' }, position: { x: -150, y: 100 } },\n",
       "  { data: { id: 'leaf2' }, position: { x: -50, y: 100 } },\n",
       "  { data: { id: 'node8', label: 2 }, position: { x: 100, y: 50 } },\n",
       "  { data: { id: 'edge9', source: 'node8', target: 'leaf6' } },\n",
       "  { data: { id: 'edge10', source: 'node8', target: 'leaf7' } },\n",
       "  { data: { id: 'leaf6' }, position: { x: 50, y: 100 } },\n",
       "  { data: { id: 'leaf7' }, position: { x: 150, y: 100 } }\n",
       "]\n",
       "         });\n",
       "     });\n",
       " })(this.element);\n",
       "</script>\n"
      ]
     },
     "metadata": {},
     "output_type": "display_data"
    },
    {
     "data": {
      "text/html": [
       "\n",
       "<style>\n",
       "    #mydiv6de5ae11-a948-460c-b447-dd528305a01f {\n",
       "        width: 800px;\n",
       "        height: 350px;\n",
       "        top: 0px;\n",
       "        left: 0px;\n",
       "    }\n",
       "</style>\n",
       "<div id=\"mydiv6de5ae11-a948-460c-b447-dd528305a01f\"></div>\n"
      ]
     },
     "metadata": {},
     "output_type": "display_data"
    },
    {
     "data": {
      "text/html": [
       "\n",
       "<script>\n",
       " (function(element) {\n",
       "     require(['cytoscape'], function(cytoscape) {   \n",
       "        var cy = cytoscape({\n",
       "         container: document.getElementById('mydiv6de5ae11-a948-460c-b447-dd528305a01f'),\n",
       "         style: [\n",
       "{\n",
       "  selector: 'node',\n",
       "  css: {\n",
       "    'class': \".bx--tree\",\n",
       "    'label': 'data(label)',\n",
       "    'height': '10px',\n",
       "    'width': '10px',\n",
       "  }\n",
       "},\n",
       "{\n",
       "  selector: 'edge',\n",
       "  css: {\n",
       "    'width': 3,\n",
       "    // 'line-color': '#ccc123',\n",
       "    'curve-style': 'bezier',\n",
       "    'target-arrow-shape': 'triangle',\n",
       "    'target-arrow-fill': 'filled',\n",
       "    'arrow-scale': 1,\n",
       "  }\n",
       "}\n",
       "],\n",
       "         layout: \n",
       "{\n",
       "  name: 'preset'\n",
       "}\n",
       ",\n",
       "         elements: [\n",
       "  { data: { id: 'node11', label: 4 }, position: { x: 0, y: 0 } },\n",
       "  { data: { id: 'edge12', source: 'node11', target: 'node3' } },\n",
       "  { data: { id: 'edge13', source: 'node11', target: 'node8' } },\n",
       "  { data: { id: 'node3', label: 2 }, position: { x: -100, y: 50 } },\n",
       "  { data: { id: 'edge4', source: 'node3', target: 'leaf1' } },\n",
       "  { data: { id: 'edge5', source: 'node3', target: 'leaf2' } },\n",
       "  { data: { id: 'leaf1' }, position: { x: -150, y: 100 } },\n",
       "  { data: { id: 'leaf2' }, position: { x: -50, y: 100 } },\n",
       "  { data: { id: 'node8', label: 3 }, position: { x: 100, y: 50 } },\n",
       "  { data: { id: 'edge9', source: 'node8', target: 'leaf6' } },\n",
       "  { data: { id: 'edge10', source: 'node8', target: 'leaf7' } },\n",
       "  { data: { id: 'leaf6' }, position: { x: 50, y: 100 } },\n",
       "  { data: { id: 'leaf7' }, position: { x: 150, y: 100 } }\n",
       "]\n",
       "         });\n",
       "     });\n",
       " })(this.element);\n",
       "</script>\n"
      ]
     },
     "metadata": {},
     "output_type": "display_data"
    }
   ],
   "source": [
    "drawTree(tree.t3);\n",
    "drawTree(mapTree((x: number) => x + 1, tree.t3));"
   ]
  },
  {
   "cell_type": "code",
   "execution_count": 31,
   "id": "db86e221",
   "metadata": {},
   "outputs": [],
   "source": [
    "function filterTree<T>(predicate: (elem: T) => boolean, t: tree.Tree<T>): T[] {\n",
    "    switch (t.tag) {\n",
    "        case tree._Tree.LEAF: {\n",
    "            return [];\n",
    "        }\n",
    "        case tree._Tree.NODE: {\n",
    "            if (predicate(t.contents)) {\n",
    "                return [t.contents].concat(filterTree(predicate, t.left)).concat(filterTree(predicate, t.right));\n",
    "            } else {\n",
    "                return filterTree(predicate, t.left).concat(filterTree(predicate, t.right));\n",
    "            }\n",
    "        }\n",
    "    }\n",
    "}"
   ]
  },
  {
   "cell_type": "code",
   "execution_count": 41,
   "id": "bbeede16",
   "metadata": {},
   "outputs": [
    {
     "data": {
      "text/html": [
       "\n",
       "<style>\n",
       "    #mydiv0a189e20-901c-453e-a219-418a825e000e {\n",
       "        width: 800px;\n",
       "        height: 350px;\n",
       "        top: 0px;\n",
       "        left: 0px;\n",
       "    }\n",
       "</style>\n",
       "<div id=\"mydiv0a189e20-901c-453e-a219-418a825e000e\"></div>\n"
      ]
     },
     "metadata": {},
     "output_type": "display_data"
    },
    {
     "data": {
      "text/html": [
       "\n",
       "<script>\n",
       " (function(element) {\n",
       "     require(['cytoscape'], function(cytoscape) {   \n",
       "        var cy = cytoscape({\n",
       "         container: document.getElementById('mydiv0a189e20-901c-453e-a219-418a825e000e'),\n",
       "         style: [\n",
       "{\n",
       "  selector: 'node',\n",
       "  css: {\n",
       "    'class': \".bx--tree\",\n",
       "    'label': 'data(label)',\n",
       "    'height': '10px',\n",
       "    'width': '10px',\n",
       "  }\n",
       "},\n",
       "{\n",
       "  selector: 'edge',\n",
       "  css: {\n",
       "    'width': 3,\n",
       "    // 'line-color': '#ccc123',\n",
       "    'curve-style': 'bezier',\n",
       "    'target-arrow-shape': 'triangle',\n",
       "    'target-arrow-fill': 'filled',\n",
       "    'arrow-scale': 1,\n",
       "  }\n",
       "}\n",
       "],\n",
       "         layout: \n",
       "{\n",
       "  name: 'preset'\n",
       "}\n",
       ",\n",
       "         elements: [\n",
       "  { data: { id: 'node11', label: 3 }, position: { x: 0, y: 0 } },\n",
       "  { data: { id: 'edge12', source: 'node11', target: 'node3' } },\n",
       "  { data: { id: 'edge13', source: 'node11', target: 'node8' } },\n",
       "  { data: { id: 'node3', label: 1 }, position: { x: -100, y: 50 } },\n",
       "  { data: { id: 'edge4', source: 'node3', target: 'leaf1' } },\n",
       "  { data: { id: 'edge5', source: 'node3', target: 'leaf2' } },\n",
       "  { data: { id: 'leaf1' }, position: { x: -150, y: 100 } },\n",
       "  { data: { id: 'leaf2' }, position: { x: -50, y: 100 } },\n",
       "  { data: { id: 'node8', label: 2 }, position: { x: 100, y: 50 } },\n",
       "  { data: { id: 'edge9', source: 'node8', target: 'leaf6' } },\n",
       "  { data: { id: 'edge10', source: 'node8', target: 'leaf7' } },\n",
       "  { data: { id: 'leaf6' }, position: { x: 50, y: 100 } },\n",
       "  { data: { id: 'leaf7' }, position: { x: 150, y: 100 } }\n",
       "]\n",
       "         });\n",
       "     });\n",
       " })(this.element);\n",
       "</script>\n"
      ]
     },
     "metadata": {},
     "output_type": "display_data"
    },
    {
     "name": "stdout",
     "output_type": "stream",
     "text": [
      "[ 3, 1, 2 ]\n"
     ]
    }
   ],
   "source": [
    "drawTree(tree.t3);\n",
    "filterTree((x: number) => x<8, tree.t3);"
   ]
  },
  {
   "cell_type": "markdown",
   "id": "097f161e",
   "metadata": {},
   "source": [
    "### Map/Filter/Reduce on JSON (another ADT)\n",
    "\n",
    "- JSON is a standard data-structure\n",
    "- A lot of data is stored in json"
   ]
  },
  {
   "cell_type": "code",
   "execution_count": 33,
   "id": "9fb3a6ad",
   "metadata": {},
   "outputs": [],
   "source": [
    "const someJson = [\n",
    "    { id: 1, rating: 1 },\n",
    "    { id: 2, rating: 2 },\n",
    "    { id: 3, rating: 3, extra: { user: \"John\" } }, // extra nests JSON inside of a JSON object\n",
    "    { id: 4, rating: 4 },\n",
    "    { id: 5, rating: 5 },\n",
    "    { id: 6, rating: 2, extra: { user: \"Jane\", location: \"San Francisco\" } },\n",
    "    { id: 7, rating: 2 },\n",
    "    { id: 8, rating: 1 },\n",
    "    { id: 9, rating: 1 }\n",
    "]"
   ]
  },
  {
   "cell_type": "code",
   "execution_count": 34,
   "id": "8a1816e5",
   "metadata": {},
   "outputs": [],
   "source": [
    "const someJson2 = [\n",
    "    {\"url\": \"one.com\",\"links\": [ {\"url\": \"two.com\", \"links\": []},{\"url\": \"three.com\", \"links\": [],}]},\n",
    "    {\"url\": \"four.com\",\"links\": [{\"url\": \"seven.com\", \"links\": [{\"url\": \"one.com\",\"links\": [{ \"url\": \"eight.com\",\"links\": []}]}],},{ \"url\": \"three.com\", \"links\": [],}]}]"
   ]
  },
  {
   "cell_type": "code",
   "execution_count": 35,
   "id": "aaa47cf2",
   "metadata": {},
   "outputs": [
    {
     "name": "stdout",
     "output_type": "stream",
     "text": [
      "2/3/4/5/2/2/\n"
     ]
    }
   ],
   "source": [
    "someJson.filter((data) => data.rating >= 2 )\n",
    "        .map((data) => data.rating + \"/\")\n",
    "        .reduce((x, y) => x + y)\n"
   ]
  },
  {
   "cell_type": "code",
   "execution_count": 36,
   "id": "738c6d45",
   "metadata": {},
   "outputs": [
    {
     "name": "stderr",
     "output_type": "stream",
     "text": [
      "1:28 - Operator '>=' cannot be applied to types '{ url: string; links: { url: string; links: { url: string; links: any[]; }[]; }[]; }[]' and 'number'.\n"
     ]
    }
   ],
   "source": [
    "someJson2.filter((data) => data.links >= 2 )\n",
    "        .map((data) => data.links + \"/\")\n",
    "        .reduce((x, y) => x + y)"
   ]
  },
  {
   "cell_type": "markdown",
   "id": "2d743bd9",
   "metadata": {},
   "source": [
    "## First-Class Functions and Recursion\n",
    "\n",
    "Impractical but food for thought ...\n",
    "\n",
    "- What's the connection between first-class functions and recursion?"
   ]
  },
  {
   "cell_type": "code",
   "execution_count": null,
   "id": "c4e928aa",
   "metadata": {},
   "outputs": [],
   "source": [
    "function factorial(n: number): number {\n",
    "    if (n == 0) {\n",
    "        return 1;\n",
    "    } else {\n",
    "        return n * factorial(n - 1);\n",
    "    }\n",
    "}\n",
    "\n",
    "factorial(3);"
   ]
  },
  {
   "cell_type": "code",
   "execution_count": null,
   "id": "b24ed1dd",
   "metadata": {},
   "outputs": [],
   "source": [
    "function fcFactorial(iWishIcouldRecurseFactorial) {\n",
    "    // Suppose I didn't have recursion but I had first-class functions\n",
    "    // Note: You can return functions\n",
    "    return (n) => {\n",
    "        if (n == 0) {\n",
    "            return 1;\n",
    "        } else {\n",
    "            return n * iWishIcouldRecurseFactorial(n - 1);\n",
    "        }        \n",
    "    }\n",
    "}\n",
    "\n",
    "fcFactorial(factorial)(3);  // Problem: I still need to write factorial without recursion (and loops)"
   ]
  },
  {
   "cell_type": "markdown",
   "id": "f741121f",
   "metadata": {},
   "source": [
    "### The Y Combinator and Fixed-Points\n",
    "\n",
    "The \"equation\" for Theory B."
   ]
  },
  {
   "cell_type": "code",
   "execution_count": null,
   "id": "28badde2",
   "metadata": {},
   "outputs": [],
   "source": [
    "(x => y => x - y)(1)(2) // Anonymous function returning an anonymous function"
   ]
  },
  {
   "cell_type": "code",
   "execution_count": null,
   "id": "1c5a59a9",
   "metadata": {},
   "outputs": [],
   "source": [
    "// Deep question 1: why no types? (static vs. dynamic types, logic vs. computation)\n",
    "// Deep question 2: why y => f(x(x))(y) instead of just f(x(x))? (evaluation order)\n",
    "// Deep question 3: earlier you connected ADTs and recursion. what is the ADT for first-class functions?\n",
    "const Y = f => (x => y => f(x(x))(y))(x => y => f(x(x))(y));\n",
    "\n",
    "function fix(f) {\n",
    "    return x => f(fix(f))(x);\n",
    "}"
   ]
  },
  {
   "cell_type": "code",
   "execution_count": null,
   "id": "b0c0bef4",
   "metadata": {},
   "outputs": [],
   "source": [
    "const recFcFactorial = fix(fcFactorial);\n",
    "recFcFactorial(3);"
   ]
  },
  {
   "cell_type": "markdown",
   "id": "66b95cbd",
   "metadata": {},
   "source": [
    "## Summary of First-Class Functions\n",
    "\n",
    "1. You can assign functions to ordinary variables.\n",
    "2. You can pass functions in as function arguments\n",
    "3. You can return functions as values from functions.\n",
    "4. Fun fact: you can encode recursion if you have first-class functions"
   ]
  },
  {
   "cell_type": "markdown",
   "id": "c7a2b21e",
   "metadata": {},
   "source": [
    "## Story for Today\n",
    "\n",
    "1. We tried to write a function that does some operations on a collection.\n",
    "2. We saw that we could use a first-class function to help with the problem of copy-paste when those operations change.\n",
    "3. Map/filter/reduce are examples of first-class functions that operate on arrays.\n",
    "4. And finally on trees, JSON, and in general, any ADT.\n",
    "5. At the end, we saw a deep connection between first-class functions and recursion."
   ]
  },
  {
   "cell_type": "code",
   "execution_count": null,
   "id": "1fc66715",
   "metadata": {},
   "outputs": [],
   "source": []
  }
 ],
 "metadata": {
  "kernelspec": {
   "display_name": "TypeScript",
   "language": "typescript",
   "name": "tslab"
  },
  "language_info": {
   "codemirror_mode": {
    "mode": "typescript",
    "name": "javascript",
    "typescript": true
   },
   "file_extension": ".ts",
   "mimetype": "text/typescript",
   "name": "typescript",
   "version": "3.7.2"
  }
 },
 "nbformat": 4,
 "nbformat_minor": 5
}
